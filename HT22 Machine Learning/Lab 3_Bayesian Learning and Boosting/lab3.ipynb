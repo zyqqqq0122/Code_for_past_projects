{
  "cells": [
    {
      "cell_type": "markdown",
      "metadata": {
        "id": "HuYt6hnxvusY"
      },
      "source": [
        "# Lab 3: Bayes Classifier and Boosting"
      ]
    },
    {
      "cell_type": "markdown",
      "metadata": {
        "id": "7YAkgTjZvusc"
      },
      "source": [
        "## Jupyter notebooks\n",
        "\n",
        "In this lab, you can use Jupyter <https://jupyter.org/> to get a nice layout of your code and plots in one document. However, you may also use Python as usual, without Jupyter.\n",
        "\n",
        "If you have Python and pip, you can install Jupyter with `sudo pip install jupyter`. Otherwise you can follow the instruction on <http://jupyter.readthedocs.org/en/latest/install.html>.\n",
        "\n",
        "And that is everything you need! Now use a terminal to go into the folder with the provided lab files. Then run `jupyter notebook` to start a session in that folder. Click `lab3.ipynb` in the browser window that appeared to start this very notebook. You should click on the cells in order and either press `ctrl+enter` or `run cell` in the toolbar above to evaluate all the expressions.\n",
        "\n",
        "Be sure to put `%matplotlib inline` at the top of every code cell where you call plotting functions to get the resulting plots inside the document."
      ]
    },
    {
      "cell_type": "markdown",
      "metadata": {
        "id": "L32dkUbmvusd"
      },
      "source": [
        "## Import the libraries\n",
        "\n",
        "In Jupyter, select the cell below and press `ctrl + enter` to import the needed libraries.\n",
        "Check out `labfuns.py` if you are interested in the details."
      ]
    },
    {
      "cell_type": "code",
      "execution_count": null,
      "metadata": {
        "id": "qXwYKnE0vusd"
      },
      "outputs": [],
      "source": [
        "import numpy as np\n",
        "from scipy import misc\n",
        "from imp import reload\n",
        "# from labfuns import *\n",
        "import random\n",
        "import math"
      ]
    },
    {
      "cell_type": "code",
      "source": [
        "from __future__ import absolute_import, division, print_function\n",
        "import numpy as np\n",
        "from numpy import genfromtxt\n",
        "import matplotlib.pyplot as plt\n",
        "import matplotlib.cm as cm\n",
        "from matplotlib.patches import Ellipse\n",
        "from matplotlib.colors import ColorConverter\n",
        "import random as rnd\n",
        "from sklearn.datasets import make_blobs\n",
        "from sklearn import decomposition, tree\n",
        "\n",
        "# import seaborn as sns\n",
        "# sns.set()\n",
        "\n",
        "def plot_cov_ellipse(cov, pos, nstd=2, ax=None, **kwargs):\n",
        "    \"\"\"\n",
        "    Plots an `nstd` sigma error ellipse based on the specified covariance\n",
        "    matrix (`cov`). Additional keyword arguments are passed on to the\n",
        "    ellipse patch artist.\n",
        "\n",
        "    Parameters\n",
        "    ----------\n",
        "        cov : The 2x2 covariance matrix to base the ellipse on\n",
        "        pos : The location of the center of the ellipse. Expects a 2-element\n",
        "            sequence of [x0, y0].\n",
        "        nstd : The radius of the ellipse in numbers of standard deviations.\n",
        "            Defaults to 2 standard deviations.\n",
        "        ax : The axis that the ellipse will be plotted on. Defaults to the\n",
        "            current axis.\n",
        "        Additional keyword arguments are pass on to the ellipse patch.\n",
        "\n",
        "    Returns\n",
        "    -------\n",
        "        A matplotlib ellipse artist\n",
        "    \"\"\"\n",
        "    def eigsorted(cov):\n",
        "        vals, vecs = np.linalg.eigh(cov)\n",
        "        order = vals.argsort()[::-1]\n",
        "        return vals[order], vecs[:,order]\n",
        "\n",
        "    if ax is None:\n",
        "        ax = plt.gca()\n",
        "\n",
        "    vals, vecs = eigsorted(cov)\n",
        "    theta = np.degrees(np.arctan2(*vecs[:,0][::-1]))\n",
        "\n",
        "    # Width and height are \"full\" widths, not radius\n",
        "    width, height = 2 * nstd * np.sqrt(vals)\n",
        "    ellip = Ellipse(xy=pos, width=width, height=height, angle=theta, **kwargs)\n",
        "    ellip.set_alpha(0.25)\n",
        "\n",
        "    ax.add_artist(ellip)\n",
        "    return ellip\n",
        "\n",
        "\n",
        "# Splits data into training and test set, pcSplit defines the percent of\n",
        "# the data should be used as training data.\n",
        "def trteSplit(X,y,pcSplit,seed=None):\n",
        "    # Compute split indices\n",
        "    Ndata = X.shape[0]\n",
        "    Ntr = int(np.rint(Ndata*pcSplit))\n",
        "    Nte = Ndata-Ntr\n",
        "    np.random.seed(seed)    \n",
        "    idx = np.random.permutation(Ndata)\n",
        "    trIdx = idx[:Ntr]\n",
        "    teIdx = idx[Ntr:]\n",
        "    # Split data\n",
        "    xTr = X[trIdx,:]\n",
        "    yTr = y[trIdx]\n",
        "    xTe = X[teIdx,:]\n",
        "    yTe = y[teIdx]\n",
        "    return xTr,yTr,xTe,yTe,trIdx,teIdx\n",
        "\n",
        "\n",
        "# Splits data into training and test set, pcSplit defines the percent of\n",
        "# the data should be used as training data. The major difference to\n",
        "# trteSplit is that we select the percent from each class individually.\n",
        "# This means that we are assured to have enough points for each class.\n",
        "def trteSplitEven(X,y,pcSplit,seed=None):\n",
        "    labels = np.unique(y)\n",
        "    xTr = np.zeros((0,X.shape[1]))\n",
        "    xTe = np.zeros((0,X.shape[1]))\n",
        "    yTe = np.zeros((0,),dtype=int)\n",
        "    yTr = np.zeros((0,),dtype=int)\n",
        "    trIdx = np.zeros((0,),dtype=int)\n",
        "    teIdx = np.zeros((0,),dtype=int)\n",
        "    np.random.seed(seed)\n",
        "    for label in labels:\n",
        "        classIdx = np.where(y==label)[0]\n",
        "        NPerClass = len(classIdx)\n",
        "        Ntr = int(np.rint(NPerClass*pcSplit))\n",
        "        idx = np.random.permutation(NPerClass)\n",
        "        trClIdx = classIdx[idx[:Ntr]]\n",
        "        teClIdx = classIdx[idx[Ntr:]]\n",
        "        trIdx = np.hstack((trIdx,trClIdx))\n",
        "        teIdx = np.hstack((teIdx,teClIdx))\n",
        "        # Split data\n",
        "        xTr = np.vstack((xTr,X[trClIdx,:]))\n",
        "        yTr = np.hstack((yTr,y[trClIdx]))\n",
        "        xTe = np.vstack((xTe,X[teClIdx,:]))\n",
        "        yTe = np.hstack((yTe,y[teClIdx]))\n",
        "\n",
        "    return xTr,yTr,xTe,yTe,trIdx,teIdx\n",
        "\n",
        "\n",
        "def fetchDataset(dataset='iris'):\n",
        "    if dataset == 'iris':\n",
        "        X = genfromtxt('/content/drive/MyDrive/irisX.txt', delimiter=',')\n",
        "        y = genfromtxt('/content/drive/MyDrive/irisY.txt', delimiter=',',dtype=np.int)-1\n",
        "        pcadim = 2\n",
        "    elif dataset == 'wine':\n",
        "        X = genfromtxt('wineX.txt', delimiter=',')\n",
        "        y = genfromtxt('wineY.txt', delimiter=',',dtype=np.int)-1\n",
        "        pcadim = 0\n",
        "    elif dataset == 'olivetti':\n",
        "        X = genfromtxt('/content/drive/MyDrive/olivettifacesX.txt', delimiter=',')\n",
        "        X = X/255\n",
        "        y = genfromtxt('/content/drive/MyDrive/olivettifacesY.txt', delimiter=',',dtype=np.int)\n",
        "        pcadim = 20\n",
        "    elif dataset == 'vowel':\n",
        "        X = genfromtxt('/content/drive/MyDrive/vowelX.txt', delimiter=',')\n",
        "        y = genfromtxt('/content/drive/MyDrive/vowelY.txt', delimiter=',',dtype=np.int)\n",
        "        pcadim = 0\n",
        "    else:\n",
        "        print(\"Please specify a dataset!\")\n",
        "        X = np.zeros(0)\n",
        "        y = np.zeros(0)\n",
        "        pcadim = 0\n",
        "\n",
        "    return X,y,pcadim\n",
        "\n",
        "\n",
        "def genBlobs(n_samples=200,centers=5,n_features=2):\n",
        "    X, y = make_blobs(n_samples=n_samples, centers=centers, n_features=n_features,random_state=0)\n",
        "    return X,y\n",
        "\n",
        "\n",
        "# Scatter plots the two first dimension of the given data matrix X\n",
        "# and colors the points by the labels.\n",
        "def scatter2D(X,y):\n",
        "    labels = np.unique(y)\n",
        "    Ncolors = len(labels)\n",
        "    xx = np.arange(Ncolors)\n",
        "    ys = [i+xx+(i*xx)**2 for i in range(Ncolors)]\n",
        "    colors = cm.rainbow(np.linspace(0, 1, len(ys)))\n",
        "    c = 1.0\n",
        "    for label in labels:\n",
        "        classIdx = np.where(y==label)[0]\n",
        "        Xclass = X[classIdx,:]\n",
        "        plt.scatter(Xclass[:,0],Xclass[:,1],linewidths=1,s=25,color=colors[label],marker='o',alpha=0.75)\n",
        "        c += 1.\n",
        "\n",
        "    plt.show()\n",
        "\n",
        "\n",
        "def plotGaussian(X,y,mu,sigma):\n",
        "    labels = np.unique(y)\n",
        "    Ncolors = len(labels)\n",
        "    xx = np.arange(Ncolors)\n",
        "    ys = [i+xx+(i*xx)**2 for i in range(Ncolors)]\n",
        "    colors = cm.rainbow(np.linspace(0, 1, len(ys)))\n",
        "    c = 1.0\n",
        "    for label in labels:\n",
        "        classIdx = y==label\n",
        "        Xclass = X[classIdx,:]\n",
        "        plot_cov_ellipse(sigma[label], mu[label])\n",
        "        plt.scatter(Xclass[:,0],Xclass[:,1],linewidths=1,s=25,color=colors[label],marker='o',alpha=0.75)\n",
        "        c += 1.\n",
        "\n",
        "    plt.show()\n",
        "\n",
        "\n",
        "# The function below, `testClassifier`, will be used to try out the different datasets.\n",
        "# `fetchDataset` can be provided with any of the dataset arguments `wine`, `iris`, `olivetti` and `vowel`.\n",
        "# Observe that we split the data into a **training** and a **testing** set.\n",
        "def testClassifier(classifier, dataset='iris', dim=0, split=0.7, ntrials=100):\n",
        "\n",
        "    X,y,pcadim = fetchDataset(dataset)\n",
        "\n",
        "    means = np.zeros(ntrials,);\n",
        "\n",
        "    for trial in range(ntrials):\n",
        "\n",
        "        xTr,yTr,xTe,yTe,trIdx,teIdx = trteSplitEven(X,y,split,trial)\n",
        "\n",
        "        # Do PCA replace default value if user provides it\n",
        "        if dim > 0:\n",
        "            pcadim = dim\n",
        "\n",
        "        if pcadim > 0:\n",
        "            pca = decomposition.PCA(n_components=pcadim)\n",
        "            pca.fit(xTr)\n",
        "            xTr = pca.transform(xTr)\n",
        "            xTe = pca.transform(xTe)\n",
        "\n",
        "        # Train\n",
        "        trained_classifier = classifier.trainClassifier(xTr, yTr)\n",
        "        # Predict\n",
        "        yPr = trained_classifier.classify(xTe)\n",
        "\n",
        "        # Compute classification error\n",
        "        if trial % 10 == 0:\n",
        "            print(\"Trial:\",trial,\"Accuracy\",\"%.3g\" % (100*np.mean((yPr==yTe).astype(float))) )\n",
        "\n",
        "        means[trial] = 100*np.mean((yPr==yTe).astype(float))\n",
        "\n",
        "    print(\"Final mean classification accuracy \", \"%.3g\" % (np.mean(means)), \"with standard deviation\", \"%.3g\" % (np.std(means)))\n",
        "\n",
        "\n",
        "# ## Plotting the decision boundary\n",
        "#\n",
        "# This is some code that you can use for plotting the decision boundary\n",
        "# boundary in the last part of the lab.\n",
        "def plotBoundary(classifier, dataset='iris', split=0.7):\n",
        "\n",
        "    X,y,pcadim = fetchDataset(dataset)\n",
        "    xTr,yTr,xTe,yTe,trIdx,teIdx = trteSplitEven(X,y,split,1)\n",
        "    classes = np.unique(y)\n",
        "\n",
        "    pca = decomposition.PCA(n_components=2)\n",
        "    pca.fit(xTr)\n",
        "\n",
        "    xTr = pca.transform(xTr)\n",
        "    xTe = pca.transform(xTe)\n",
        "\n",
        "    pX = np.vstack((xTr, xTe))\n",
        "    py = np.hstack((yTr, yTe))\n",
        "\n",
        "    # Train\n",
        "    trained_classifier = classifier.trainClassifier(xTr, yTr)\n",
        "\n",
        "    xRange = np.arange(np.min(pX[:,0]),np.max(pX[:,0]),np.abs(np.max(pX[:,0])-np.min(pX[:,0]))/100.0)\n",
        "    yRange = np.arange(np.min(pX[:,1]),np.max(pX[:,1]),np.abs(np.max(pX[:,1])-np.min(pX[:,1]))/100.0)\n",
        "\n",
        "    grid = np.zeros((yRange.size, xRange.size))\n",
        "\n",
        "    for (xi, xx) in enumerate(xRange):\n",
        "        for (yi, yy) in enumerate(yRange):\n",
        "            # Predict\n",
        "            grid[yi,xi] = trained_classifier.classify(np.array([[xx, yy]]))\n",
        "\n",
        "    \n",
        "    ys = [i+xx+(i*xx)**2 for i in range(len(classes))]\n",
        "    colormap = cm.rainbow(np.linspace(0, 1, len(ys)))\n",
        "\n",
        "    fig = plt.figure()\n",
        "    # plt.hold(True)\n",
        "    conv = ColorConverter()\n",
        "    for (color, c) in zip(colormap, classes):\n",
        "        try:\n",
        "            CS = plt.contour(xRange,yRange,(grid==c).astype(float),15,linewidths=0.25,colors=conv.to_rgba_array(color))\n",
        "        except ValueError:\n",
        "            pass\n",
        "        trClIdx = np.where(y[trIdx] == c)[0]\n",
        "        teClIdx = np.where(y[teIdx] == c)[0]\n",
        "        plt.scatter(xTr[trClIdx,0],xTr[trClIdx,1],marker='o',c=color,s=40,alpha=0.5, label=\"Class \"+str(c)+\" Train\")\n",
        "        plt.scatter(xTe[teClIdx,0],xTe[teClIdx,1],marker='*',c=color,s=50,alpha=0.8, label=\"Class \"+str(c)+\" Test\")\n",
        "    plt.legend(bbox_to_anchor=(1., 1), loc=2, borderaxespad=0.)\n",
        "    fig.subplots_adjust(right=0.7)\n",
        "    plt.show()\n",
        "\n",
        "\n",
        "def visualizeOlivettiVectors(xTr, Xte):\n",
        "    N = xTr.shape[0]\n",
        "    Xte = Xte.reshape(64, 64).transpose()\n",
        "    plt.subplot(1, 2, 1)\n",
        "    plt.xticks([])\n",
        "    plt.yticks([])\n",
        "    plt.title(\"Test image\")\n",
        "    plt.imshow(Xte, cmap=plt.get_cmap('gray'))\n",
        "    for i in range(0, N):\n",
        "        plt.subplot(N, 2, 2+2*i)\n",
        "        plt.xticks([])\n",
        "        plt.yticks([])\n",
        "        plt.title(\"Matched class training image %i\" % (i+1))\n",
        "        X = xTr[i, :].reshape(64, 64).transpose()\n",
        "        plt.imshow(X, cmap=plt.get_cmap('gray'))\n",
        "    plt.show()\n",
        "\n",
        "\n",
        "class DecisionTreeClassifier(object):\n",
        "    def __init__(self):\n",
        "        self.trained = False\n",
        "\n",
        "    def trainClassifier(self, Xtr, yTr, W=None):\n",
        "        rtn = DecisionTreeClassifier()\n",
        "        rtn.classifier = tree.DecisionTreeClassifier(max_depth=Xtr.shape[1]/2+1)\n",
        "        if W is None:\n",
        "            rtn.classifier.fit(Xtr, yTr)\n",
        "        else:\n",
        "            rtn.classifier.fit(Xtr, yTr, sample_weight=W.flatten())\n",
        "        rtn.trained = True\n",
        "        return rtn\n",
        "\n",
        "    def classify(self, X):\n",
        "        return self.classifier.predict(X)\n"
      ],
      "metadata": {
        "id": "S4svX_M8CFOD"
      },
      "execution_count": null,
      "outputs": []
    },
    {
      "cell_type": "markdown",
      "metadata": {
        "id": "3c7jboN2vuse"
      },
      "source": [
        "## Bayes classifier functions to implement\n",
        "\n",
        "The lab descriptions state what each function should do."
      ]
    },
    {
      "cell_type": "code",
      "source": [
        "from google.colab import drive\n",
        "drive.mount('/content/drive')"
      ],
      "metadata": {
        "colab": {
          "base_uri": "https://localhost:8080/"
        },
        "id": "m9tLXj3jFfUx",
        "outputId": "172a3b9e-bf67-4911-d064-eca3ac6dc620"
      },
      "execution_count": null,
      "outputs": [
        {
          "output_type": "stream",
          "name": "stdout",
          "text": [
            "Mounted at /content/drive\n"
          ]
        }
      ]
    },
    {
      "cell_type": "code",
      "execution_count": null,
      "metadata": {
        "collapsed": true,
        "id": "TAIXeCzUvuse"
      },
      "outputs": [],
      "source": [
        "from numpy.matrixlib.defmatrix import N\n",
        "# NOTE: you do not need to handle the W argument for this part!\n",
        "# in: labels - N vector of class labels\n",
        "# out: prior - C x 1 vector of class priors\n",
        "def computePrior(labels, W=None):\n",
        "    Npts = labels.shape[0]\n",
        "    if W is None:\n",
        "        W = np.ones((Npts,1))/Npts\n",
        "    else:\n",
        "        assert(W.shape[0] == Npts)\n",
        "    classes = np.unique(labels)\n",
        "    Nclasses = np.size(classes)\n",
        "\n",
        "    prior = np.zeros((Nclasses,1))\n",
        "\n",
        "    # TODO: compute the values of prior for each class!\n",
        "    # ==========================\n",
        "    '''\n",
        "    prior = (np.unique(labels, return_counts=True)[1]/Npts).reshape(-1, 1)\n",
        "    '''\n",
        "    for j, c in enumerate(classes):\n",
        "      i = np.where(labels == c)[0]\n",
        "      w = W[i]\n",
        "      prior[j] = np.sum(w) / np.sum(W)\n",
        "    # ==========================\n",
        "\n",
        "    return prior\n",
        "\n",
        "# NOTE: you do not need to handle the W argument for this part!\n",
        "# in:      X - N x d matrix of N data points\n",
        "#     labels - N vector of class labels\n",
        "# out:    mu - C x d matrix of class means (mu[i] - class i mean)\n",
        "#      sigma - C x d x d matrix of class covariances (sigma[i] - class i sigma)\n",
        "def mlParams(X, labels, W=None):\n",
        "    assert(X.shape[0]==labels.shape[0])\n",
        "    Npts,Ndims = np.shape(X)\n",
        "    classes = np.unique(labels)\n",
        "    Nclasses = np.size(classes)\n",
        "\n",
        "    if W is None:\n",
        "        W = np.ones((Npts,1))/float(Npts)\n",
        "\n",
        "    mu = np.zeros((Nclasses,Ndims))\n",
        "    sigma = np.zeros((Nclasses,Ndims,Ndims))\n",
        "\n",
        "    # TODO: fill in the code to compute mu and sigma!\n",
        "    # ==========================\n",
        "    # for jdx, c in enumerate(classes):\n",
        "    #   idx = np.where(labels == c)[0]\n",
        "    #   xi = X[idx,:]\n",
        "    #   mu[jdx] = np.mean(xi, axis=0)\n",
        "    #   t = xi - mu[jdx]\n",
        "    #   sigma[jdx] = np.diag(np.diag(np.dot(t.transpose(), t)/xi.shape[0]))\n",
        "   \n",
        "    for j, c in enumerate(classes):\n",
        "      i = np.where(labels == c)[0]\n",
        "      xi = np.dot(W[i].T, X[i,:])\n",
        "      mu[j] = xi / np.sum(W[i])\n",
        "      t = np.sqrt(W[i]) * (X[i,:] - mu[j])\n",
        "      sigma[j] = np.diag(np.diag(np.dot(t.transpose(), t)/np.sum(W[i])))\n",
        "    \n",
        "    # ==========================\n",
        "\n",
        "    return mu, sigma\n",
        "\n",
        "# in:      X - N x d matrix of M data points\n",
        "#      prior - C x 1 matrix of class priors\n",
        "#         mu - C x d matrix of class means (mu[i] - class i mean)\n",
        "#      sigma - C x d x d matrix of class covariances (sigma[i] - class i sigma)\n",
        "# out:     h - N vector of class predictions for test points\n",
        "def classifyBayes(X, prior, mu, sigma):\n",
        "\n",
        "    Npts = X.shape[0]\n",
        "    Nclasses,Ndims = np.shape(mu)\n",
        "    logProb = np.zeros((Nclasses, Npts))\n",
        "\n",
        "    # TODO: fill in the code to compute the log posterior logProb!\n",
        "    # ==========================\n",
        "    \n",
        "    for i in range(Nclasses):\n",
        "      for j in range(len(X)):\n",
        "        logProb[i, j] = -0.5*np.log(np.linalg.det(sigma[i])) \\\n",
        "                        -0.5*np.dot((X[j]-mu[i]), np.dot(np.diag(1.0 / np.diag(sigma[i])), (X[j]-mu[i]).T)) \\\n",
        "                        + np.log(prior[i])\n",
        "    \n",
        "    # ==========================\n",
        "    \n",
        "    # one possible way of finding max a-posteriori once\n",
        "    # you have computed the log posterior\n",
        "    h = np.argmax(logProb,axis=0)\n",
        "    return h"
      ]
    },
    {
      "cell_type": "markdown",
      "metadata": {
        "id": "2M-Pfu6Evusg"
      },
      "source": [
        "The implemented functions can now be summarized into the `BayesClassifier` class, which we will use later to test the classifier, no need to add anything else here:"
      ]
    },
    {
      "cell_type": "code",
      "execution_count": null,
      "metadata": {
        "collapsed": true,
        "id": "WxJQvV_Pvusg"
      },
      "outputs": [],
      "source": [
        "# NOTE: no need to touch this\n",
        "class BayesClassifier(object):\n",
        "    def __init__(self):\n",
        "        self.trained = False\n",
        "\n",
        "    def trainClassifier(self, X, labels, W=None):\n",
        "        rtn = BayesClassifier()\n",
        "        rtn.prior = computePrior(labels, W)\n",
        "        rtn.mu, rtn.sigma = mlParams(X, labels, W)\n",
        "        rtn.trained = True\n",
        "        return rtn\n",
        "\n",
        "    def classify(self, X):\n",
        "        return classifyBayes(X, self.prior, self.mu, self.sigma)"
      ]
    },
    {
      "cell_type": "markdown",
      "metadata": {
        "id": "_ENc8_OYvush"
      },
      "source": [
        "## Test the Maximum Likelihood estimates\n",
        "\n",
        "Call `genBlobs` and `plotGaussian` to verify your estimates."
      ]
    },
    {
      "cell_type": "code",
      "execution_count": null,
      "metadata": {
        "id": "zBQ-AFixvush",
        "colab": {
          "base_uri": "https://localhost:8080/",
          "height": 265
        },
        "outputId": "35f2df90-0aba-44ad-ee0d-b3c1dca65bba"
      },
      "outputs": [
        {
          "output_type": "display_data",
          "data": {
            "text/plain": [
              "<Figure size 432x288 with 1 Axes>"
            ],
            "image/png": "[encoded data removed]"
          },
          "metadata": {
            "needs_background": "light"
          }
        }
      ],
      "source": [
        "%matplotlib inline\n",
        "X, labels = genBlobs(centers=5)\n",
        "mu, sigma = mlParams(X,labels)\n",
        "plotGaussian(X,labels,mu,sigma)"
      ]
    },
    {
      "cell_type": "markdown",
      "metadata": {
        "id": "CZ07alQ2vusi"
      },
      "source": [
        "Call the `testClassifier` and `plotBoundary` functions for this part."
      ]
    },
    {
      "cell_type": "code",
      "execution_count": null,
      "metadata": {
        "id": "0o06CAhXvusi",
        "colab": {
          "base_uri": "https://localhost:8080/"
        },
        "outputId": "8e21ac3f-99ce-4485-d610-f3a665d81374"
      },
      "outputs": [
        {
          "output_type": "stream",
          "name": "stderr",
          "text": [
            "/usr/local/lib/python3.7/dist-packages/ipykernel_launcher.py:109: DeprecationWarning: `np.int` is a deprecated alias for the builtin `int`. To silence this warning, use `int` by itself. Doing this will not modify any behavior and is safe. When replacing `np.int`, you may wish to use e.g. `np.int64` or `np.int32` to specify the precision. If you wish to review your current use, check the release note link for additional information.\n",
            "Deprecated in NumPy 1.20; for more details and guidance: https://numpy.org/devdocs/release/1.20.0-notes.html#deprecations\n"
          ]
        },
        {
          "output_type": "stream",
          "name": "stdout",
          "text": [
            "Trial: 0 Accuracy 84.4\n",
            "Trial: 10 Accuracy 95.6\n",
            "Trial: 20 Accuracy 93.3\n",
            "Trial: 30 Accuracy 86.7\n",
            "Trial: 40 Accuracy 88.9\n",
            "Trial: 50 Accuracy 91.1\n",
            "Trial: 60 Accuracy 86.7\n",
            "Trial: 70 Accuracy 91.1\n",
            "Trial: 80 Accuracy 86.7\n",
            "Trial: 90 Accuracy 91.1\n",
            "Final mean classification accuracy  89 with standard deviation 4.16\n"
          ]
        }
      ],
      "source": [
        "# np.seterr(divide = 'ignore') \n",
        "testClassifier(BayesClassifier(), dataset='iris', split=0.7)\n",
        "# np.seterr(divide = 'warn') "
      ]
    },
    {
      "cell_type": "code",
      "execution_count": null,
      "metadata": {
        "id": "mvwfE1g2vusi",
        "colab": {
          "base_uri": "https://localhost:8080/"
        },
        "outputId": "ad42c4a6-ce8d-453f-9c5e-dce745881a8a"
      },
      "outputs": [
        {
          "output_type": "stream",
          "name": "stderr",
          "text": [
            "/usr/local/lib/python3.7/dist-packages/ipykernel_launcher.py:122: DeprecationWarning: `np.int` is a deprecated alias for the builtin `int`. To silence this warning, use `int` by itself. Doing this will not modify any behavior and is safe. When replacing `np.int`, you may wish to use e.g. `np.int64` or `np.int32` to specify the precision. If you wish to review your current use, check the release note link for additional information.\n",
            "Deprecated in NumPy 1.20; for more details and guidance: https://numpy.org/devdocs/release/1.20.0-notes.html#deprecations\n"
          ]
        },
        {
          "output_type": "stream",
          "name": "stdout",
          "text": [
            "Trial: 0 Accuracy 61\n",
            "Trial: 10 Accuracy 66.2\n",
            "Trial: 20 Accuracy 74\n",
            "Trial: 30 Accuracy 66.9\n",
            "Trial: 40 Accuracy 59.7\n",
            "Trial: 50 Accuracy 64.3\n",
            "Trial: 60 Accuracy 66.9\n",
            "Trial: 70 Accuracy 63.6\n",
            "Trial: 80 Accuracy 62.3\n",
            "Trial: 90 Accuracy 70.8\n",
            "Final mean classification accuracy  64.7 with standard deviation 4.03\n"
          ]
        }
      ],
      "source": [
        "testClassifier(BayesClassifier(), dataset='vowel', split=0.7)"
      ]
    },
    {
      "cell_type": "code",
      "execution_count": null,
      "metadata": {
        "id": "QU0Yf6ARvusj",
        "colab": {
          "base_uri": "https://localhost:8080/",
          "height": 428
        },
        "outputId": "a666f656-187c-4ca9-fd5f-e9979448c77b"
      },
      "outputs": [
        {
          "output_type": "stream",
          "name": "stderr",
          "text": [
            "/usr/local/lib/python3.7/dist-packages/ipykernel_launcher.py:109: DeprecationWarning: `np.int` is a deprecated alias for the builtin `int`. To silence this warning, use `int` by itself. Doing this will not modify any behavior and is safe. When replacing `np.int`, you may wish to use e.g. `np.int64` or `np.int32` to specify the precision. If you wish to review your current use, check the release note link for additional information.\n",
            "Deprecated in NumPy 1.20; for more details and guidance: https://numpy.org/devdocs/release/1.20.0-notes.html#deprecations\n",
            "WARNING:matplotlib.axes._axes:*c* argument looks like a single numeric RGB or RGBA sequence, which should be avoided as value-mapping will have precedence in case its length matches with *x* & *y*.  Please use the *color* keyword-argument or provide a 2-D array with a single row if you intend to specify the same RGB or RGBA value for all points.\n",
            "WARNING:matplotlib.axes._axes:*c* argument looks like a single numeric RGB or RGBA sequence, which should be avoided as value-mapping will have precedence in case its length matches with *x* & *y*.  Please use the *color* keyword-argument or provide a 2-D array with a single row if you intend to specify the same RGB or RGBA value for all points.\n",
            "WARNING:matplotlib.axes._axes:*c* argument looks like a single numeric RGB or RGBA sequence, which should be avoided as value-mapping will have precedence in case its length matches with *x* & *y*.  Please use the *color* keyword-argument or provide a 2-D array with a single row if you intend to specify the same RGB or RGBA value for all points.\n",
            "WARNING:matplotlib.axes._axes:*c* argument looks like a single numeric RGB or RGBA sequence, which should be avoided as value-mapping will have precedence in case its length matches with *x* & *y*.  Please use the *color* keyword-argument or provide a 2-D array with a single row if you intend to specify the same RGB or RGBA value for all points.\n",
            "WARNING:matplotlib.axes._axes:*c* argument looks like a single numeric RGB or RGBA sequence, which should be avoided as value-mapping will have precedence in case its length matches with *x* & *y*.  Please use the *color* keyword-argument or provide a 2-D array with a single row if you intend to specify the same RGB or RGBA value for all points.\n",
            "WARNING:matplotlib.axes._axes:*c* argument looks like a single numeric RGB or RGBA sequence, which should be avoided as value-mapping will have precedence in case its length matches with *x* & *y*.  Please use the *color* keyword-argument or provide a 2-D array with a single row if you intend to specify the same RGB or RGBA value for all points.\n"
          ]
        },
        {
          "output_type": "display_data",
          "data": {
            "text/plain": [
              "<Figure size 432x288 with 1 Axes>"
            ],
            "image/png": "[encoded data removed]"
          },
          "metadata": {
            "needs_background": "light"
          }
        }
      ],
      "source": [
        "%matplotlib inline\n",
        "plotBoundary(BayesClassifier(), dataset='iris',split=0.7)"
      ]
    },
    {
      "cell_type": "markdown",
      "metadata": {
        "id": "i3pPgjnTvusj"
      },
      "source": [
        "## Boosting functions to implement\n",
        "\n",
        "The lab descriptions state what each function should do."
      ]
    },
    {
      "cell_type": "code",
      "execution_count": null,
      "metadata": {
        "collapsed": true,
        "id": "fhhQJB81vusj"
      },
      "outputs": [],
      "source": [
        "# in: base_classifier - a classifier of the type that we will boost, e.g. BayesClassifier\n",
        "#                   X - N x d matrix of N data points\n",
        "#              labels - N vector of class labels\n",
        "#                   T - number of boosting iterations\n",
        "# out:    classifiers - (maximum) length T Python list of trained classifiers\n",
        "#              alphas - (maximum) length T Python list of vote weights\n",
        "def trainBoost(base_classifier, X, labels, T=10):\n",
        "    # these will come in handy later on\n",
        "    Npts,Ndims = np.shape(X)\n",
        "\n",
        "    classifiers = [] # append new classifiers to this list\n",
        "    alphas = [] # append the vote weight of the classifiers to this list\n",
        "\n",
        "    # The weights for the first iteration\n",
        "    wCur = np.ones((Npts,1))/float(Npts)\n",
        "\n",
        "    for i_iter in range(0, T):\n",
        "        # a new classifier can be trained like this, given the current weights\n",
        "        classifiers.append(base_classifier.trainClassifier(X, labels, wCur))\n",
        "\n",
        "        # do classification for each point\n",
        "        vote = classifiers[-1].classify(X)\n",
        "\n",
        "        # TODO: Fill in the rest, construct the alphas etc.\n",
        "        # ==========================  \n",
        "        error = 1e-15\n",
        "        for i in range(Npts):\n",
        "          if vote[i] != labels[i]:\n",
        "            error += wCur[i] \n",
        "        alpha = 0.5 * (np.log(1-error)-np.log(error))\n",
        "        \n",
        "        for i in range(Npts):\n",
        "          if vote[i] == labels[i]:\n",
        "            wCur[i] *= np.exp(-alpha)\n",
        "          else:\n",
        "            wCur[i] *= np.exp(alpha)\n",
        "\n",
        "        wCur /= np.sum(wCur)\n",
        "\n",
        "        alphas.append(alpha) \n",
        "        \n",
        "        # ==========================\n",
        "        \n",
        "    return classifiers, alphas\n",
        "\n",
        "# in:       X - N x d matrix of N data points\n",
        "# classifiers - (maximum) length T Python list of trained classifiers as above\n",
        "#      alphas - (maximum) length T Python list of vote weights\n",
        "#    Nclasses - the number of different classes\n",
        "# out:  yPred - N vector of class predictions for test points\n",
        "def classifyBoost(X, classifiers, alphas, Nclasses):\n",
        "    Npts = X.shape[0]\n",
        "    Ncomps = len(classifiers)\n",
        "\n",
        "    # if we only have one classifier, we may just classify directly\n",
        "    if Ncomps == 1:\n",
        "        return classifiers[0].classify(X)\n",
        "    else:\n",
        "        votes = np.zeros((Npts,Nclasses))\n",
        "\n",
        "        # TODO: implement classificiation when we have trained several classifiers!\n",
        "        # here we can do it by filling in the votes vector with weighted votes\n",
        "        # ==========================\n",
        "        for t in range(Ncomps):\n",
        "          vote_t = classifiers[t].classify(X)\n",
        "          for x, v in enumerate(vote_t):\n",
        "            votes[x, v] += alphas[t]\n",
        "        # ==========================\n",
        "\n",
        "        # one way to compute yPred after accumulating the votes\n",
        "        return np.argmax(votes,axis=1)"
      ]
    },
    {
      "cell_type": "markdown",
      "metadata": {
        "id": "Ec45Em6Rvusk"
      },
      "source": [
        "The implemented functions can now be summarized another classifer, the `BoostClassifier` class. This class enables boosting different types of classifiers by initializing it with the `base_classifier` argument. No need to add anything here."
      ]
    },
    {
      "cell_type": "code",
      "execution_count": null,
      "metadata": {
        "collapsed": true,
        "id": "IwgHUeVWvusk"
      },
      "outputs": [],
      "source": [
        "# NOTE: no need to touch this\n",
        "class BoostClassifier(object):\n",
        "    def __init__(self, base_classifier, T=10):\n",
        "        self.base_classifier = base_classifier\n",
        "        self.T = T\n",
        "        self.trained = False\n",
        "\n",
        "    def trainClassifier(self, X, labels):\n",
        "        rtn = BoostClassifier(self.base_classifier, self.T)\n",
        "        rtn.nbr_classes = np.size(np.unique(labels))\n",
        "        rtn.classifiers, rtn.alphas = trainBoost(self.base_classifier, X, labels, self.T)\n",
        "        rtn.trained = True\n",
        "        return rtn\n",
        "\n",
        "    def classify(self, X):\n",
        "        return classifyBoost(X, self.classifiers, self.alphas, self.nbr_classes)"
      ]
    },
    {
      "cell_type": "markdown",
      "metadata": {
        "id": "DOtDMtCXvusk"
      },
      "source": [
        "## Run some experiments\n",
        "\n",
        "Call the `testClassifier` and `plotBoundary` functions for this part."
      ]
    },
    {
      "cell_type": "code",
      "execution_count": null,
      "metadata": {
        "id": "nFkMyeG0vusl",
        "colab": {
          "base_uri": "https://localhost:8080/"
        },
        "outputId": "cdbcae7d-9a55-4d3d-849f-d26dc1f5d7cd"
      },
      "outputs": [
        {
          "output_type": "stream",
          "name": "stderr",
          "text": [
            "/usr/local/lib/python3.7/dist-packages/ipykernel_launcher.py:109: DeprecationWarning: `np.int` is a deprecated alias for the builtin `int`. To silence this warning, use `int` by itself. Doing this will not modify any behavior and is safe. When replacing `np.int`, you may wish to use e.g. `np.int64` or `np.int32` to specify the precision. If you wish to review your current use, check the release note link for additional information.\n",
            "Deprecated in NumPy 1.20; for more details and guidance: https://numpy.org/devdocs/release/1.20.0-notes.html#deprecations\n"
          ]
        },
        {
          "output_type": "stream",
          "name": "stdout",
          "text": [
            "Trial: 0 Accuracy 95.6\n",
            "Trial: 10 Accuracy 100\n",
            "Trial: 20 Accuracy 93.3\n",
            "Trial: 30 Accuracy 91.1\n",
            "Trial: 40 Accuracy 97.8\n",
            "Trial: 50 Accuracy 93.3\n",
            "Trial: 60 Accuracy 93.3\n",
            "Trial: 70 Accuracy 97.8\n",
            "Trial: 80 Accuracy 95.6\n",
            "Trial: 90 Accuracy 93.3\n",
            "Final mean classification accuracy  94.7 with standard deviation 2.82\n"
          ]
        }
      ],
      "source": [
        "testClassifier(BoostClassifier(BayesClassifier(), T=10), dataset='iris',split=0.7)"
      ]
    },
    {
      "cell_type": "code",
      "execution_count": null,
      "metadata": {
        "id": "NSfjKmSOvusl",
        "colab": {
          "base_uri": "https://localhost:8080/"
        },
        "outputId": "56ebbb9a-e28e-46be-9550-cfb73f450e90"
      },
      "outputs": [
        {
          "output_type": "stream",
          "name": "stderr",
          "text": [
            "/usr/local/lib/python3.7/dist-packages/ipykernel_launcher.py:122: DeprecationWarning: `np.int` is a deprecated alias for the builtin `int`. To silence this warning, use `int` by itself. Doing this will not modify any behavior and is safe. When replacing `np.int`, you may wish to use e.g. `np.int64` or `np.int32` to specify the precision. If you wish to review your current use, check the release note link for additional information.\n",
            "Deprecated in NumPy 1.20; for more details and guidance: https://numpy.org/devdocs/release/1.20.0-notes.html#deprecations\n"
          ]
        },
        {
          "output_type": "stream",
          "name": "stdout",
          "text": [
            "Trial: 0 Accuracy 76.6\n",
            "Trial: 10 Accuracy 86.4\n",
            "Trial: 20 Accuracy 83.1\n",
            "Trial: 30 Accuracy 80.5\n",
            "Trial: 40 Accuracy 72.7\n",
            "Trial: 50 Accuracy 76\n",
            "Trial: 60 Accuracy 81.8\n",
            "Trial: 70 Accuracy 82.5\n",
            "Trial: 80 Accuracy 79.9\n",
            "Trial: 90 Accuracy 83.1\n",
            "Final mean classification accuracy  80.2 with standard deviation 3.52\n"
          ]
        }
      ],
      "source": [
        "testClassifier(BoostClassifier(BayesClassifier(), T=10), dataset='vowel',split=0.7)"
      ]
    },
    {
      "cell_type": "code",
      "execution_count": null,
      "metadata": {
        "id": "NIWz-n7Gvusl",
        "colab": {
          "base_uri": "https://localhost:8080/",
          "height": 428
        },
        "outputId": "19664b65-cf78-44b0-8951-291d3356d764"
      },
      "outputs": [
        {
          "output_type": "stream",
          "name": "stderr",
          "text": [
            "/usr/local/lib/python3.7/dist-packages/ipykernel_launcher.py:109: DeprecationWarning: `np.int` is a deprecated alias for the builtin `int`. To silence this warning, use `int` by itself. Doing this will not modify any behavior and is safe. When replacing `np.int`, you may wish to use e.g. `np.int64` or `np.int32` to specify the precision. If you wish to review your current use, check the release note link for additional information.\n",
            "Deprecated in NumPy 1.20; for more details and guidance: https://numpy.org/devdocs/release/1.20.0-notes.html#deprecations\n",
            "WARNING:matplotlib.axes._axes:*c* argument looks like a single numeric RGB or RGBA sequence, which should be avoided as value-mapping will have precedence in case its length matches with *x* & *y*.  Please use the *color* keyword-argument or provide a 2-D array with a single row if you intend to specify the same RGB or RGBA value for all points.\n",
            "WARNING:matplotlib.axes._axes:*c* argument looks like a single numeric RGB or RGBA sequence, which should be avoided as value-mapping will have precedence in case its length matches with *x* & *y*.  Please use the *color* keyword-argument or provide a 2-D array with a single row if you intend to specify the same RGB or RGBA value for all points.\n",
            "WARNING:matplotlib.axes._axes:*c* argument looks like a single numeric RGB or RGBA sequence, which should be avoided as value-mapping will have precedence in case its length matches with *x* & *y*.  Please use the *color* keyword-argument or provide a 2-D array with a single row if you intend to specify the same RGB or RGBA value for all points.\n",
            "WARNING:matplotlib.axes._axes:*c* argument looks like a single numeric RGB or RGBA sequence, which should be avoided as value-mapping will have precedence in case its length matches with *x* & *y*.  Please use the *color* keyword-argument or provide a 2-D array with a single row if you intend to specify the same RGB or RGBA value for all points.\n",
            "WARNING:matplotlib.axes._axes:*c* argument looks like a single numeric RGB or RGBA sequence, which should be avoided as value-mapping will have precedence in case its length matches with *x* & *y*.  Please use the *color* keyword-argument or provide a 2-D array with a single row if you intend to specify the same RGB or RGBA value for all points.\n",
            "WARNING:matplotlib.axes._axes:*c* argument looks like a single numeric RGB or RGBA sequence, which should be avoided as value-mapping will have precedence in case its length matches with *x* & *y*.  Please use the *color* keyword-argument or provide a 2-D array with a single row if you intend to specify the same RGB or RGBA value for all points.\n"
          ]
        },
        {
          "output_type": "display_data",
          "data": {
            "text/plain": [
              "<Figure size 432x288 with 1 Axes>"
            ],
            "image/png": "[encoded data removed]"
          },
          "metadata": {
            "needs_background": "light"
          }
        }
      ],
      "source": [
        "%matplotlib inline\n",
        "plotBoundary(BoostClassifier(BayesClassifier()), dataset='iris',split=0.7)"
      ]
    },
    {
      "cell_type": "markdown",
      "metadata": {
        "id": "RD3g3POdvusl"
      },
      "source": [
        "Now repeat the steps with a decision tree classifier."
      ]
    },
    {
      "cell_type": "code",
      "execution_count": null,
      "metadata": {
        "id": "Cl-rIJZbvusm",
        "colab": {
          "base_uri": "https://localhost:8080/"
        },
        "outputId": "9fe02dc1-64ae-49b0-b82a-2c65a64635ed"
      },
      "outputs": [
        {
          "output_type": "stream",
          "name": "stderr",
          "text": [
            "/usr/local/lib/python3.7/dist-packages/ipykernel_launcher.py:109: DeprecationWarning: `np.int` is a deprecated alias for the builtin `int`. To silence this warning, use `int` by itself. Doing this will not modify any behavior and is safe. When replacing `np.int`, you may wish to use e.g. `np.int64` or `np.int32` to specify the precision. If you wish to review your current use, check the release note link for additional information.\n",
            "Deprecated in NumPy 1.20; for more details and guidance: https://numpy.org/devdocs/release/1.20.0-notes.html#deprecations\n"
          ]
        },
        {
          "output_type": "stream",
          "name": "stdout",
          "text": [
            "Trial: 0 Accuracy 95.6\n",
            "Trial: 10 Accuracy 100\n",
            "Trial: 20 Accuracy 91.1\n",
            "Trial: 30 Accuracy 91.1\n",
            "Trial: 40 Accuracy 93.3\n",
            "Trial: 50 Accuracy 91.1\n",
            "Trial: 60 Accuracy 88.9\n",
            "Trial: 70 Accuracy 88.9\n",
            "Trial: 80 Accuracy 93.3\n",
            "Trial: 90 Accuracy 88.9\n",
            "Final mean classification accuracy  92.4 with standard deviation 3.71\n"
          ]
        }
      ],
      "source": [
        "testClassifier(DecisionTreeClassifier(), dataset='iris', split=0.7)"
      ]
    },
    {
      "cell_type": "code",
      "execution_count": null,
      "metadata": {
        "id": "f4DWjWzQvusm",
        "colab": {
          "base_uri": "https://localhost:8080/"
        },
        "outputId": "ec05fbf6-92d1-4e50-80d9-f72e057d0aa5"
      },
      "outputs": [
        {
          "output_type": "stream",
          "name": "stderr",
          "text": [
            "/usr/local/lib/python3.7/dist-packages/ipykernel_launcher.py:109: DeprecationWarning: `np.int` is a deprecated alias for the builtin `int`. To silence this warning, use `int` by itself. Doing this will not modify any behavior and is safe. When replacing `np.int`, you may wish to use e.g. `np.int64` or `np.int32` to specify the precision. If you wish to review your current use, check the release note link for additional information.\n",
            "Deprecated in NumPy 1.20; for more details and guidance: https://numpy.org/devdocs/release/1.20.0-notes.html#deprecations\n"
          ]
        },
        {
          "output_type": "stream",
          "name": "stdout",
          "text": [
            "Trial: 0 Accuracy 95.6\n",
            "Trial: 10 Accuracy 100\n",
            "Trial: 20 Accuracy 95.6\n",
            "Trial: 30 Accuracy 91.1\n",
            "Trial: 40 Accuracy 93.3\n",
            "Trial: 50 Accuracy 95.6\n",
            "Trial: 60 Accuracy 88.9\n",
            "Trial: 70 Accuracy 93.3\n",
            "Trial: 80 Accuracy 93.3\n",
            "Trial: 90 Accuracy 93.3\n",
            "Final mean classification accuracy  94.6 with standard deviation 3.67\n"
          ]
        }
      ],
      "source": [
        "testClassifier(BoostClassifier(DecisionTreeClassifier(), T=10), dataset='iris',split=0.7)"
      ]
    },
    {
      "cell_type": "code",
      "execution_count": null,
      "metadata": {
        "id": "IEQpiIhYvusm",
        "colab": {
          "base_uri": "https://localhost:8080/"
        },
        "outputId": "e4ef1c24-592a-4248-a499-dd983608d9a1"
      },
      "outputs": [
        {
          "output_type": "stream",
          "name": "stderr",
          "text": [
            "/usr/local/lib/python3.7/dist-packages/ipykernel_launcher.py:122: DeprecationWarning: `np.int` is a deprecated alias for the builtin `int`. To silence this warning, use `int` by itself. Doing this will not modify any behavior and is safe. When replacing `np.int`, you may wish to use e.g. `np.int64` or `np.int32` to specify the precision. If you wish to review your current use, check the release note link for additional information.\n",
            "Deprecated in NumPy 1.20; for more details and guidance: https://numpy.org/devdocs/release/1.20.0-notes.html#deprecations\n"
          ]
        },
        {
          "output_type": "stream",
          "name": "stdout",
          "text": [
            "Trial: 0 Accuracy 63.6\n",
            "Trial: 10 Accuracy 68.8\n",
            "Trial: 20 Accuracy 63.6\n",
            "Trial: 30 Accuracy 66.9\n",
            "Trial: 40 Accuracy 59.7\n",
            "Trial: 50 Accuracy 63\n",
            "Trial: 60 Accuracy 59.7\n",
            "Trial: 70 Accuracy 68.8\n",
            "Trial: 80 Accuracy 59.7\n",
            "Trial: 90 Accuracy 68.2\n",
            "Final mean classification accuracy  64.1 with standard deviation 4\n"
          ]
        }
      ],
      "source": [
        "testClassifier(DecisionTreeClassifier(), dataset='vowel',split=0.7)"
      ]
    },
    {
      "cell_type": "code",
      "execution_count": null,
      "metadata": {
        "id": "0ITmV7_Mvusm",
        "colab": {
          "base_uri": "https://localhost:8080/"
        },
        "outputId": "61f6fd0b-f973-4b83-a808-1b91d527df15"
      },
      "outputs": [
        {
          "output_type": "stream",
          "name": "stderr",
          "text": [
            "/usr/local/lib/python3.7/dist-packages/ipykernel_launcher.py:122: DeprecationWarning: `np.int` is a deprecated alias for the builtin `int`. To silence this warning, use `int` by itself. Doing this will not modify any behavior and is safe. When replacing `np.int`, you may wish to use e.g. `np.int64` or `np.int32` to specify the precision. If you wish to review your current use, check the release note link for additional information.\n",
            "Deprecated in NumPy 1.20; for more details and guidance: https://numpy.org/devdocs/release/1.20.0-notes.html#deprecations\n"
          ]
        },
        {
          "output_type": "stream",
          "name": "stdout",
          "text": [
            "Trial: 0 Accuracy 87\n",
            "Trial: 10 Accuracy 89.6\n",
            "Trial: 20 Accuracy 86.4\n",
            "Trial: 30 Accuracy 91.6\n",
            "Trial: 40 Accuracy 80.5\n",
            "Trial: 50 Accuracy 81.8\n",
            "Trial: 60 Accuracy 89\n",
            "Trial: 70 Accuracy 87.7\n",
            "Trial: 80 Accuracy 84.4\n",
            "Trial: 90 Accuracy 85.7\n",
            "Final mean classification accuracy  86.5 with standard deviation 2.95\n"
          ]
        }
      ],
      "source": [
        "testClassifier(BoostClassifier(DecisionTreeClassifier(), T=10), dataset='vowel',split=0.7)"
      ]
    },
    {
      "cell_type": "code",
      "execution_count": null,
      "metadata": {
        "id": "_Y6tfdSKvusm",
        "colab": {
          "base_uri": "https://localhost:8080/",
          "height": 428
        },
        "outputId": "c5edfe85-2df4-416d-8e7b-9e5df9363051"
      },
      "outputs": [
        {
          "output_type": "stream",
          "name": "stderr",
          "text": [
            "/usr/local/lib/python3.7/dist-packages/ipykernel_launcher.py:109: DeprecationWarning: `np.int` is a deprecated alias for the builtin `int`. To silence this warning, use `int` by itself. Doing this will not modify any behavior and is safe. When replacing `np.int`, you may wish to use e.g. `np.int64` or `np.int32` to specify the precision. If you wish to review your current use, check the release note link for additional information.\n",
            "Deprecated in NumPy 1.20; for more details and guidance: https://numpy.org/devdocs/release/1.20.0-notes.html#deprecations\n",
            "WARNING:matplotlib.axes._axes:*c* argument looks like a single numeric RGB or RGBA sequence, which should be avoided as value-mapping will have precedence in case its length matches with *x* & *y*.  Please use the *color* keyword-argument or provide a 2-D array with a single row if you intend to specify the same RGB or RGBA value for all points.\n",
            "WARNING:matplotlib.axes._axes:*c* argument looks like a single numeric RGB or RGBA sequence, which should be avoided as value-mapping will have precedence in case its length matches with *x* & *y*.  Please use the *color* keyword-argument or provide a 2-D array with a single row if you intend to specify the same RGB or RGBA value for all points.\n",
            "WARNING:matplotlib.axes._axes:*c* argument looks like a single numeric RGB or RGBA sequence, which should be avoided as value-mapping will have precedence in case its length matches with *x* & *y*.  Please use the *color* keyword-argument or provide a 2-D array with a single row if you intend to specify the same RGB or RGBA value for all points.\n",
            "WARNING:matplotlib.axes._axes:*c* argument looks like a single numeric RGB or RGBA sequence, which should be avoided as value-mapping will have precedence in case its length matches with *x* & *y*.  Please use the *color* keyword-argument or provide a 2-D array with a single row if you intend to specify the same RGB or RGBA value for all points.\n",
            "WARNING:matplotlib.axes._axes:*c* argument looks like a single numeric RGB or RGBA sequence, which should be avoided as value-mapping will have precedence in case its length matches with *x* & *y*.  Please use the *color* keyword-argument or provide a 2-D array with a single row if you intend to specify the same RGB or RGBA value for all points.\n",
            "WARNING:matplotlib.axes._axes:*c* argument looks like a single numeric RGB or RGBA sequence, which should be avoided as value-mapping will have precedence in case its length matches with *x* & *y*.  Please use the *color* keyword-argument or provide a 2-D array with a single row if you intend to specify the same RGB or RGBA value for all points.\n"
          ]
        },
        {
          "output_type": "display_data",
          "data": {
            "text/plain": [
              "<Figure size 432x288 with 1 Axes>"
            ],
            "image/png": "[encoded data removed]"
          },
          "metadata": {
            "needs_background": "light"
          }
        }
      ],
      "source": [
        "%matplotlib inline\n",
        "plotBoundary(DecisionTreeClassifier(), dataset='iris',split=0.7)"
      ]
    },
    {
      "cell_type": "code",
      "execution_count": null,
      "metadata": {
        "id": "rwsvrYGbvusm",
        "colab": {
          "base_uri": "https://localhost:8080/",
          "height": 428
        },
        "outputId": "51541257-21fe-4b19-b12a-43c8bb59d73b"
      },
      "outputs": [
        {
          "output_type": "stream",
          "name": "stderr",
          "text": [
            "/usr/local/lib/python3.7/dist-packages/ipykernel_launcher.py:109: DeprecationWarning: `np.int` is a deprecated alias for the builtin `int`. To silence this warning, use `int` by itself. Doing this will not modify any behavior and is safe. When replacing `np.int`, you may wish to use e.g. `np.int64` or `np.int32` to specify the precision. If you wish to review your current use, check the release note link for additional information.\n",
            "Deprecated in NumPy 1.20; for more details and guidance: https://numpy.org/devdocs/release/1.20.0-notes.html#deprecations\n",
            "WARNING:matplotlib.axes._axes:*c* argument looks like a single numeric RGB or RGBA sequence, which should be avoided as value-mapping will have precedence in case its length matches with *x* & *y*.  Please use the *color* keyword-argument or provide a 2-D array with a single row if you intend to specify the same RGB or RGBA value for all points.\n",
            "WARNING:matplotlib.axes._axes:*c* argument looks like a single numeric RGB or RGBA sequence, which should be avoided as value-mapping will have precedence in case its length matches with *x* & *y*.  Please use the *color* keyword-argument or provide a 2-D array with a single row if you intend to specify the same RGB or RGBA value for all points.\n",
            "WARNING:matplotlib.axes._axes:*c* argument looks like a single numeric RGB or RGBA sequence, which should be avoided as value-mapping will have precedence in case its length matches with *x* & *y*.  Please use the *color* keyword-argument or provide a 2-D array with a single row if you intend to specify the same RGB or RGBA value for all points.\n",
            "WARNING:matplotlib.axes._axes:*c* argument looks like a single numeric RGB or RGBA sequence, which should be avoided as value-mapping will have precedence in case its length matches with *x* & *y*.  Please use the *color* keyword-argument or provide a 2-D array with a single row if you intend to specify the same RGB or RGBA value for all points.\n",
            "WARNING:matplotlib.axes._axes:*c* argument looks like a single numeric RGB or RGBA sequence, which should be avoided as value-mapping will have precedence in case its length matches with *x* & *y*.  Please use the *color* keyword-argument or provide a 2-D array with a single row if you intend to specify the same RGB or RGBA value for all points.\n",
            "WARNING:matplotlib.axes._axes:*c* argument looks like a single numeric RGB or RGBA sequence, which should be avoided as value-mapping will have precedence in case its length matches with *x* & *y*.  Please use the *color* keyword-argument or provide a 2-D array with a single row if you intend to specify the same RGB or RGBA value for all points.\n"
          ]
        },
        {
          "output_type": "display_data",
          "data": {
            "text/plain": [
              "<Figure size 432x288 with 1 Axes>"
            ],
            "image/png": "[encoded data removed]"
          },
          "metadata": {
            "needs_background": "light"
          }
        }
      ],
      "source": [
        "%matplotlib inline\n",
        "plotBoundary(BoostClassifier(DecisionTreeClassifier(), T=10), dataset='iris',split=0.7)"
      ]
    },
    {
      "cell_type": "markdown",
      "metadata": {
        "id": "Y5yJq2Zmvusm"
      },
      "source": [
        "## Bonus: Visualize faces classified using boosted decision trees\n",
        "\n",
        "Note that this part of the assignment is completely voluntary! First, let's check how a boosted decision tree classifier performs on the olivetti data. Note that we need to reduce the dimension a bit using PCA, as the original dimension of the image vectors is `64 x 64 = 4096` elements."
      ]
    },
    {
      "cell_type": "code",
      "execution_count": null,
      "metadata": {
        "id": "uyfqyX5Rvusm",
        "colab": {
          "base_uri": "https://localhost:8080/"
        },
        "outputId": "05eaf61b-9429-4b0a-a6ce-a95e5b433f06"
      },
      "outputs": [
        {
          "output_type": "stream",
          "name": "stderr",
          "text": [
            "/usr/local/lib/python3.7/dist-packages/ipykernel_launcher.py:118: DeprecationWarning: `np.int` is a deprecated alias for the builtin `int`. To silence this warning, use `int` by itself. Doing this will not modify any behavior and is safe. When replacing `np.int`, you may wish to use e.g. `np.int64` or `np.int32` to specify the precision. If you wish to review your current use, check the release note link for additional information.\n",
            "Deprecated in NumPy 1.20; for more details and guidance: https://numpy.org/devdocs/release/1.20.0-notes.html#deprecations\n"
          ]
        },
        {
          "output_type": "stream",
          "name": "stdout",
          "text": [
            "Trial: 0 Accuracy 88.3\n",
            "Trial: 10 Accuracy 90.8\n",
            "Trial: 20 Accuracy 85\n",
            "Trial: 30 Accuracy 89.2\n",
            "Trial: 40 Accuracy 89.2\n",
            "Trial: 50 Accuracy 84.2\n",
            "Trial: 60 Accuracy 91.7\n",
            "Trial: 70 Accuracy 82.5\n",
            "Trial: 80 Accuracy 81.7\n",
            "Trial: 90 Accuracy 86.7\n",
            "Final mean classification accuracy  87.7 with standard deviation 3.03\n"
          ]
        }
      ],
      "source": [
        "testClassifier(BayesClassifier(), dataset='olivetti',split=0.7, dim=20)"
      ]
    },
    {
      "cell_type": "code",
      "source": [
        "testClassifier(BoostClassifier(BayesClassifier(), T=10), dataset='olivetti',split=0.7, dim=20)"
      ],
      "metadata": {
        "colab": {
          "base_uri": "https://localhost:8080/"
        },
        "id": "ttZ8_Gx1EPb5",
        "outputId": "48e2c66b-4556-48a0-8bed-7e88ac816859"
      },
      "execution_count": null,
      "outputs": [
        {
          "output_type": "stream",
          "name": "stderr",
          "text": [
            "/usr/local/lib/python3.7/dist-packages/ipykernel_launcher.py:118: DeprecationWarning: `np.int` is a deprecated alias for the builtin `int`. To silence this warning, use `int` by itself. Doing this will not modify any behavior and is safe. When replacing `np.int`, you may wish to use e.g. `np.int64` or `np.int32` to specify the precision. If you wish to review your current use, check the release note link for additional information.\n",
            "Deprecated in NumPy 1.20; for more details and guidance: https://numpy.org/devdocs/release/1.20.0-notes.html#deprecations\n"
          ]
        },
        {
          "output_type": "stream",
          "name": "stdout",
          "text": [
            "Trial: 0 Accuracy 88.3\n",
            "Trial: 10 Accuracy 90.8\n",
            "Trial: 20 Accuracy 85\n",
            "Trial: 30 Accuracy 89.2\n",
            "Trial: 40 Accuracy 89.2\n",
            "Trial: 50 Accuracy 85\n",
            "Trial: 60 Accuracy 91.7\n",
            "Trial: 70 Accuracy 82.5\n",
            "Trial: 80 Accuracy 80\n",
            "Trial: 90 Accuracy 86.7\n",
            "Final mean classification accuracy  87.5 with standard deviation 3.12\n"
          ]
        }
      ]
    },
    {
      "cell_type": "code",
      "source": [
        "testClassifier(DecisionTreeClassifier(), dataset='olivetti',split=0.7, dim=20)"
      ],
      "metadata": {
        "colab": {
          "base_uri": "https://localhost:8080/"
        },
        "id": "GmoU1SPMGvp8",
        "outputId": "c8f938dc-d7ac-4bf6-c2e1-6bcfadd5502a"
      },
      "execution_count": null,
      "outputs": [
        {
          "output_type": "stream",
          "name": "stderr",
          "text": [
            "/usr/local/lib/python3.7/dist-packages/ipykernel_launcher.py:118: DeprecationWarning: `np.int` is a deprecated alias for the builtin `int`. To silence this warning, use `int` by itself. Doing this will not modify any behavior and is safe. When replacing `np.int`, you may wish to use e.g. `np.int64` or `np.int32` to specify the precision. If you wish to review your current use, check the release note link for additional information.\n",
            "Deprecated in NumPy 1.20; for more details and guidance: https://numpy.org/devdocs/release/1.20.0-notes.html#deprecations\n"
          ]
        },
        {
          "output_type": "stream",
          "name": "stdout",
          "text": [
            "Trial: 0 Accuracy 65.8\n",
            "Trial: 10 Accuracy 57.5\n",
            "Trial: 20 Accuracy 49.2\n",
            "Trial: 30 Accuracy 50\n",
            "Trial: 40 Accuracy 53.3\n",
            "Trial: 50 Accuracy 44.2\n",
            "Trial: 60 Accuracy 49.2\n",
            "Trial: 70 Accuracy 54.2\n",
            "Trial: 80 Accuracy 50\n",
            "Trial: 90 Accuracy 52.5\n",
            "Final mean classification accuracy  48.4 with standard deviation 6.45\n"
          ]
        }
      ]
    },
    {
      "cell_type": "code",
      "execution_count": null,
      "metadata": {
        "id": "BeVphmrCvusn",
        "colab": {
          "base_uri": "https://localhost:8080/"
        },
        "outputId": "afca00ef-5ed0-4edd-be20-173a62642f01"
      },
      "outputs": [
        {
          "output_type": "stream",
          "name": "stderr",
          "text": [
            "/usr/local/lib/python3.7/dist-packages/ipykernel_launcher.py:118: DeprecationWarning: `np.int` is a deprecated alias for the builtin `int`. To silence this warning, use `int` by itself. Doing this will not modify any behavior and is safe. When replacing `np.int`, you may wish to use e.g. `np.int64` or `np.int32` to specify the precision. If you wish to review your current use, check the release note link for additional information.\n",
            "Deprecated in NumPy 1.20; for more details and guidance: https://numpy.org/devdocs/release/1.20.0-notes.html#deprecations\n"
          ]
        },
        {
          "output_type": "stream",
          "name": "stdout",
          "text": [
            "Trial: 0 Accuracy 74.2\n",
            "Trial: 10 Accuracy 71.7\n",
            "Trial: 20 Accuracy 76.7\n",
            "Trial: 30 Accuracy 73.3\n",
            "Trial: 40 Accuracy 74.2\n",
            "Trial: 50 Accuracy 66.7\n",
            "Trial: 60 Accuracy 72.5\n",
            "Trial: 70 Accuracy 63.3\n",
            "Trial: 80 Accuracy 65.8\n",
            "Trial: 90 Accuracy 70.8\n",
            "Final mean classification accuracy  70.7 with standard deviation 6.73\n"
          ]
        }
      ],
      "source": [
        "testClassifier(BoostClassifier(DecisionTreeClassifier(), T=10), dataset='olivetti',split=0.7, dim=20)"
      ]
    },
    {
      "cell_type": "markdown",
      "metadata": {
        "id": "d4pQvDbDvusn"
      },
      "source": [
        "You should get an accuracy around 70%. If you wish, you can compare this with using pure decision trees or a boosted bayes classifier. Not too bad, now let's try and classify a face as belonging to one of 40 persons!"
      ]
    },
    {
      "cell_type": "code",
      "execution_count": null,
      "metadata": {
        "collapsed": true,
        "id": "McMlYzFcvusn",
        "colab": {
          "base_uri": "https://localhost:8080/",
          "height": 324
        },
        "outputId": "00254b51-8c5e-48e0-af63-1d4f00fbd860"
      },
      "outputs": [
        {
          "output_type": "stream",
          "name": "stderr",
          "text": [
            "/usr/local/lib/python3.7/dist-packages/ipykernel_launcher.py:118: DeprecationWarning: `np.int` is a deprecated alias for the builtin `int`. To silence this warning, use `int` by itself. Doing this will not modify any behavior and is safe. When replacing `np.int`, you may wish to use e.g. `np.int64` or `np.int32` to specify the precision. If you wish to review your current use, check the release note link for additional information.\n",
            "Deprecated in NumPy 1.20; for more details and guidance: https://numpy.org/devdocs/release/1.20.0-notes.html#deprecations\n"
          ]
        },
        {
          "output_type": "display_data",
          "data": {
            "text/plain": [
              "<Figure size 432x288 with 8 Axes>"
            ],
            "image/png": "[encoded data removed]"
          },
          "metadata": {}
        }
      ],
      "source": [
        "%matplotlib inline\n",
        "X,y,pcadim = fetchDataset('olivetti') # fetch the olivetti data\n",
        "xTr,yTr,xTe,yTe,trIdx,teIdx = trteSplitEven(X,y,0.7) # split into training and testing\n",
        "pca = decomposition.PCA(n_components=20) # use PCA to reduce the dimension to 20\n",
        "pca.fit(xTr) # use training data to fit the transform\n",
        "xTrpca = pca.transform(xTr) # apply on training data\n",
        "xTepca = pca.transform(xTe) # apply on test data\n",
        "# use our pre-defined decision tree classifier together with the implemented\n",
        "# boosting to classify data points in the training data\n",
        "classifier = BoostClassifier(DecisionTreeClassifier(), T=10).trainClassifier(xTrpca, yTr)\n",
        "yPr = classifier.classify(xTepca)\n",
        "# choose a test point to visualize\n",
        "testind = random.randint(0, xTe.shape[0]-1)\n",
        "# visualize the test point together with the training points used to train\n",
        "# the class that the test point was classified to belong to\n",
        "visualizeOlivettiVectors(xTr[yTr == yPr[testind],:], xTe[testind,:])"
      ]
    }
  ],
  "metadata": {
    "kernelspec": {
      "display_name": "Python 3",
      "name": "python3"
    },
    "language_info": {
      "name": "python"
    },
    "colab": {
      "provenance": [],
      "collapsed_sections": [
        "L32dkUbmvusd",
        "3c7jboN2vuse",
        "i3pPgjnTvusj"
      ]
    }
  },
  "nbformat": 4,
  "nbformat_minor": 0
}