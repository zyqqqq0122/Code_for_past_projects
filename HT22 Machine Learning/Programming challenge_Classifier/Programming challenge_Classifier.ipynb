{
 "cells": [
  {
   "cell_type": "code",
   "execution_count": 1,
   "metadata": {
    "collapsed": true,
    "pycharm": {
     "name": "#%%\n"
    }
   },
   "outputs": [],
   "source": [
    "import pandas as pd\n",
    "import numpy as np\n",
    "from sklearn.model_selection import cross_val_score\n",
    "from sklearn.preprocessing import StandardScaler\n",
    "from sklearn.ensemble import GradientBoostingClassifier\n",
    "from sklearn.ensemble import RandomForestClassifier\n",
    "from sklearn.ensemble import ExtraTreesClassifier\n",
    "from sklearn.svm import SVC\n",
    "from sklearn.feature_selection import SelectFromModel\n",
    "from sklearn.ensemble import VotingClassifier"
   ]
  },
  {
   "cell_type": "markdown",
   "source": [
    "## 0 Pre-precess Data"
   ],
   "metadata": {
    "collapsed": false,
    "pycharm": {
     "name": "#%% md\n"
    }
   }
  },
  {
   "cell_type": "markdown",
   "source": [
    "#### 0.1 Training Data"
   ],
   "metadata": {
    "collapsed": false,
    "pycharm": {
     "name": "#%% md\n"
    }
   }
  },
  {
   "cell_type": "code",
   "execution_count": 68,
   "outputs": [
    {
     "name": "stdout",
     "output_type": "stream",
     "text": [
      "[-0.21695 0.88123 -4.95144 -2.3789 2.18407 0.84635 4 1.70754 0.44414\n",
      " -9.29924 -1.26958 1 -3.56049] -2.3789 2.18407 1.70754 0.44414 -9.29924 -1.26958 (996, 13)\n",
      "[-2.3789 2.18407 1.70754 0.44414 -9.29924 -1.26958] (996, 6)\n",
      "selected features: x[3, 4, 7, 8, 9, 10]\n"
     ]
    }
   ],
   "source": [
    "# load data\n",
    "train_data = pd.read_csv('./TrainOnMe-4.csv', index_col=0)\n",
    "\n",
    "# delete nan\n",
    "train_data = train_data.dropna()\n",
    "\n",
    "# transform text to number\n",
    "labels = train_data.y.unique()\n",
    "labels.sort()\n",
    "x7 = train_data.x7.unique()\n",
    "x7.sort()\n",
    "x12 = train_data.x12.unique()\n",
    "x12.sort()\n",
    "\n",
    "# replace 'Atsuto' with 0, 'Bob' with 1, 'Jorg' with 2\n",
    "for i in range(len(labels)):\n",
    "    train_data.loc[train_data['y'] == labels[i], 'y'] = i\n",
    "\n",
    "# Correct 'chottis' and 'olka'\n",
    "train_data.loc[train_data['x7'] == 'chottis', 'x7'] = 'Schottis'\n",
    "train_data.loc[train_data['x7'] == 'olka', 'x7'] = 'Polka'\n",
    "# replace x7\n",
    "x7 = x7[:5]\n",
    "for i in range(len(x7)):\n",
    "    train_data.loc[train_data['x7'] == x7[i], 'x7'] = i\n",
    "\n",
    "# replace 'False' or 'Nope False' with 0, 'True' or 'YEP True' with 1\n",
    "train_data.loc[train_data['x12'] == x12[0], 'x12'] = 0\n",
    "train_data.loc[train_data['x12'] == x12[1], 'x12'] = 0\n",
    "train_data.loc[train_data['x12'] == x12[2], 'x12'] = 1\n",
    "train_data.loc[train_data['x12'] == x12[3], 'x12'] = 1\n",
    "\n",
    "# delete extreme elements\n",
    "train_data = train_data.drop(train_data.index[57])\n",
    "train_data = train_data.drop(train_data.index[197])\n",
    "train_data = train_data.drop(train_data.index[953])\n",
    "train_data = np.array(train_data)   # (996, 14), object\n",
    "train_data[:, 4] = np.array([float(train_data[:, 4][i]) for i in range(len(train_data[:, 4]))])\n",
    "\n",
    "# define dataset X and label y\n",
    "X = train_data[:, 1:]\n",
    "y = train_data[:, 0]\n",
    "y = y.astype('int')\n",
    "print(X[0], X[0][3], X[0][4], X[0][7], X[0][8], X[0][9], X[0][10], X.shape)\n",
    "\n",
    "# delete irrelevant features\n",
    "clf = GradientBoostingClassifier(learning_rate=0.05, n_estimators=300, max_depth=4, max_features='sqrt')\n",
    "clf.fit(X, y)\n",
    "model = SelectFromModel(clf, prefit=True)\n",
    "X = model.transform(X)\n",
    "print(X[0], X.shape)\n",
    "\n",
    "# standardize data\n",
    "scaler = StandardScaler()\n",
    "X = scaler.fit_transform(X)\n",
    "print('selected features: x[3, 4, 7, 8, 9, 10]')"
   ],
   "metadata": {
    "collapsed": false,
    "pycharm": {
     "name": "#%%\n"
    }
   }
  },
  {
   "cell_type": "markdown",
   "source": [
    "#### 0.2 Testing Data"
   ],
   "metadata": {
    "collapsed": false,
    "pycharm": {
     "name": "#%% md\n"
    }
   }
  },
  {
   "cell_type": "code",
   "execution_count": 69,
   "outputs": [
    {
     "name": "stdout",
     "output_type": "stream",
     "text": [
      "(10000, 6)\n"
     ]
    }
   ],
   "source": [
    "eval_data = pd.read_csv('./EvaluateOnMe-4.csv', index_col=0)\n",
    "eval_data = eval_data.drop(eval_data.columns[[0, 1, 2, 5, 6, 11, 12]], axis=1)\n",
    "eval_data = np.array(eval_data)\n",
    "scaler = StandardScaler()\n",
    "eval_data = scaler.fit_transform(eval_data)\n",
    "print(eval_data.shape)"
   ],
   "metadata": {
    "collapsed": false,
    "pycharm": {
     "name": "#%%\n"
    }
   }
  },
  {
   "cell_type": "markdown",
   "source": [
    "## 1 Train Model"
   ],
   "metadata": {
    "collapsed": false,
    "pycharm": {
     "name": "#%% md\n"
    }
   }
  },
  {
   "cell_type": "code",
   "execution_count": 72,
   "outputs": [
    {
     "name": "stdout",
     "output_type": "stream",
     "text": [
      "Ensemble: [0.77911647 0.81927711 0.79518072 0.79116466] 0.7961847389558233\n"
     ]
    }
   ],
   "source": [
    "clf1 = GradientBoostingClassifier(learning_rate=0.05, n_estimators=300, max_depth=4, max_features='sqrt')\n",
    "clf2 = RandomForestClassifier(n_estimators=300, max_depth=6, max_features='sqrt')\n",
    "clf3 = ExtraTreesClassifier(n_estimators=300, max_depth=10, max_features='sqrt')\n",
    "clf4 = SVC(kernel='rbf', gamma='auto', C=0.8, probability=True)\n",
    "\n",
    "eclf = VotingClassifier(estimators=[('gbc1', clf1), ('gbc2', clf1), ('gbc3', clf1),('rfc1', clf2), ('rfc2', clf2),('rfc3', clf2), ('etc1', clf3), ('etc2', clf3), ('svc1', clf4), ('svc2', clf4), ('svc3', clf4), ('svc4', clf4), ('svc5', clf4), ('svc6', clf4)], voting='soft')\n",
    "\n",
    "score = cross_val_score(eclf, X, y, cv=4)\n",
    "print('Ensemble:', score, np.mean(score))"
   ],
   "metadata": {
    "collapsed": false,
    "pycharm": {
     "name": "#%%\n"
    }
   }
  },
  {
   "cell_type": "markdown",
   "source": [
    "## 2 Test Model"
   ],
   "metadata": {
    "collapsed": false,
    "pycharm": {
     "name": "#%% md\n"
    }
   }
  },
  {
   "cell_type": "code",
   "execution_count": 73,
   "outputs": [],
   "source": [
    "epoch = 50\n",
    "y_pre = np.zeros((epoch, eval_data.shape[0], 3))\n",
    "for ii in range(epoch):\n",
    "    eclf.fit(X, y)\n",
    "    y_pre[ii] = eclf.predict_proba(eval_data)\n",
    "y_pre = np.mean(y_pre, axis=0)\n",
    "prob_pre = np.max(y_pre, axis=1)\n",
    "label_pre = np.argmax(y_pre, axis=1)\n",
    "\n",
    "y_pre1 = np.zeros((epoch, eval_data.shape[0], 3))\n",
    "for ii in range(epoch):\n",
    "    eclf.fit(X, y)\n",
    "    y_pre1[ii] = eclf.predict_proba(eval_data)\n",
    "y_pre1 = np.mean(y_pre1, axis=0)\n",
    "prob_pre1 = np.max(y_pre1, axis=1)\n",
    "label_pre1 = np.argmax(y_pre1, axis=1)"
   ],
   "metadata": {
    "collapsed": false,
    "pycharm": {
     "name": "#%%\n"
    }
   }
  },
  {
   "cell_type": "code",
   "execution_count": 74,
   "outputs": [
    {
     "name": "stdout",
     "output_type": "stream",
     "text": [
      "9994 6\n"
     ]
    }
   ],
   "source": [
    "cnt = 0\n",
    "diff = []\n",
    "for i in range(eval_data.shape[0]):\n",
    "    if label_pre[i] == label_pre1[i]:\n",
    "        cnt+=1\n",
    "    else:\n",
    "        diff.append(i)\n",
    "print(cnt, len(diff))\n",
    "\n",
    "label_out = label_pre\n",
    "for ii in range(eval_data.shape[0]):\n",
    "    if prob_pre1[ii] > prob_pre[ii]:\n",
    "        label_out[ii] = label_pre1[ii]"
   ],
   "metadata": {
    "collapsed": false,
    "pycharm": {
     "name": "#%%\n"
    }
   }
  },
  {
   "cell_type": "code",
   "execution_count": 75,
   "outputs": [],
   "source": [
    "pre = label_out\n",
    "pre = np.ndarray.tolist(pre)\n",
    "with open('pre.txt', 'w') as f:\n",
    "    for ii in pre:\n",
    "        if ii == 0:\n",
    "            f.write('Atsuto' + '\\n')\n",
    "        if ii == 1:\n",
    "            f.write('Bob' + '\\n')\n",
    "        if ii == 2:\n",
    "            f.write('Jorg' + '\\n')"
   ],
   "metadata": {
    "collapsed": false,
    "pycharm": {
     "name": "#%%\n"
    }
   }
  },
  {
   "cell_type": "code",
   "execution_count": null,
   "outputs": [],
   "source": [],
   "metadata": {
    "collapsed": false,
    "pycharm": {
     "name": "#%%\n"
    }
   }
  }
 ],
 "metadata": {
  "kernelspec": {
   "display_name": "Python 3",
   "language": "python",
   "name": "python3"
  },
  "language_info": {
   "codemirror_mode": {
    "name": "ipython",
    "version": 2
   },
   "file_extension": ".py",
   "mimetype": "text/x-python",
   "name": "python",
   "nbconvert_exporter": "python",
   "pygments_lexer": "ipython2",
   "version": "2.7.6"
  }
 },
 "nbformat": 4,
 "nbformat_minor": 0
}