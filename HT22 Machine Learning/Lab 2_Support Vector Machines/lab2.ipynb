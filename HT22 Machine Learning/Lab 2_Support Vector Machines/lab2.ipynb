{
  "nbformat": 4,
  "nbformat_minor": 0,
  "metadata": {
    "colab": {
      "provenance": []
    },
    "kernelspec": {
      "name": "python3",
      "display_name": "Python 3"
    },
    "language_info": {
      "name": "python"
    }
  },
  "cells": [
    {
      "cell_type": "code",
      "execution_count": null,
      "metadata": {
        "id": "_7rAOxiK7qdc"
      },
      "outputs": [],
      "source": [
        "import numpy as np\n",
        "import random, math\n",
        "from scipy.optimize import minimize\n",
        "import matplotlib.pyplot as plt\n",
        "from sklearn import datasets"
      ]
    },
    {
      "cell_type": "code",
      "source": [
        "ktype = 'Linear_kernel'\n",
        "C = None    # Slack parameter\n",
        "para = 2\n",
        "\n",
        "classA = np.concatenate((np.random.randn(10, 2) * 0.2 + np.array([1.5, 0.5]), np.random.randn(10, 2) * 0.2 + np.array([-1.5, 0.5])))\n",
        "classB = np.random.randn(20, 2) * 0.2 + np.array([0.0, -0.5])\n",
        "\n",
        "inputs = np.concatenate((classA, classB))\n",
        "targets = np.concatenate((np.ones(classA.shape[0]), -np.ones(classB.shape[0])))\n",
        "\n",
        "N = inputs.shape[0] # Number of rows (samples)\n",
        "\n",
        "permute = list(range(N))\n",
        "random.shuffle(permute)\n",
        "inputs = inputs[permute, :]\n",
        "targets = targets[permute]"
      ],
      "metadata": {
        "id": "IUVo-eu1-3Ik"
      },
      "execution_count": null,
      "outputs": []
    },
    {
      "cell_type": "code",
      "source": [
        "def kernel(x, y, para=1.0, flag=ktype):\n",
        "    if flag == 'Linear_kernel':\n",
        "        k = np.dot(x, y)\n",
        "    elif flag == 'Polynomial_kernel':\n",
        "        k = np.power((np.dot(x, y)) + 1, para)\n",
        "    elif flag == 'RBF_kernel':\n",
        "        k = np.exp(-np.linalg.norm(x - y) / (2 * para ** 2))\n",
        "\n",
        "    return k\n",
        "\n",
        "\n",
        "# Prepare for defining objective(): Compute P as a global variable\n",
        "P = np.zeros((N, N))\n",
        "for i in range(N):\n",
        "    for j in range(N):\n",
        "        P[i, j] = targets[i] * targets[j] * kernel(inputs[i], inputs[j], para=para, flag=ktype)\n",
        "\n",
        "\n",
        "def objective(alpha):\n",
        "    # A = np.dot(alpha.reshape(-1, 1), alpha.reshape(1, -1))\n",
        "    # obj = 0.5 * np.sum(A * P) - np.sum(alpha)\n",
        "    obj = 0.5 * np.dot(alpha, np.dot(alpha, P)) - np.sum(alpha)\n",
        "    return obj\n",
        "\n",
        "\n",
        "def zerofun(alpha):\n",
        "    return np.sum(np.dot(alpha, targets))\n",
        "\n",
        "\n",
        "# Obtain optimal alpha vector\n",
        "ret = minimize(objective, np.zeros(N), bounds=[(0, C) for b in range(N)], constraints={'type':'eq', 'fun':zerofun})\n",
        "\n",
        "# Extract non-zero alpha and corresponding x_i, i.e. support vectors\n",
        "alpha_opt = ret.x\n",
        "threshold = 1e-5\n",
        "sv = []\n",
        "for i in range(N):\n",
        "    if alpha_opt[i] > threshold:\n",
        "        sv.append([alpha_opt[i], inputs[i], targets[i]])\n",
        "\n",
        "# Calculate b\n",
        "s = sv[0][1]\n",
        "ts = sv[0][2]\n",
        "b = np.sum(np.array([sv[i][0] * sv[i][2] * kernel(s, sv[i][1], para=para, flag=ktype) for i in range(len(sv))])) - ts\n",
        "\n",
        "\n",
        "def indicator(x):\n",
        "    ind = np.sum(np.array([sv[i][0] * sv[i][2] * kernel(x, sv[i][1], para=para, flag=ktype) for i in range(len(sv))])) - b\n",
        "    return ind\n",
        "\n",
        "\n",
        "# Plot datapoints in classA and classB\n",
        "plt.plot([p[0] for p in classA], [p[1] for p in classA], 'b.')\n",
        "plt.plot([p[0] for p in classB], [p[1] for p in classB], 'r.')\n",
        "plt.axis('equal')\n",
        "\n",
        "# Plot the decision boundary\n",
        "xgrid = np.linspace(-5, 5)\n",
        "ygrid = np.linspace(-4, 4)\n",
        "grid = np.array([[indicator([x, y]) for x in xgrid] for y in ygrid])\n",
        "\n",
        "plt.contour(xgrid, ygrid, grid, (-1.0, 0.0, 1.0), colors=('red', 'black', 'blue'), linewidths=(1, 3, 1))\n",
        "# plt.savefig('svmplot.png')\n",
        "plt.show()\n",
        "print('The optimizer is able to find a classification solution: ', ret.success)"
      ],
      "metadata": {
        "id": "00_zF548lTKO",
        "colab": {
          "base_uri": "https://localhost:8080/",
          "height": 286
        },
        "outputId": "af50c1e9-5dd5-466d-de32-1d4f9052da10"
      },
      "execution_count": null,
      "outputs": [
        {
          "output_type": "display_data",
          "data": {
            "text/plain": [
              "<Figure size 432x288 with 1 Axes>"
            ],
            "image/png": "[encoded data removed]"
          },
          "metadata": {
            "needs_background": "light"
          }
        },
        {
          "output_type": "stream",
          "name": "stdout",
          "text": [
            "The optimizer is able to find a classification solution:  True\n"
          ]
        }
      ]
    }
  ]
}