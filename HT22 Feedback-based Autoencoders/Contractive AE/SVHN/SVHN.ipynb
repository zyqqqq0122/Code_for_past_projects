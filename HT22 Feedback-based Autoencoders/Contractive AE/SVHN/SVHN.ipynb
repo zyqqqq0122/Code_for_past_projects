{
<<<<<<< HEAD
 "cells": [
  {
   "cell_type": "code",
   "execution_count": 1,
   "metadata": {
    "collapsed": false,
    "jupyter": {
     "outputs_hidden": false
    },
    "pycharm": {
     "name": "#%%\n"
    }
   },
   "outputs": [],
   "source": [
    "import matplotlib.pyplot as plt\n",
    "import numpy as np\n",
    "import random\n",
    "import os\n",
    "from tqdm import tqdm\n",
    "\n",
    "import torch\n",
    "import torchvision\n",
    "from torchvision import transforms\n",
    "from torch.utils.data import DataLoader,random_split\n",
    "from torch import nn\n",
    "import time"
   ]
  },
  {
   "cell_type": "markdown",
   "metadata": {
    "pycharm": {
     "name": "#%% md\n"
    }
   },
   "source": [
    "## 0 Load and Pre-process Dataset"
   ]
  },
  {
   "cell_type": "code",
   "execution_count": 2,
   "metadata": {
    "collapsed": false,
    "jupyter": {
     "outputs_hidden": false
    },
    "pycharm": {
     "name": "#%%\n"
    }
   },
   "outputs": [
    {
     "name": "stdout",
     "output_type": "stream",
     "text": [
      "Using downloaded and verified file: Dataset\\train_32x32.mat\n",
      "Using downloaded and verified file: Dataset\\test_32x32.mat\n"
     ]
    }
   ],
   "source": [
    "data_dir = 'Dataset'\n",
    "train_dataset = torchvision.datasets.SVHN(data_dir, split='train', download=True)\n",
    "test_dataset  = torchvision.datasets.SVHN(data_dir, split='test', download=True)"
   ]
  },
  {
   "cell_type": "code",
   "execution_count": 3,
   "metadata": {
    "id": "6dSuvYQ0UHwE",
    "pycharm": {
     "name": "#%%\n"
    }
   },
   "outputs": [],
   "source": [
    "train_transform = transforms.Compose([\n",
    "    transforms.ToTensor(),\n",
    "])\n",
    "test_transform = transforms.Compose([\n",
    "    transforms.ToTensor(),\n",
    "])\n",
    "\n",
    "# Set the train transform\n",
    "train_dataset.transform = train_transform\n",
    "# Set the test transform\n",
    "test_dataset.transform = test_transform"
   ]
  },
  {
   "cell_type": "code",
   "execution_count": 4,
   "metadata": {
    "id": "gxDwjH65UKQ0",
    "pycharm": {
     "name": "#%%\n"
    }
   },
   "outputs": [],
   "source": [
    "m=len(train_dataset)\n",
    "# test_dataset: 73,257\n",
    "# test_dataset: 26,032\n",
    "\n",
    "# random_split randomly split a dataset into non-overlapping new datasets of given lengths\n",
    "# train (58,605 images), validation (14,652 images)\n",
    "train_data, val_data = random_split(train_dataset, [int(m-m*0.2), len(train_dataset)-int(m-m*0.2)])\n",
    "\n",
    "batch_size=256\n",
    "\n",
    "# The dataloaders handle shuffling, batching, etc...\n",
    "train_loader = torch.utils.data.DataLoader(train_data, batch_size=batch_size)\n",
    "valid_loader = torch.utils.data.DataLoader(val_data, batch_size=batch_size)\n",
    "test_loader = torch.utils.data.DataLoader(test_dataset, batch_size=batch_size,shuffle=True)"
   ]
  },
  {
   "cell_type": "markdown",
   "metadata": {
    "id": "as0xsZcPUoeB",
    "pycharm": {
     "name": "#%% md\n"
    }
   },
   "source": [
    "## 1 Define Encoder and Decoder classes"
   ]
  },
  {
   "cell_type": "code",
   "execution_count": 5,
   "metadata": {
    "id": "M5WQiiUUUkwo",
    "pycharm": {
     "name": "#%%\n"
    }
   },
   "outputs": [],
   "source": [
    "class Encoder(nn.Module):\n",
    "    \n",
    "    def __init__(self, encoded_space_dim,fc2_input_dim):\n",
    "        super().__init__()\n",
    "        \n",
    "        ### Convolutional section\n",
    "        self.encoder_cnn = nn.Sequential(\n",
    "            nn.Conv2d(3, 32, 3, stride=2, padding=0),\n",
    "            nn.ReLU(),\n",
    "            nn.Conv2d(32, 64, 3, stride=2, padding=0),\n",
    "            nn.ReLU(),\n",
    "            nn.Conv2d(64, 128, 3, stride=2, padding=0),\n",
    "            nn.ReLU(),\n",
    "        )\n",
    "        \n",
    "        ### Flatten layer\n",
    "        self.flatten = nn.Flatten(start_dim=1)\n",
    "\n",
    "        ### Linear section\n",
    "        self.encoder_lin = nn.Sequential(\n",
    "            nn.Linear(3 * 3 * 128, 512),\n",
    "            nn.ReLU(),\n",
    "            nn.Linear(512, 256),\n",
    "            nn.ReLU(),\n",
    "            nn.Linear(256, encoded_space_dim)\n",
    "        )\n",
    "        \n",
    "    def forward(self, x):\n",
    "        # Apply convolutions\n",
    "        x = self.encoder_cnn(x)\n",
    "        # Flatten\n",
    "        x = self.flatten(x)\n",
    "        # Apply linear layers\n",
    "        x = self.encoder_lin(x)\n",
    "        return x"
   ]
  },
  {
   "cell_type": "code",
   "execution_count": 6,
   "metadata": {
    "id": "jN6C39HpUnt4",
    "pycharm": {
     "name": "#%%\n"
    }
   },
   "outputs": [],
   "source": [
    "class Decoder(nn.Module):\n",
    "    \n",
    "    def __init__(self, encoded_space_dim,fc2_input_dim):\n",
    "        super().__init__()\n",
    "\n",
    "        ### Linear section\n",
    "        self.decoder_lin = nn.Sequential(\n",
    "            nn.Linear(encoded_space_dim, 256),\n",
    "            nn.ReLU(),\n",
    "            nn.Linear(256, 512),\n",
    "            nn.ReLU(),\n",
    "            nn.Linear(512, 3 * 3 * 128),\n",
    "            nn.ReLU()\n",
    "        )\n",
    "\n",
    "        ### Unflatten\n",
    "        self.unflatten = nn.Unflatten(dim=1, unflattened_size=(128, 3, 3))\n",
    "\n",
    "        ### Convolutional section\n",
    "        self.decoder_conv = nn.Sequential(\n",
    "            # First transposed convolution\n",
    "            nn.ConvTranspose2d(128, 64, 3, stride=2),\n",
    "            nn.ReLU(),\n",
    "            nn.ConvTranspose2d(64, 32, 3, stride=2),\n",
    "            nn.ReLU(),\n",
    "            nn.ConvTranspose2d(32, 3, 4, stride=2)\n",
    "        )\n",
    "        \n",
    "    def forward(self, x):\n",
    "        # Apply linear layers\n",
    "        x = self.decoder_lin(x)\n",
    "        # Unflatten\n",
    "        x = self.unflatten(x)\n",
    "        # Apply transposed convolutions\n",
    "        x = self.decoder_conv(x)\n",
    "        # Apply a sigmoid to force the output to be between 0 and 1 (valid pixel values)\n",
    "        x = torch.sigmoid(x)\n",
    "        return x"
   ]
  },
  {
   "cell_type": "markdown",
   "metadata": {
    "id": "11PfNdpaUtvA",
    "pycharm": {
     "name": "#%% md\n"
    }
   },
   "source": [
    "## 2 initialize models, loss and optimizer"
   ]
  },
  {
   "cell_type": "code",
   "execution_count": 7,
   "metadata": {
    "id": "zumnP3q0UKVf",
    "pycharm": {
     "name": "#%%\n"
    }
   },
   "outputs": [],
   "source": [
    "### Set the random seed for reproducible results\n",
    "torch.manual_seed(0)\n",
    "\n",
    "### Initialize the two networks\n",
    "d = 100\n",
    "\n",
    "encoder = Encoder(encoded_space_dim=d,fc2_input_dim=128)\n",
    "decoder = Decoder(encoded_space_dim=d,fc2_input_dim=128)"
   ]
  },
  {
   "cell_type": "code",
   "execution_count": 8,
   "metadata": {
    "colab": {
     "base_uri": "https://localhost:8080/"
    },
    "id": "VbXot02tUKYb",
    "outputId": "39fe8eca-8491-44b3-83b5-255e55ca5aba",
    "pycharm": {
     "name": "#%%\n"
    }
   },
   "outputs": [
    {
     "data": {
      "text/plain": [
       "Decoder(\n",
       "  (decoder_lin): Sequential(\n",
       "    (0): Linear(in_features=100, out_features=256, bias=True)\n",
       "    (1): ReLU()\n",
       "    (2): Linear(in_features=256, out_features=512, bias=True)\n",
       "    (3): ReLU()\n",
       "    (4): Linear(in_features=512, out_features=1152, bias=True)\n",
       "    (5): ReLU()\n",
       "  )\n",
       "  (unflatten): Unflatten(dim=1, unflattened_size=(128, 3, 3))\n",
       "  (decoder_conv): Sequential(\n",
       "    (0): ConvTranspose2d(128, 64, kernel_size=(3, 3), stride=(2, 2))\n",
       "    (1): ReLU()\n",
       "    (2): ConvTranspose2d(64, 32, kernel_size=(3, 3), stride=(2, 2))\n",
       "    (3): ReLU()\n",
       "    (4): ConvTranspose2d(32, 3, kernel_size=(4, 4), stride=(2, 2))\n",
       "  )\n",
       ")"
      ]
     },
     "execution_count": 8,
     "metadata": {},
     "output_type": "execute_result"
    }
   ],
   "source": [
    "### Define the loss function\n",
    "loss_fn = torch.nn.MSELoss()\n",
    "\n",
    "### Define an optimizer (both for the encoder and the decoder!)\n",
    "lr= 0.001 # Learning rate\n",
    "\n",
    "\n",
    "params_to_optimize = [\n",
    "    {'params': encoder.parameters()},\n",
    "    {'params': decoder.parameters()}\n",
    "]\n",
    "\n",
    "device = torch.device(\"cuda\") if torch.cuda.is_available() else torch.device(\"cpu\")\n",
    "\n",
    "optim = torch.optim.Adam(params_to_optimize, lr=lr)\n",
    "\n",
    "# Move both the encoder and the decoder to the selected device\n",
    "encoder.to(device)\n",
    "decoder.to(device)"
   ]
  },
  {
   "cell_type": "markdown",
   "metadata": {
    "id": "oqAEQg_OUxS6",
    "pycharm": {
     "name": "#%% md\n"
    }
   },
   "source": [
    "## 3 Train model"
   ]
  },
  {
   "cell_type": "code",
   "execution_count": 9,
   "metadata": {
    "id": "gfrLl5_qUKbd",
    "pycharm": {
     "name": "#%%\n"
    }
   },
   "outputs": [],
   "source": [
    "### Training function\n",
    "def train_epoch_den(encoder, decoder, device, dataloader, optimizer, val_lambda0=1, val_lambda=1, val_lambdaprime=1):\n",
    "    # Set train mode for both the encoder and the decoder\n",
    "    encoder.train()\n",
    "    decoder.train()\n",
    "    train_loss1 = []\n",
    "    train_loss2 = []\n",
    "    train_loss3 = []\n",
    "    train_loss = []\n",
    "\n",
    "    # Iterate the dataloader (we do not need the label values, this is unsupervised learning)\n",
    "    for image_batch, _ in dataloader: # with \"_\" we just ignore the labels (the second element of the dataloader tuple)\n",
    "        # Move tensor to the proper device\n",
    "        image_batch = image_batch.to(device)\n",
    "        # Encode data (z)\n",
    "        encoded_data = encoder(image_batch)\n",
    "        z_zeros = torch.zeros_like(encoded_data)\n",
    "        # Decode data (x_hat)\n",
    "        decoded_data = decoder(encoded_data)\n",
    "        # Re-encode data (z_hat)\n",
    "        z_hat = encoder(decoded_data)\n",
    "\n",
    "        # Evaluate loss\n",
    "        loss_fn = torch.nn.MSELoss()\n",
    "        loss1 = loss_fn(image_batch, decoded_data)\n",
    "        loss2 = loss_fn(encoded_data, z_hat)\n",
    "        loss3 = loss_fn(encoded_data, z_zeros)\n",
    "        loss = val_lambda0 * loss1 + val_lambda * loss2 + val_lambdaprime * loss3\n",
    "\n",
    "        # Backward pass\n",
    "        optimizer.zero_grad()\n",
    "        loss.backward()\n",
    "        optimizer.step()\n",
    "\n",
    "        # Batch loss\n",
    "        train_loss1.append(loss1.detach().cpu().numpy())\n",
    "        train_loss2.append(loss2.detach().cpu().numpy())\n",
    "        train_loss3.append(loss3.detach().cpu().numpy())\n",
    "        train_loss.append(loss.detach().cpu().numpy())\n",
    "\n",
    "    return np.mean(train_loss1), np.mean(train_loss2), np.mean(train_loss3), np.mean(train_loss)"
   ]
  },
  {
   "cell_type": "code",
   "execution_count": 10,
   "metadata": {
    "id": "bWM89AYgUKeM",
    "pycharm": {
     "name": "#%%\n"
    }
   },
   "outputs": [],
   "source": [
    "### Testing function\n",
    "def test_epoch_den(encoder, decoder, device, dataloader, loss_fn):\n",
    "    # Set evaluation mode for encoder and decoder\n",
    "    encoder.eval()\n",
    "    decoder.eval()\n",
    "    with torch.no_grad(): # No need to track the gradients\n",
    "        # Define the lists to store the outputs for each batch\n",
    "        conc_out = []\n",
    "        conc_label = []\n",
    "        for image_batch, _ in dataloader:\n",
    "            # Move tensor to the proper device\n",
    "            image_batch = image_batch.to(device)\n",
    "            # Encode data\n",
    "            encoded_data = encoder(image_batch)\n",
    "            # Decode data\n",
    "            decoded_data = decoder(encoded_data)\n",
    "            # Append the network output and the original image to the lists\n",
    "            conc_out.append(decoded_data.cpu())\n",
    "            conc_label.append(image_batch.cpu())\n",
    "        # Create a single tensor with all the values in the lists\n",
    "        conc_out = torch.cat(conc_out)\n",
    "        conc_label = torch.cat(conc_label) \n",
    "        # Evaluate global loss\n",
    "        val_loss = loss_fn(conc_out, conc_label)\n",
    "    return val_loss.data"
   ]
  },
  {
   "cell_type": "code",
   "execution_count": 11,
   "metadata": {
    "colab": {
     "base_uri": "https://localhost:8080/",
     "height": 1000
    },
    "id": "C891gOpYVN_1",
    "outputId": "16f09fa2-4835-4987-a3f7-e9ac4916e51a",
    "pycharm": {
     "name": "#%%\n"
    }
   },
   "outputs": [
    {
     "name": "stdout",
     "output_type": "stream",
     "text": [
      "EPOCH 1/30 \t train loss 0.022 \t val loss 0.017\n",
      "EPOCH 2/30 \t train loss 0.017 \t val loss 0.017\n",
      "EPOCH 3/30 \t train loss 0.016 \t val loss 0.015\n",
      "EPOCH 4/30 \t train loss 0.014 \t val loss 0.013\n",
      "EPOCH 5/30 \t train loss 0.012 \t val loss 0.012\n",
      "EPOCH 6/30 \t train loss 0.011 \t val loss 0.011\n",
      "EPOCH 7/30 \t train loss 0.011 \t val loss 0.011\n",
      "EPOCH 8/30 \t train loss 0.011 \t val loss 0.011\n",
      "EPOCH 9/30 \t train loss 0.010 \t val loss 0.010\n",
      "EPOCH 10/30 \t train loss 0.010 \t val loss 0.010\n",
      "EPOCH 11/30 \t train loss 0.010 \t val loss 0.010\n",
      "EPOCH 12/30 \t train loss 0.010 \t val loss 0.010\n",
      "EPOCH 13/30 \t train loss 0.009 \t val loss 0.009\n",
      "EPOCH 14/30 \t train loss 0.009 \t val loss 0.009\n",
      "EPOCH 15/30 \t train loss 0.009 \t val loss 0.008\n",
      "EPOCH 16/30 \t train loss 0.008 \t val loss 0.008\n",
      "EPOCH 17/30 \t train loss 0.008 \t val loss 0.008\n",
      "EPOCH 18/30 \t train loss 0.008 \t val loss 0.008\n",
      "EPOCH 19/30 \t train loss 0.008 \t val loss 0.008\n",
      "EPOCH 20/30 \t train loss 0.008 \t val loss 0.008\n",
      "EPOCH 21/30 \t train loss 0.007 \t val loss 0.007\n",
      "EPOCH 22/30 \t train loss 0.007 \t val loss 0.007\n",
      "EPOCH 23/30 \t train loss 0.007 \t val loss 0.007\n",
      "EPOCH 24/30 \t train loss 0.007 \t val loss 0.007\n",
      "EPOCH 25/30 \t train loss 0.007 \t val loss 0.007\n",
      "EPOCH 26/30 \t train loss 0.007 \t val loss 0.007\n",
      "EPOCH 27/30 \t train loss 0.007 \t val loss 0.006\n",
      "EPOCH 28/30 \t train loss 0.006 \t val loss 0.006\n",
      "EPOCH 29/30 \t train loss 0.006 \t val loss 0.006\n",
      "EPOCH 30/30 \t train loss 0.006 \t val loss 0.006\n"
     ]
    }
   ],
   "source": [
    "### Training cycle\n",
    "num_epochs = 30\n",
    "val_lambda0 = 1\n",
    "val_lambda = 1\n",
    "val_lambdaprime = 1\n",
    "history_da={'train_loss':[],'val_loss':[]}\n",
    "loss1 = []\n",
    "loss2 = []\n",
    "loss3 = []\n",
    "loss = []\n",
    "v_loss = []\n",
    "\n",
    "for epoch in range(num_epochs):\n",
    "    #print('EPOCH %d/%d' % (epoch + 1, num_epochs))\n",
    "    ### Training (use the training function)\n",
    "    train_loss1, train_loss2, train_loss3, train_loss=train_epoch_den(\n",
    "        encoder=encoder, \n",
    "        decoder=decoder, \n",
    "        device=device, \n",
    "        dataloader=train_loader, \n",
    "        optimizer=optim,\n",
    "        val_lambda0=val_lambda0,\n",
    "        val_lambda=val_lambda,\n",
    "        val_lambdaprime=val_lambdaprime)\n",
    "\n",
    "    loss.append(train_loss)\n",
    "    loss1.append(train_loss1)\n",
    "    loss2.append(train_loss2)\n",
    "    loss3.append(train_loss3)\n",
    "\n",
    "    ### Validation  (use the testing function)\n",
    "    val_loss = test_epoch_den(\n",
    "        encoder=encoder, \n",
    "        decoder=decoder, \n",
    "        device=device, \n",
    "        dataloader=valid_loader, \n",
    "        loss_fn=loss_fn)\n",
    "    v_loss.append(val_loss)\n",
    "    # Print loss\n",
    "    print('EPOCH {}/{} \\t train loss {:.3f} \\t val loss {:.3f}'.format(epoch + 1, num_epochs, train_loss, val_loss))\n",
    "\n",
    "prefix = './model' + '/CAE_dim{}'.format(d)+ '_lmd_{}_{}_{}'.format(val_lambda0, val_lambda, val_lambdaprime) + '_epc{}_'.format(epoch+1)\n",
    "name = time.strftime(prefix + '%m%d_%H_%M_%S.pth')\n",
    "torch.save([encoder, decoder], name)"
   ]
  },
  {
   "cell_type": "markdown",
   "metadata": {
    "pycharm": {
     "name": "#%% md\n"
    }
   },
   "source": [
    "## 4 Results"
   ]
  },
  {
   "cell_type": "markdown",
   "metadata": {
    "pycharm": {
     "name": "#%% md\n"
    }
   },
   "source": [
    "### 4.1 Training Loss and Reconstructed Images"
   ]
  },
  {
   "cell_type": "code",
   "execution_count": 12,
   "metadata": {
    "collapsed": false,
    "jupyter": {
     "outputs_hidden": false
    },
    "pycharm": {
     "name": "#%%\n"
    }
   },
   "outputs": [
    {
     "data": {
      "image/png": "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\n",
      "text/plain": [
       "<Figure size 432x288 with 1 Axes>"
      ]
     },
     "metadata": {
      "needs_background": "light"
     },
     "output_type": "display_data"
    },
    {
     "data": {
      "image/png": "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\n",
      "text/plain": [
       "<Figure size 432x288 with 1 Axes>"
      ]
     },
     "metadata": {
      "needs_background": "light"
     },
     "output_type": "display_data"
    }
   ],
   "source": [
    "plt.figure()\n",
    "plt.plot(loss, '--', linewidth=2.5)\n",
    "plt.plot(v_loss)\n",
    "plt.plot(loss1)\n",
    "plt.plot(loss2)\n",
    "plt.plot(loss3)\n",
    "plt.xlabel('Epoch')\n",
    "plt.ylabel('Loss')\n",
    "plt.legend(labels=['loss', 'val_loss', 'x-x_hat', 'z-z_hat', 'z'])\n",
    "plt.savefig('./figs/Loss_dim{}_lmd_{}_{}_{}.png'.format(d, val_lambda0, val_lambda, val_lambdaprime))\n",
    "plt.show()\n",
    "\n",
    "plt.figure()\n",
    "plt.plot(loss2)\n",
    "plt.plot(loss3)\n",
    "plt.xlabel('Epoch')\n",
    "plt.ylabel('Loss')\n",
    "plt.legend(labels=['z-z_hat', 'z'])\n",
    "plt.savefig('./figs/Loss_z_dim{}_lmd_{}_{}_{}.png'.format(d, val_lambda0, val_lambda, val_lambdaprime))\n",
    "plt.show()"
   ]
  },
  {
   "cell_type": "code",
   "execution_count": 13,
   "metadata": {
    "collapsed": false,
    "jupyter": {
     "outputs_hidden": false
    },
    "pycharm": {
     "name": "#%%\n"
    }
   },
   "outputs": [
    {
     "data": {
      "image/png": "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\n",
      "text/plain": [
       "<Figure size 720x324 with 10 Axes>"
      ]
     },
     "metadata": {
      "needs_background": "light"
     },
     "output_type": "display_data"
    }
   ],
   "source": [
    "#encoder, decoder =torch.load('./model/CAE_dim100_lmd_1_1_1_epc30_0924_11_03_11.pth')\n",
    "plt.figure(figsize=(10,4.5))\n",
    "n=5\n",
    "for i in range(n):\n",
    "    ax = plt.subplot(2,n,i+1)\n",
    "    img = test_dataset[10*i+5][0].unsqueeze(0).to(device)\n",
    "    encoder.eval()\n",
    "    decoder.eval()\n",
    "    with torch.no_grad():\n",
    "        rec_img  = decoder(encoder(img))\n",
    "\n",
    "    im = img.cpu().squeeze().numpy()\n",
    "    im = im.transpose((1,2,0))\n",
    "    plt.imshow(im, interpolation='nearest')\n",
    "    #plt.imshow(img.cpu().squeeze().numpy(), cmap='gist_gray')\n",
    "    ax.get_xaxis().set_visible(False)\n",
    "    ax.get_yaxis().set_visible(False)\n",
    "    if i == n//2:\n",
    "        ax.set_title('Original images')\n",
    "    ax = plt.subplot(2, n, i + 1 + n)\n",
    "    rec_im = rec_img.cpu().squeeze().numpy()\n",
    "    rec_im = rec_im.transpose((1,2,0))\n",
    "    plt.imshow(rec_im, interpolation='nearest')\n",
    "    #plt.imshow(rec_img.cpu().squeeze().numpy(), cmap='gist_gray')\n",
    "    ax.get_xaxis().set_visible(False)\n",
    "    ax.get_yaxis().set_visible(False)\n",
    "    if i == n//2:\n",
    "        ax.set_title('Reconstructed images')\n",
    "plt.savefig('./figs/Rec_imgs_dim{}_lmd_{}_{}_{}_a.png'.format(d, val_lambda0, val_lambda, val_lambdaprime))\n",
    "plt.show()"
   ]
  },
  {
   "cell_type": "markdown",
   "metadata": {
    "pycharm": {
     "name": "#%% md\n"
    }
   },
   "source": [
    "### 4.2 SNR_x vs. SNR_z with noisy z (encoded data)"
   ]
  },
  {
   "cell_type": "code",
   "execution_count": 14,
   "metadata": {
    "collapsed": false,
    "jupyter": {
     "outputs_hidden": false
    },
    "pycharm": {
     "name": "#%%\n"
    }
   },
   "outputs": [],
   "source": [
    "def add_noise(inputs, noise_factor=0.3):\n",
    "     noise = inputs+torch.randn_like(inputs)*noise_factor\n",
    "     noise = torch.clip(noise,0.,1.)\n",
    "     noise = noise.float()\n",
    "     return noise"
   ]
  },
  {
   "cell_type": "code",
   "execution_count": 17,
   "metadata": {
    "collapsed": false,
    "jupyter": {
     "outputs_hidden": false
    },
    "pycharm": {
     "name": "#%%\n"
    }
   },
   "outputs": [],
   "source": [
    "### SNR_x vs. SNR_z\n",
    "encoder, decoder =torch.load('./model/dimension/CAE_dim100_lmd_1_1_1_epc30_0925_14_43_42.pth')\n",
    "snrs = np.linspace(1, 20, 20)\n",
    "snrs_x = np.zeros(len(snrs))\n",
    "i = 0\n",
    "for snr in snrs:\n",
    "    encoder.eval()\n",
    "    decoder.eval()\n",
    "    with torch.no_grad(): # No need to track the gradients\n",
    "        conc_label = []\n",
    "        conc_z = []\n",
    "        conc_x_zeros = []\n",
    "        conc_z_zeros = []\n",
    "        for image_batch, _ in test_loader:\n",
    "            # Move tensor to the proper device (x)\n",
    "            conc_label.append(image_batch)\n",
    "            x_zeros = torch.zeros_like(image_batch)\n",
    "            image_batch = image_batch.to(device)\n",
    "            # Encode data (z)\n",
    "            encoded_data = encoder(image_batch)\n",
    "            encoded_data = encoded_data.detach().cpu()\n",
    "            # Calculate sigma\n",
    "            z_zeros = torch.zeros_like(encoded_data)\n",
    "            conc_z.append(encoded_data)\n",
    "            conc_x_zeros.append(x_zeros)\n",
    "            conc_z_zeros.append(z_zeros)\n",
    "\n",
    "        conc_label = torch.cat(conc_label)\n",
    "        conc_z = torch.cat(conc_z)\n",
    "        conc_x_zeros = torch.cat(conc_x_zeros)\n",
    "        conc_z_zeros = torch.cat(conc_z_zeros)\n",
    "\n",
    "        Ez = loss_fn(conc_z, conc_z_zeros)\n",
    "        sigma = Ez / torch.pow(10, torch.log10(torch.from_numpy(np.array([snr/10]))))\n",
    "\n",
    "        # Add noise\n",
    "        z_tilde = add_noise(conc_z, sigma)\n",
    "        z_tilde = z_tilde.to(device)\n",
    "        # Decode noisy data(x_hat)\n",
    "        decoded_data = decoder(z_tilde)\n",
    "        decoded_data = decoded_data.detach().cpu()\n",
    "\n",
    "        # Evaluate global loss\n",
    "        lossx = loss_fn(decoded_data, conc_label)\n",
    "        Ex = loss_fn(conc_label, conc_x_zeros)\n",
    "        lossx = lossx.numpy()\n",
    "        Ex = Ex.numpy()\n",
    "        # Calculate SNR_x\n",
    "        snr_x = 10 * np.log10(Ex / lossx)\n",
    "        snrs_x[i] = snr_x\n",
    "\n",
    "        i = i + 1"
   ]
  },
  {
   "cell_type": "code",
   "execution_count": 18,
   "metadata": {
    "collapsed": false,
    "jupyter": {
     "outputs_hidden": false
    },
    "pycharm": {
     "name": "#%%\n"
    }
   },
   "outputs": [
    {
     "data": {
      "image/png": "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\n",
      "text/plain": [
       "<Figure size 432x288 with 1 Axes>"
      ]
     },
     "metadata": {
      "needs_background": "light"
     },
     "output_type": "display_data"
    }
   ],
   "source": [
    "plt.figure()\n",
    "plt.plot(snrs, snrs_x)\n",
    "plt.xlabel('SNR_z (dB)')\n",
    "plt.ylabel('SNR_x (dB)')\n",
    "plt.savefig('./figs/SNR_x_vs_SNR_z_dim{}_lmd_{}_{}_{}.png'.format(d, val_lambda0, val_lambda, val_lambdaprime))\n",
    "plt.show()"
   ]
  },
  {
   "cell_type": "code",
   "execution_count": null,
   "metadata": {
    "collapsed": false,
    "jupyter": {
     "outputs_hidden": false
    },
    "pycharm": {
     "name": "#%%\n"
    }
   },
   "outputs": [],
   "source": []
  }
 ],
 "metadata": {
  "accelerator": "GPU",
  "colab": {
   "collapsed_sections": [],
   "name": "denAE.ipynb",
   "provenance": [],
   "toc_visible": true
  },
  "kernelspec": {
   "display_name": "Python 3 (ipykernel)",
   "language": "python",
   "name": "python3"
  },
  "language_info": {
   "codemirror_mode": {
    "name": "ipython",
    "version": 3
   },
   "file_extension": ".py",
   "mimetype": "text/x-python",
   "name": "python",
   "nbconvert_exporter": "python",
   "pygments_lexer": "ipython3",
   "version": "3.8.3"
  },
  "widgets": {
   "application/vnd.jupyter.widget-state+json": {
    "0b218783f8164784b877d2b245ddac97": {
     "model_module": "@jupyter-widgets/controls",
     "model_name": "FloatProgressModel",
     "state": {
      "_dom_classes": [],
      "_model_module": "@jupyter-widgets/controls",
      "_model_module_version": "1.5.0",
      "_model_name": "FloatProgressModel",
      "_view_count": null,
      "_view_module": "@jupyter-widgets/controls",
      "_view_module_version": "1.5.0",
      "_view_name": "ProgressView",
      "bar_style": "success",
      "description": "",
      "description_tooltip": null,
      "layout": "IPY_MODEL_88aedd54f90f4a878d29a728a91f3158",
      "max": 4542,
      "min": 0,
      "orientation": "horizontal",
      "style": "IPY_MODEL_ea1734a7c9d147fc9a99e354c5820b73",
      "value": 4542
     }
    },
    "1d7bea982dc44d53b82f7a505868db01": {
     "model_module": "@jupyter-widgets/controls",
     "model_name": "HTMLModel",
     "state": {
      "_dom_classes": [],
      "_model_module": "@jupyter-widgets/controls",
      "_model_module_version": "1.5.0",
      "_model_name": "HTMLModel",
      "_view_count": null,
      "_view_module": "@jupyter-widgets/controls",
      "_view_module_version": "1.5.0",
      "_view_name": "HTMLView",
      "description": "",
      "description_tooltip": null,
      "layout": "IPY_MODEL_f9f91fd90b1948b69b9f27ecf4b5cbd1",
      "placeholder": "​",
      "style": "IPY_MODEL_7ff06ea1db0d4134914068c750ddf7db",
      "value": " 5120/? [00:00&lt;00:00, 29647.70it/s]"
     }
=======
 "nbformat": 4,
 "nbformat_minor": 0,
 "metadata": {
  "colab": {
   "name": "denAE.ipynb",
   "provenance": [],
   "collapsed_sections": [],
   "toc_visible": true
  },
  "kernelspec": {
   "name": "python3",
   "display_name": "Python 3"
  },
  "language_info": {
   "name": "python"
  },
  "widgets": {
   "application/vnd.jupyter.widget-state+json": {
    "5f5118dcd9c24d80ac6d335b813aa947": {
     "model_module": "@jupyter-widgets/controls",
     "model_name": "HBoxModel",
     "state": {
      "_view_name": "HBoxView",
      "_dom_classes": [],
      "_model_name": "HBoxModel",
      "_view_module": "@jupyter-widgets/controls",
      "_model_module_version": "1.5.0",
      "_view_count": null,
      "_view_module_version": "1.5.0",
      "box_style": "",
      "layout": "IPY_MODEL_263fb96f0f574bba8e3f8f6d5d018f2a",
      "_model_module": "@jupyter-widgets/controls",
      "children": [
       "IPY_MODEL_9f96f65dfd2a49b4a9d879387c8d0d54",
       "IPY_MODEL_849ef2c5d6534117ac010140d7c4c2cd"
      ]
     }
    },
    "263fb96f0f574bba8e3f8f6d5d018f2a": {
     "model_module": "@jupyter-widgets/base",
     "model_name": "LayoutModel",
     "state": {
      "_view_name": "LayoutView",
      "grid_template_rows": null,
      "right": null,
      "justify_content": null,
      "_view_module": "@jupyter-widgets/base",
      "overflow": null,
      "_model_module_version": "1.2.0",
      "_view_count": null,
      "flex_flow": null,
      "width": null,
      "min_width": null,
      "border": null,
      "align_items": null,
      "bottom": null,
      "_model_module": "@jupyter-widgets/base",
      "top": null,
      "grid_column": null,
      "overflow_y": null,
      "overflow_x": null,
      "grid_auto_flow": null,
      "grid_area": null,
      "grid_template_columns": null,
      "flex": null,
      "_model_name": "LayoutModel",
      "justify_items": null,
      "grid_row": null,
      "max_height": null,
      "align_content": null,
      "visibility": null,
      "align_self": null,
      "height": null,
      "min_height": null,
      "padding": null,
      "grid_auto_rows": null,
      "grid_gap": null,
      "max_width": null,
      "order": null,
      "_view_module_version": "1.2.0",
      "grid_template_areas": null,
      "object_position": null,
      "object_fit": null,
      "grid_auto_columns": null,
      "margin": null,
      "display": null,
      "left": null
     }
    },
    "9f96f65dfd2a49b4a9d879387c8d0d54": {
     "model_module": "@jupyter-widgets/controls",
     "model_name": "FloatProgressModel",
     "state": {
      "_view_name": "ProgressView",
      "style": "IPY_MODEL_236457b80ca74eaab660f4300bd14747",
      "_dom_classes": [],
      "description": "",
      "_model_name": "FloatProgressModel",
      "bar_style": "success",
      "max": 9912422,
      "_view_module": "@jupyter-widgets/controls",
      "_model_module_version": "1.5.0",
      "value": 9912422,
      "_view_count": null,
      "_view_module_version": "1.5.0",
      "orientation": "horizontal",
      "min": 0,
      "description_tooltip": null,
      "_model_module": "@jupyter-widgets/controls",
      "layout": "IPY_MODEL_3d444031bc054de395618d19abad8d09"
     }
    },
    "849ef2c5d6534117ac010140d7c4c2cd": {
     "model_module": "@jupyter-widgets/controls",
     "model_name": "HTMLModel",
     "state": {
      "_view_name": "HTMLView",
      "style": "IPY_MODEL_67d0cbe24b964c8c889c7077f2d72dce",
      "_dom_classes": [],
      "description": "",
      "_model_name": "HTMLModel",
      "placeholder": "​",
      "_view_module": "@jupyter-widgets/controls",
      "_model_module_version": "1.5.0",
      "value": " 9913344/? [05:12&lt;00:00, 31749.39it/s]",
      "_view_count": null,
      "_view_module_version": "1.5.0",
      "description_tooltip": null,
      "_model_module": "@jupyter-widgets/controls",
      "layout": "IPY_MODEL_67e9c132de7d4883b6c5393c6da35c2c"
     }
>>>>>>> origin/main
    },
    "236457b80ca74eaab660f4300bd14747": {
     "model_module": "@jupyter-widgets/controls",
     "model_name": "ProgressStyleModel",
     "state": {
<<<<<<< HEAD
      "_model_module": "@jupyter-widgets/controls",
      "_model_module_version": "1.5.0",
      "_model_name": "ProgressStyleModel",
      "_view_count": null,
      "_view_module": "@jupyter-widgets/base",
      "_view_module_version": "1.2.0",
      "_view_name": "StyleView",
      "bar_color": null,
      "description_width": "initial"
     }
    },
    "252a988ae98f40618c71664023509f00": {
     "model_module": "@jupyter-widgets/base",
     "model_name": "LayoutModel",
     "state": {
      "_model_module": "@jupyter-widgets/base",
      "_model_module_version": "1.2.0",
      "_model_name": "LayoutModel",
      "_view_count": null,
      "_view_module": "@jupyter-widgets/base",
      "_view_module_version": "1.2.0",
      "_view_name": "LayoutView",
      "align_content": null,
      "align_items": null,
      "align_self": null,
      "border": null,
      "bottom": null,
      "display": null,
      "flex": null,
      "flex_flow": null,
      "grid_area": null,
      "grid_auto_columns": null,
      "grid_auto_flow": null,
      "grid_auto_rows": null,
      "grid_column": null,
      "grid_gap": null,
      "grid_row": null,
      "grid_template_areas": null,
      "grid_template_columns": null,
      "grid_template_rows": null,
      "height": null,
      "justify_content": null,
      "justify_items": null,
      "left": null,
      "margin": null,
      "max_height": null,
      "max_width": null,
      "min_height": null,
      "min_width": null,
      "object_fit": null,
      "object_position": null,
      "order": null,
      "overflow": null,
      "overflow_x": null,
      "overflow_y": null,
      "padding": null,
      "right": null,
      "top": null,
      "visibility": null,
      "width": null
     }
    },
    "263fb96f0f574bba8e3f8f6d5d018f2a": {
     "model_module": "@jupyter-widgets/base",
     "model_name": "LayoutModel",
     "state": {
      "_model_module": "@jupyter-widgets/base",
      "_model_module_version": "1.2.0",
      "_model_name": "LayoutModel",
      "_view_count": null,
      "_view_module": "@jupyter-widgets/base",
      "_view_module_version": "1.2.0",
      "_view_name": "LayoutView",
      "align_content": null,
      "align_items": null,
      "align_self": null,
      "border": null,
      "bottom": null,
      "display": null,
      "flex": null,
      "flex_flow": null,
      "grid_area": null,
      "grid_auto_columns": null,
      "grid_auto_flow": null,
      "grid_auto_rows": null,
      "grid_column": null,
      "grid_gap": null,
      "grid_row": null,
      "grid_template_areas": null,
      "grid_template_columns": null,
      "grid_template_rows": null,
      "height": null,
      "justify_content": null,
      "justify_items": null,
      "left": null,
      "margin": null,
      "max_height": null,
      "max_width": null,
      "min_height": null,
      "min_width": null,
      "object_fit": null,
      "object_position": null,
      "order": null,
      "overflow": null,
      "overflow_x": null,
      "overflow_y": null,
      "padding": null,
      "right": null,
      "top": null,
      "visibility": null,
      "width": null
     }
    },
    "2f26c0c21f2e49bc8bb0c35e9e06d565": {
     "model_module": "@jupyter-widgets/controls",
     "model_name": "HTMLModel",
     "state": {
      "_dom_classes": [],
      "_model_module": "@jupyter-widgets/controls",
      "_model_module_version": "1.5.0",
      "_model_name": "HTMLModel",
      "_view_count": null,
      "_view_module": "@jupyter-widgets/controls",
      "_view_module_version": "1.5.0",
      "_view_name": "HTMLView",
      "description": "",
      "description_tooltip": null,
      "layout": "IPY_MODEL_6fdd040a4d744bd89d1d514843da117c",
      "placeholder": "​",
      "style": "IPY_MODEL_81428bde673746aba40af42b99c1e66f",
      "value": " 29696/? [00:49&lt;00:00, 605.30it/s]"
     }
    },
    "316977222d6840e6b484058ba7e00426": {
     "model_module": "@jupyter-widgets/base",
     "model_name": "LayoutModel",
     "state": {
      "_model_module": "@jupyter-widgets/base",
      "_model_module_version": "1.2.0",
      "_model_name": "LayoutModel",
      "_view_count": null,
      "_view_module": "@jupyter-widgets/base",
      "_view_module_version": "1.2.0",
      "_view_name": "LayoutView",
      "align_content": null,
      "align_items": null,
      "align_self": null,
      "border": null,
      "bottom": null,
      "display": null,
      "flex": null,
      "flex_flow": null,
      "grid_area": null,
      "grid_auto_columns": null,
      "grid_auto_flow": null,
      "grid_auto_rows": null,
      "grid_column": null,
      "grid_gap": null,
      "grid_row": null,
      "grid_template_areas": null,
      "grid_template_columns": null,
      "grid_template_rows": null,
      "height": null,
      "justify_content": null,
      "justify_items": null,
      "left": null,
      "margin": null,
      "max_height": null,
      "max_width": null,
      "min_height": null,
      "min_width": null,
      "object_fit": null,
      "object_position": null,
      "order": null,
      "overflow": null,
      "overflow_x": null,
      "overflow_y": null,
      "padding": null,
      "right": null,
      "top": null,
      "visibility": null,
      "width": null
     }
    },
    "3d444031bc054de395618d19abad8d09": {
     "model_module": "@jupyter-widgets/base",
     "model_name": "LayoutModel",
     "state": {
      "_model_module": "@jupyter-widgets/base",
      "_model_module_version": "1.2.0",
      "_model_name": "LayoutModel",
      "_view_count": null,
      "_view_module": "@jupyter-widgets/base",
      "_view_module_version": "1.2.0",
      "_view_name": "LayoutView",
      "align_content": null,
      "align_items": null,
      "align_self": null,
      "border": null,
      "bottom": null,
      "display": null,
      "flex": null,
      "flex_flow": null,
      "grid_area": null,
      "grid_auto_columns": null,
      "grid_auto_flow": null,
      "grid_auto_rows": null,
      "grid_column": null,
      "grid_gap": null,
      "grid_row": null,
      "grid_template_areas": null,
      "grid_template_columns": null,
      "grid_template_rows": null,
      "height": null,
      "justify_content": null,
      "justify_items": null,
      "left": null,
      "margin": null,
      "max_height": null,
      "max_width": null,
      "min_height": null,
      "min_width": null,
      "object_fit": null,
      "object_position": null,
      "order": null,
      "overflow": null,
      "overflow_x": null,
      "overflow_y": null,
      "padding": null,
      "right": null,
      "top": null,
      "visibility": null,
      "width": null
     }
    },
    "3ecabce0509c4e629e03cb589976900e": {
     "model_module": "@jupyter-widgets/controls",
     "model_name": "HTMLModel",
     "state": {
      "_dom_classes": [],
      "_model_module": "@jupyter-widgets/controls",
      "_model_module_version": "1.5.0",
      "_model_name": "HTMLModel",
      "_view_count": null,
      "_view_module": "@jupyter-widgets/controls",
      "_view_module_version": "1.5.0",
      "_view_name": "HTMLView",
      "description": "",
      "description_tooltip": null,
      "layout": "IPY_MODEL_ce5e98c8a7044cf0a19aeb1f47ff1fa6",
      "placeholder": "​",
      "style": "IPY_MODEL_519fd47c3c4e4a8394e0d91f671e4bed",
      "value": " 1649664/? [00:48&lt;00:00, 33725.93it/s]"
     }
    },
    "45695149cf564c7e82b9e9efd38edc04": {
     "model_module": "@jupyter-widgets/controls",
     "model_name": "HBoxModel",
     "state": {
      "_dom_classes": [],
      "_model_module": "@jupyter-widgets/controls",
      "_model_module_version": "1.5.0",
      "_model_name": "HBoxModel",
      "_view_count": null,
      "_view_module": "@jupyter-widgets/controls",
      "_view_module_version": "1.5.0",
      "_view_name": "HBoxView",
      "box_style": "",
      "children": [
       "IPY_MODEL_0b218783f8164784b877d2b245ddac97",
       "IPY_MODEL_1d7bea982dc44d53b82f7a505868db01"
      ],
      "layout": "IPY_MODEL_316977222d6840e6b484058ba7e00426"
     }
    },
    "4edbea434a6846a0a5ed9ad43dde0541": {
     "model_module": "@jupyter-widgets/controls",
     "model_name": "FloatProgressModel",
     "state": {
      "_dom_classes": [],
      "_model_module": "@jupyter-widgets/controls",
      "_model_module_version": "1.5.0",
      "_model_name": "FloatProgressModel",
      "_view_count": null,
      "_view_module": "@jupyter-widgets/controls",
      "_view_module_version": "1.5.0",
      "_view_name": "ProgressView",
      "bar_style": "success",
      "description": "",
      "description_tooltip": null,
      "layout": "IPY_MODEL_98adf8ff61b4482c913efa9a76f8b0d4",
      "max": 1648877,
      "min": 0,
      "orientation": "horizontal",
      "style": "IPY_MODEL_5f62b97aa660421d8c1ee921b50ec4a4",
      "value": 1648877
     }
    },
    "519fd47c3c4e4a8394e0d91f671e4bed": {
     "model_module": "@jupyter-widgets/controls",
     "model_name": "DescriptionStyleModel",
     "state": {
      "_model_module": "@jupyter-widgets/controls",
      "_model_module_version": "1.5.0",
      "_model_name": "DescriptionStyleModel",
      "_view_count": null,
      "_view_module": "@jupyter-widgets/base",
      "_view_module_version": "1.2.0",
      "_view_name": "StyleView",
      "description_width": ""
     }
    },
    "5f5118dcd9c24d80ac6d335b813aa947": {
     "model_module": "@jupyter-widgets/controls",
     "model_name": "HBoxModel",
     "state": {
      "_dom_classes": [],
      "_model_module": "@jupyter-widgets/controls",
      "_model_module_version": "1.5.0",
      "_model_name": "HBoxModel",
      "_view_count": null,
      "_view_module": "@jupyter-widgets/controls",
      "_view_module_version": "1.5.0",
      "_view_name": "HBoxView",
      "box_style": "",
      "children": [
       "IPY_MODEL_9f96f65dfd2a49b4a9d879387c8d0d54",
       "IPY_MODEL_849ef2c5d6534117ac010140d7c4c2cd"
      ],
      "layout": "IPY_MODEL_263fb96f0f574bba8e3f8f6d5d018f2a"
     }
    },
    "5f62b97aa660421d8c1ee921b50ec4a4": {
     "model_module": "@jupyter-widgets/controls",
     "model_name": "ProgressStyleModel",
     "state": {
      "_model_module": "@jupyter-widgets/controls",
      "_model_module_version": "1.5.0",
      "_model_name": "ProgressStyleModel",
      "_view_count": null,
      "_view_module": "@jupyter-widgets/base",
      "_view_module_version": "1.2.0",
      "_view_name": "StyleView",
      "bar_color": null,
      "description_width": "initial"
     }
    },
    "67d0cbe24b964c8c889c7077f2d72dce": {
     "model_module": "@jupyter-widgets/controls",
     "model_name": "DescriptionStyleModel",
     "state": {
      "_model_module": "@jupyter-widgets/controls",
      "_model_module_version": "1.5.0",
      "_model_name": "DescriptionStyleModel",
      "_view_count": null,
      "_view_module": "@jupyter-widgets/base",
      "_view_module_version": "1.2.0",
      "_view_name": "StyleView",
      "description_width": ""
     }
    },
    "67e9c132de7d4883b6c5393c6da35c2c": {
     "model_module": "@jupyter-widgets/base",
     "model_name": "LayoutModel",
     "state": {
      "_model_module": "@jupyter-widgets/base",
      "_model_module_version": "1.2.0",
      "_model_name": "LayoutModel",
      "_view_count": null,
      "_view_module": "@jupyter-widgets/base",
      "_view_module_version": "1.2.0",
      "_view_name": "LayoutView",
      "align_content": null,
      "align_items": null,
      "align_self": null,
      "border": null,
      "bottom": null,
      "display": null,
      "flex": null,
      "flex_flow": null,
      "grid_area": null,
      "grid_auto_columns": null,
      "grid_auto_flow": null,
      "grid_auto_rows": null,
      "grid_column": null,
      "grid_gap": null,
      "grid_row": null,
      "grid_template_areas": null,
      "grid_template_columns": null,
      "grid_template_rows": null,
      "height": null,
      "justify_content": null,
      "justify_items": null,
      "left": null,
      "margin": null,
      "max_height": null,
      "max_width": null,
      "min_height": null,
      "min_width": null,
      "object_fit": null,
      "object_position": null,
      "order": null,
      "overflow": null,
      "overflow_x": null,
      "overflow_y": null,
      "padding": null,
      "right": null,
      "top": null,
      "visibility": null,
      "width": null
     }
    },
    "6cd62ecba7b942f7be501fef7ec8bdad": {
     "model_module": "@jupyter-widgets/base",
     "model_name": "LayoutModel",
     "state": {
      "_model_module": "@jupyter-widgets/base",
      "_model_module_version": "1.2.0",
      "_model_name": "LayoutModel",
      "_view_count": null,
      "_view_module": "@jupyter-widgets/base",
      "_view_module_version": "1.2.0",
      "_view_name": "LayoutView",
      "align_content": null,
      "align_items": null,
      "align_self": null,
      "border": null,
      "bottom": null,
      "display": null,
      "flex": null,
      "flex_flow": null,
      "grid_area": null,
      "grid_auto_columns": null,
      "grid_auto_flow": null,
      "grid_auto_rows": null,
      "grid_column": null,
      "grid_gap": null,
      "grid_row": null,
      "grid_template_areas": null,
      "grid_template_columns": null,
      "grid_template_rows": null,
      "height": null,
      "justify_content": null,
      "justify_items": null,
      "left": null,
      "margin": null,
      "max_height": null,
      "max_width": null,
      "min_height": null,
      "min_width": null,
      "object_fit": null,
      "object_position": null,
      "order": null,
      "overflow": null,
      "overflow_x": null,
      "overflow_y": null,
      "padding": null,
      "right": null,
      "top": null,
      "visibility": null,
      "width": null
     }
    },
    "6fdd040a4d744bd89d1d514843da117c": {
     "model_module": "@jupyter-widgets/base",
     "model_name": "LayoutModel",
     "state": {
      "_model_module": "@jupyter-widgets/base",
      "_model_module_version": "1.2.0",
      "_model_name": "LayoutModel",
      "_view_count": null,
      "_view_module": "@jupyter-widgets/base",
      "_view_module_version": "1.2.0",
      "_view_name": "LayoutView",
      "align_content": null,
      "align_items": null,
      "align_self": null,
      "border": null,
      "bottom": null,
      "display": null,
      "flex": null,
      "flex_flow": null,
      "grid_area": null,
      "grid_auto_columns": null,
      "grid_auto_flow": null,
      "grid_auto_rows": null,
      "grid_column": null,
      "grid_gap": null,
      "grid_row": null,
      "grid_template_areas": null,
      "grid_template_columns": null,
      "grid_template_rows": null,
      "height": null,
      "justify_content": null,
      "justify_items": null,
      "left": null,
      "margin": null,
      "max_height": null,
      "max_width": null,
      "min_height": null,
      "min_width": null,
      "object_fit": null,
      "object_position": null,
      "order": null,
      "overflow": null,
      "overflow_x": null,
      "overflow_y": null,
      "padding": null,
      "right": null,
      "top": null,
      "visibility": null,
      "width": null
     }
    },
    "7ff06ea1db0d4134914068c750ddf7db": {
     "model_module": "@jupyter-widgets/controls",
     "model_name": "DescriptionStyleModel",
     "state": {
      "_model_module": "@jupyter-widgets/controls",
      "_model_module_version": "1.5.0",
      "_model_name": "DescriptionStyleModel",
      "_view_count": null,
      "_view_module": "@jupyter-widgets/base",
      "_view_module_version": "1.2.0",
      "_view_name": "StyleView",
      "description_width": ""
     }
    },
    "81428bde673746aba40af42b99c1e66f": {
     "model_module": "@jupyter-widgets/controls",
     "model_name": "DescriptionStyleModel",
     "state": {
      "_model_module": "@jupyter-widgets/controls",
      "_model_module_version": "1.5.0",
      "_model_name": "DescriptionStyleModel",
      "_view_count": null,
      "_view_module": "@jupyter-widgets/base",
      "_view_module_version": "1.2.0",
      "_view_name": "StyleView",
      "description_width": ""
     }
    },
    "849ef2c5d6534117ac010140d7c4c2cd": {
     "model_module": "@jupyter-widgets/controls",
     "model_name": "HTMLModel",
     "state": {
      "_dom_classes": [],
      "_model_module": "@jupyter-widgets/controls",
      "_model_module_version": "1.5.0",
      "_model_name": "HTMLModel",
      "_view_count": null,
      "_view_module": "@jupyter-widgets/controls",
      "_view_module_version": "1.5.0",
      "_view_name": "HTMLView",
      "description": "",
      "description_tooltip": null,
      "layout": "IPY_MODEL_67e9c132de7d4883b6c5393c6da35c2c",
      "placeholder": "​",
      "style": "IPY_MODEL_67d0cbe24b964c8c889c7077f2d72dce",
      "value": " 9913344/? [05:12&lt;00:00, 31749.39it/s]"
     }
    },
    "88aedd54f90f4a878d29a728a91f3158": {
     "model_module": "@jupyter-widgets/base",
     "model_name": "LayoutModel",
     "state": {
      "_model_module": "@jupyter-widgets/base",
      "_model_module_version": "1.2.0",
      "_model_name": "LayoutModel",
      "_view_count": null,
      "_view_module": "@jupyter-widgets/base",
      "_view_module_version": "1.2.0",
      "_view_name": "LayoutView",
      "align_content": null,
      "align_items": null,
      "align_self": null,
      "border": null,
      "bottom": null,
      "display": null,
      "flex": null,
      "flex_flow": null,
      "grid_area": null,
      "grid_auto_columns": null,
      "grid_auto_flow": null,
      "grid_auto_rows": null,
      "grid_column": null,
      "grid_gap": null,
      "grid_row": null,
      "grid_template_areas": null,
      "grid_template_columns": null,
      "grid_template_rows": null,
      "height": null,
      "justify_content": null,
      "justify_items": null,
      "left": null,
      "margin": null,
      "max_height": null,
      "max_width": null,
      "min_height": null,
      "min_width": null,
      "object_fit": null,
      "object_position": null,
      "order": null,
      "overflow": null,
      "overflow_x": null,
      "overflow_y": null,
      "padding": null,
      "right": null,
      "top": null,
      "visibility": null,
      "width": null
     }
    },
    "94e9ebb36cef4af6ab00cebde2ff98a8": {
     "model_module": "@jupyter-widgets/controls",
     "model_name": "FloatProgressModel",
     "state": {
      "_dom_classes": [],
      "_model_module": "@jupyter-widgets/controls",
      "_model_module_version": "1.5.0",
      "_model_name": "FloatProgressModel",
      "_view_count": null,
      "_view_module": "@jupyter-widgets/controls",
      "_view_module_version": "1.5.0",
      "_view_name": "ProgressView",
      "bar_style": "success",
      "description": "",
      "description_tooltip": null,
      "layout": "IPY_MODEL_6cd62ecba7b942f7be501fef7ec8bdad",
      "max": 28881,
      "min": 0,
      "orientation": "horizontal",
      "style": "IPY_MODEL_a557507a51d24a3b8fe1407d9c380da9",
      "value": 28881
     }
    },
    "98adf8ff61b4482c913efa9a76f8b0d4": {
     "model_module": "@jupyter-widgets/base",
     "model_name": "LayoutModel",
     "state": {
      "_model_module": "@jupyter-widgets/base",
      "_model_module_version": "1.2.0",
      "_model_name": "LayoutModel",
      "_view_count": null,
      "_view_module": "@jupyter-widgets/base",
      "_view_module_version": "1.2.0",
      "_view_name": "LayoutView",
      "align_content": null,
      "align_items": null,
      "align_self": null,
      "border": null,
      "bottom": null,
      "display": null,
      "flex": null,
      "flex_flow": null,
      "grid_area": null,
      "grid_auto_columns": null,
      "grid_auto_flow": null,
      "grid_auto_rows": null,
      "grid_column": null,
      "grid_gap": null,
      "grid_row": null,
      "grid_template_areas": null,
      "grid_template_columns": null,
      "grid_template_rows": null,
      "height": null,
      "justify_content": null,
      "justify_items": null,
      "left": null,
      "margin": null,
      "max_height": null,
      "max_width": null,
      "min_height": null,
      "min_width": null,
      "object_fit": null,
      "object_position": null,
      "order": null,
      "overflow": null,
      "overflow_x": null,
      "overflow_y": null,
      "padding": null,
      "right": null,
      "top": null,
      "visibility": null,
      "width": null
     }
    },
    "9ca9a50c8e054cb381b03f7905221adb": {
     "model_module": "@jupyter-widgets/controls",
     "model_name": "HBoxModel",
     "state": {
      "_dom_classes": [],
      "_model_module": "@jupyter-widgets/controls",
      "_model_module_version": "1.5.0",
      "_model_name": "HBoxModel",
      "_view_count": null,
      "_view_module": "@jupyter-widgets/controls",
      "_view_module_version": "1.5.0",
      "_view_name": "HBoxView",
      "box_style": "",
      "children": [
       "IPY_MODEL_4edbea434a6846a0a5ed9ad43dde0541",
       "IPY_MODEL_3ecabce0509c4e629e03cb589976900e"
      ],
      "layout": "IPY_MODEL_252a988ae98f40618c71664023509f00"
     }
    },
    "9f96f65dfd2a49b4a9d879387c8d0d54": {
     "model_module": "@jupyter-widgets/controls",
     "model_name": "FloatProgressModel",
     "state": {
      "_dom_classes": [],
      "_model_module": "@jupyter-widgets/controls",
      "_model_module_version": "1.5.0",
      "_model_name": "FloatProgressModel",
      "_view_count": null,
      "_view_module": "@jupyter-widgets/controls",
      "_view_module_version": "1.5.0",
      "_view_name": "ProgressView",
      "bar_style": "success",
      "description": "",
      "description_tooltip": null,
      "layout": "IPY_MODEL_3d444031bc054de395618d19abad8d09",
      "max": 9912422,
      "min": 0,
      "orientation": "horizontal",
      "style": "IPY_MODEL_236457b80ca74eaab660f4300bd14747",
      "value": 9912422
     }
    },
    "a557507a51d24a3b8fe1407d9c380da9": {
     "model_module": "@jupyter-widgets/controls",
     "model_name": "ProgressStyleModel",
     "state": {
      "_model_module": "@jupyter-widgets/controls",
      "_model_module_version": "1.5.0",
      "_model_name": "ProgressStyleModel",
      "_view_count": null,
      "_view_module": "@jupyter-widgets/base",
      "_view_module_version": "1.2.0",
      "_view_name": "StyleView",
      "bar_color": null,
      "description_width": "initial"
     }
    },
    "c005ee2c32ad462ba0c2e3adffa8f976": {
     "model_module": "@jupyter-widgets/controls",
     "model_name": "HBoxModel",
     "state": {
      "_dom_classes": [],
      "_model_module": "@jupyter-widgets/controls",
      "_model_module_version": "1.5.0",
      "_model_name": "HBoxModel",
      "_view_count": null,
      "_view_module": "@jupyter-widgets/controls",
      "_view_module_version": "1.5.0",
      "_view_name": "HBoxView",
      "box_style": "",
      "children": [
       "IPY_MODEL_94e9ebb36cef4af6ab00cebde2ff98a8",
       "IPY_MODEL_2f26c0c21f2e49bc8bb0c35e9e06d565"
      ],
      "layout": "IPY_MODEL_feab9f9498374a2c9a3208784e2d1f8a"
     }
    },
    "ce5e98c8a7044cf0a19aeb1f47ff1fa6": {
     "model_module": "@jupyter-widgets/base",
     "model_name": "LayoutModel",
     "state": {
      "_model_module": "@jupyter-widgets/base",
      "_model_module_version": "1.2.0",
      "_model_name": "LayoutModel",
      "_view_count": null,
      "_view_module": "@jupyter-widgets/base",
      "_view_module_version": "1.2.0",
      "_view_name": "LayoutView",
      "align_content": null,
      "align_items": null,
      "align_self": null,
      "border": null,
      "bottom": null,
      "display": null,
      "flex": null,
      "flex_flow": null,
      "grid_area": null,
      "grid_auto_columns": null,
      "grid_auto_flow": null,
      "grid_auto_rows": null,
      "grid_column": null,
      "grid_gap": null,
      "grid_row": null,
      "grid_template_areas": null,
      "grid_template_columns": null,
      "grid_template_rows": null,
      "height": null,
      "justify_content": null,
      "justify_items": null,
      "left": null,
      "margin": null,
      "max_height": null,
      "max_width": null,
      "min_height": null,
      "min_width": null,
      "object_fit": null,
      "object_position": null,
      "order": null,
      "overflow": null,
      "overflow_x": null,
      "overflow_y": null,
      "padding": null,
      "right": null,
      "top": null,
      "visibility": null,
      "width": null
     }
    },
    "ea1734a7c9d147fc9a99e354c5820b73": {
     "model_module": "@jupyter-widgets/controls",
     "model_name": "ProgressStyleModel",
     "state": {
      "_model_module": "@jupyter-widgets/controls",
      "_model_module_version": "1.5.0",
      "_model_name": "ProgressStyleModel",
      "_view_count": null,
      "_view_module": "@jupyter-widgets/base",
      "_view_module_version": "1.2.0",
      "_view_name": "StyleView",
      "bar_color": null,
      "description_width": "initial"
=======
      "_view_name": "StyleView",
      "_model_name": "ProgressStyleModel",
      "description_width": "initial",
      "_view_module": "@jupyter-widgets/base",
      "_model_module_version": "1.5.0",
      "_view_count": null,
      "_view_module_version": "1.2.0",
      "bar_color": null,
      "_model_module": "@jupyter-widgets/controls"
     }
    },
    "3d444031bc054de395618d19abad8d09": {
     "model_module": "@jupyter-widgets/base",
     "model_name": "LayoutModel",
     "state": {
      "_view_name": "LayoutView",
      "grid_template_rows": null,
      "right": null,
      "justify_content": null,
      "_view_module": "@jupyter-widgets/base",
      "overflow": null,
      "_model_module_version": "1.2.0",
      "_view_count": null,
      "flex_flow": null,
      "width": null,
      "min_width": null,
      "border": null,
      "align_items": null,
      "bottom": null,
      "_model_module": "@jupyter-widgets/base",
      "top": null,
      "grid_column": null,
      "overflow_y": null,
      "overflow_x": null,
      "grid_auto_flow": null,
      "grid_area": null,
      "grid_template_columns": null,
      "flex": null,
      "_model_name": "LayoutModel",
      "justify_items": null,
      "grid_row": null,
      "max_height": null,
      "align_content": null,
      "visibility": null,
      "align_self": null,
      "height": null,
      "min_height": null,
      "padding": null,
      "grid_auto_rows": null,
      "grid_gap": null,
      "max_width": null,
      "order": null,
      "_view_module_version": "1.2.0",
      "grid_template_areas": null,
      "object_position": null,
      "object_fit": null,
      "grid_auto_columns": null,
      "margin": null,
      "display": null,
      "left": null
     }
    },
    "67d0cbe24b964c8c889c7077f2d72dce": {
     "model_module": "@jupyter-widgets/controls",
     "model_name": "DescriptionStyleModel",
     "state": {
      "_view_name": "StyleView",
      "_model_name": "DescriptionStyleModel",
      "description_width": "",
      "_view_module": "@jupyter-widgets/base",
      "_model_module_version": "1.5.0",
      "_view_count": null,
      "_view_module_version": "1.2.0",
      "_model_module": "@jupyter-widgets/controls"
     }
    },
    "67e9c132de7d4883b6c5393c6da35c2c": {
     "model_module": "@jupyter-widgets/base",
     "model_name": "LayoutModel",
     "state": {
      "_view_name": "LayoutView",
      "grid_template_rows": null,
      "right": null,
      "justify_content": null,
      "_view_module": "@jupyter-widgets/base",
      "overflow": null,
      "_model_module_version": "1.2.0",
      "_view_count": null,
      "flex_flow": null,
      "width": null,
      "min_width": null,
      "border": null,
      "align_items": null,
      "bottom": null,
      "_model_module": "@jupyter-widgets/base",
      "top": null,
      "grid_column": null,
      "overflow_y": null,
      "overflow_x": null,
      "grid_auto_flow": null,
      "grid_area": null,
      "grid_template_columns": null,
      "flex": null,
      "_model_name": "LayoutModel",
      "justify_items": null,
      "grid_row": null,
      "max_height": null,
      "align_content": null,
      "visibility": null,
      "align_self": null,
      "height": null,
      "min_height": null,
      "padding": null,
      "grid_auto_rows": null,
      "grid_gap": null,
      "max_width": null,
      "order": null,
      "_view_module_version": "1.2.0",
      "grid_template_areas": null,
      "object_position": null,
      "object_fit": null,
      "grid_auto_columns": null,
      "margin": null,
      "display": null,
      "left": null
     }
    },
    "c005ee2c32ad462ba0c2e3adffa8f976": {
     "model_module": "@jupyter-widgets/controls",
     "model_name": "HBoxModel",
     "state": {
      "_view_name": "HBoxView",
      "_dom_classes": [],
      "_model_name": "HBoxModel",
      "_view_module": "@jupyter-widgets/controls",
      "_model_module_version": "1.5.0",
      "_view_count": null,
      "_view_module_version": "1.5.0",
      "box_style": "",
      "layout": "IPY_MODEL_feab9f9498374a2c9a3208784e2d1f8a",
      "_model_module": "@jupyter-widgets/controls",
      "children": [
       "IPY_MODEL_94e9ebb36cef4af6ab00cebde2ff98a8",
       "IPY_MODEL_2f26c0c21f2e49bc8bb0c35e9e06d565"
      ]
     }
    },
    "feab9f9498374a2c9a3208784e2d1f8a": {
     "model_module": "@jupyter-widgets/base",
     "model_name": "LayoutModel",
     "state": {
      "_view_name": "LayoutView",
      "grid_template_rows": null,
      "right": null,
      "justify_content": null,
      "_view_module": "@jupyter-widgets/base",
      "overflow": null,
      "_model_module_version": "1.2.0",
      "_view_count": null,
      "flex_flow": null,
      "width": null,
      "min_width": null,
      "border": null,
      "align_items": null,
      "bottom": null,
      "_model_module": "@jupyter-widgets/base",
      "top": null,
      "grid_column": null,
      "overflow_y": null,
      "overflow_x": null,
      "grid_auto_flow": null,
      "grid_area": null,
      "grid_template_columns": null,
      "flex": null,
      "_model_name": "LayoutModel",
      "justify_items": null,
      "grid_row": null,
      "max_height": null,
      "align_content": null,
      "visibility": null,
      "align_self": null,
      "height": null,
      "min_height": null,
      "padding": null,
      "grid_auto_rows": null,
      "grid_gap": null,
      "max_width": null,
      "order": null,
      "_view_module_version": "1.2.0",
      "grid_template_areas": null,
      "object_position": null,
      "object_fit": null,
      "grid_auto_columns": null,
      "margin": null,
      "display": null,
      "left": null
     }
    },
    "94e9ebb36cef4af6ab00cebde2ff98a8": {
     "model_module": "@jupyter-widgets/controls",
     "model_name": "FloatProgressModel",
     "state": {
      "_view_name": "ProgressView",
      "style": "IPY_MODEL_a557507a51d24a3b8fe1407d9c380da9",
      "_dom_classes": [],
      "description": "",
      "_model_name": "FloatProgressModel",
      "bar_style": "success",
      "max": 28881,
      "_view_module": "@jupyter-widgets/controls",
      "_model_module_version": "1.5.0",
      "value": 28881,
      "_view_count": null,
      "_view_module_version": "1.5.0",
      "orientation": "horizontal",
      "min": 0,
      "description_tooltip": null,
      "_model_module": "@jupyter-widgets/controls",
      "layout": "IPY_MODEL_6cd62ecba7b942f7be501fef7ec8bdad"
     }
    },
    "2f26c0c21f2e49bc8bb0c35e9e06d565": {
     "model_module": "@jupyter-widgets/controls",
     "model_name": "HTMLModel",
     "state": {
      "_view_name": "HTMLView",
      "style": "IPY_MODEL_81428bde673746aba40af42b99c1e66f",
      "_dom_classes": [],
      "description": "",
      "_model_name": "HTMLModel",
      "placeholder": "​",
      "_view_module": "@jupyter-widgets/controls",
      "_model_module_version": "1.5.0",
      "value": " 29696/? [00:49&lt;00:00, 605.30it/s]",
      "_view_count": null,
      "_view_module_version": "1.5.0",
      "description_tooltip": null,
      "_model_module": "@jupyter-widgets/controls",
      "layout": "IPY_MODEL_6fdd040a4d744bd89d1d514843da117c"
     }
    },
    "a557507a51d24a3b8fe1407d9c380da9": {
     "model_module": "@jupyter-widgets/controls",
     "model_name": "ProgressStyleModel",
     "state": {
      "_view_name": "StyleView",
      "_model_name": "ProgressStyleModel",
      "description_width": "initial",
      "_view_module": "@jupyter-widgets/base",
      "_model_module_version": "1.5.0",
      "_view_count": null,
      "_view_module_version": "1.2.0",
      "bar_color": null,
      "_model_module": "@jupyter-widgets/controls"
     }
    },
    "6cd62ecba7b942f7be501fef7ec8bdad": {
     "model_module": "@jupyter-widgets/base",
     "model_name": "LayoutModel",
     "state": {
      "_view_name": "LayoutView",
      "grid_template_rows": null,
      "right": null,
      "justify_content": null,
      "_view_module": "@jupyter-widgets/base",
      "overflow": null,
      "_model_module_version": "1.2.0",
      "_view_count": null,
      "flex_flow": null,
      "width": null,
      "min_width": null,
      "border": null,
      "align_items": null,
      "bottom": null,
      "_model_module": "@jupyter-widgets/base",
      "top": null,
      "grid_column": null,
      "overflow_y": null,
      "overflow_x": null,
      "grid_auto_flow": null,
      "grid_area": null,
      "grid_template_columns": null,
      "flex": null,
      "_model_name": "LayoutModel",
      "justify_items": null,
      "grid_row": null,
      "max_height": null,
      "align_content": null,
      "visibility": null,
      "align_self": null,
      "height": null,
      "min_height": null,
      "padding": null,
      "grid_auto_rows": null,
      "grid_gap": null,
      "max_width": null,
      "order": null,
      "_view_module_version": "1.2.0",
      "grid_template_areas": null,
      "object_position": null,
      "object_fit": null,
      "grid_auto_columns": null,
      "margin": null,
      "display": null,
      "left": null
     }
    },
    "81428bde673746aba40af42b99c1e66f": {
     "model_module": "@jupyter-widgets/controls",
     "model_name": "DescriptionStyleModel",
     "state": {
      "_view_name": "StyleView",
      "_model_name": "DescriptionStyleModel",
      "description_width": "",
      "_view_module": "@jupyter-widgets/base",
      "_model_module_version": "1.5.0",
      "_view_count": null,
      "_view_module_version": "1.2.0",
      "_model_module": "@jupyter-widgets/controls"
     }
    },
    "6fdd040a4d744bd89d1d514843da117c": {
     "model_module": "@jupyter-widgets/base",
     "model_name": "LayoutModel",
     "state": {
      "_view_name": "LayoutView",
      "grid_template_rows": null,
      "right": null,
      "justify_content": null,
      "_view_module": "@jupyter-widgets/base",
      "overflow": null,
      "_model_module_version": "1.2.0",
      "_view_count": null,
      "flex_flow": null,
      "width": null,
      "min_width": null,
      "border": null,
      "align_items": null,
      "bottom": null,
      "_model_module": "@jupyter-widgets/base",
      "top": null,
      "grid_column": null,
      "overflow_y": null,
      "overflow_x": null,
      "grid_auto_flow": null,
      "grid_area": null,
      "grid_template_columns": null,
      "flex": null,
      "_model_name": "LayoutModel",
      "justify_items": null,
      "grid_row": null,
      "max_height": null,
      "align_content": null,
      "visibility": null,
      "align_self": null,
      "height": null,
      "min_height": null,
      "padding": null,
      "grid_auto_rows": null,
      "grid_gap": null,
      "max_width": null,
      "order": null,
      "_view_module_version": "1.2.0",
      "grid_template_areas": null,
      "object_position": null,
      "object_fit": null,
      "grid_auto_columns": null,
      "margin": null,
      "display": null,
      "left": null
     }
    },
    "9ca9a50c8e054cb381b03f7905221adb": {
     "model_module": "@jupyter-widgets/controls",
     "model_name": "HBoxModel",
     "state": {
      "_view_name": "HBoxView",
      "_dom_classes": [],
      "_model_name": "HBoxModel",
      "_view_module": "@jupyter-widgets/controls",
      "_model_module_version": "1.5.0",
      "_view_count": null,
      "_view_module_version": "1.5.0",
      "box_style": "",
      "layout": "IPY_MODEL_252a988ae98f40618c71664023509f00",
      "_model_module": "@jupyter-widgets/controls",
      "children": [
       "IPY_MODEL_4edbea434a6846a0a5ed9ad43dde0541",
       "IPY_MODEL_3ecabce0509c4e629e03cb589976900e"
      ]
     }
    },
    "252a988ae98f40618c71664023509f00": {
     "model_module": "@jupyter-widgets/base",
     "model_name": "LayoutModel",
     "state": {
      "_view_name": "LayoutView",
      "grid_template_rows": null,
      "right": null,
      "justify_content": null,
      "_view_module": "@jupyter-widgets/base",
      "overflow": null,
      "_model_module_version": "1.2.0",
      "_view_count": null,
      "flex_flow": null,
      "width": null,
      "min_width": null,
      "border": null,
      "align_items": null,
      "bottom": null,
      "_model_module": "@jupyter-widgets/base",
      "top": null,
      "grid_column": null,
      "overflow_y": null,
      "overflow_x": null,
      "grid_auto_flow": null,
      "grid_area": null,
      "grid_template_columns": null,
      "flex": null,
      "_model_name": "LayoutModel",
      "justify_items": null,
      "grid_row": null,
      "max_height": null,
      "align_content": null,
      "visibility": null,
      "align_self": null,
      "height": null,
      "min_height": null,
      "padding": null,
      "grid_auto_rows": null,
      "grid_gap": null,
      "max_width": null,
      "order": null,
      "_view_module_version": "1.2.0",
      "grid_template_areas": null,
      "object_position": null,
      "object_fit": null,
      "grid_auto_columns": null,
      "margin": null,
      "display": null,
      "left": null
     }
    },
    "4edbea434a6846a0a5ed9ad43dde0541": {
     "model_module": "@jupyter-widgets/controls",
     "model_name": "FloatProgressModel",
     "state": {
      "_view_name": "ProgressView",
      "style": "IPY_MODEL_5f62b97aa660421d8c1ee921b50ec4a4",
      "_dom_classes": [],
      "description": "",
      "_model_name": "FloatProgressModel",
      "bar_style": "success",
      "max": 1648877,
      "_view_module": "@jupyter-widgets/controls",
      "_model_module_version": "1.5.0",
      "value": 1648877,
      "_view_count": null,
      "_view_module_version": "1.5.0",
      "orientation": "horizontal",
      "min": 0,
      "description_tooltip": null,
      "_model_module": "@jupyter-widgets/controls",
      "layout": "IPY_MODEL_98adf8ff61b4482c913efa9a76f8b0d4"
     }
    },
    "3ecabce0509c4e629e03cb589976900e": {
     "model_module": "@jupyter-widgets/controls",
     "model_name": "HTMLModel",
     "state": {
      "_view_name": "HTMLView",
      "style": "IPY_MODEL_519fd47c3c4e4a8394e0d91f671e4bed",
      "_dom_classes": [],
      "description": "",
      "_model_name": "HTMLModel",
      "placeholder": "​",
      "_view_module": "@jupyter-widgets/controls",
      "_model_module_version": "1.5.0",
      "value": " 1649664/? [00:48&lt;00:00, 33725.93it/s]",
      "_view_count": null,
      "_view_module_version": "1.5.0",
      "description_tooltip": null,
      "_model_module": "@jupyter-widgets/controls",
      "layout": "IPY_MODEL_ce5e98c8a7044cf0a19aeb1f47ff1fa6"
     }
    },
    "5f62b97aa660421d8c1ee921b50ec4a4": {
     "model_module": "@jupyter-widgets/controls",
     "model_name": "ProgressStyleModel",
     "state": {
      "_view_name": "StyleView",
      "_model_name": "ProgressStyleModel",
      "description_width": "initial",
      "_view_module": "@jupyter-widgets/base",
      "_model_module_version": "1.5.0",
      "_view_count": null,
      "_view_module_version": "1.2.0",
      "bar_color": null,
      "_model_module": "@jupyter-widgets/controls"
     }
    },
    "98adf8ff61b4482c913efa9a76f8b0d4": {
     "model_module": "@jupyter-widgets/base",
     "model_name": "LayoutModel",
     "state": {
      "_view_name": "LayoutView",
      "grid_template_rows": null,
      "right": null,
      "justify_content": null,
      "_view_module": "@jupyter-widgets/base",
      "overflow": null,
      "_model_module_version": "1.2.0",
      "_view_count": null,
      "flex_flow": null,
      "width": null,
      "min_width": null,
      "border": null,
      "align_items": null,
      "bottom": null,
      "_model_module": "@jupyter-widgets/base",
      "top": null,
      "grid_column": null,
      "overflow_y": null,
      "overflow_x": null,
      "grid_auto_flow": null,
      "grid_area": null,
      "grid_template_columns": null,
      "flex": null,
      "_model_name": "LayoutModel",
      "justify_items": null,
      "grid_row": null,
      "max_height": null,
      "align_content": null,
      "visibility": null,
      "align_self": null,
      "height": null,
      "min_height": null,
      "padding": null,
      "grid_auto_rows": null,
      "grid_gap": null,
      "max_width": null,
      "order": null,
      "_view_module_version": "1.2.0",
      "grid_template_areas": null,
      "object_position": null,
      "object_fit": null,
      "grid_auto_columns": null,
      "margin": null,
      "display": null,
      "left": null
     }
    },
    "519fd47c3c4e4a8394e0d91f671e4bed": {
     "model_module": "@jupyter-widgets/controls",
     "model_name": "DescriptionStyleModel",
     "state": {
      "_view_name": "StyleView",
      "_model_name": "DescriptionStyleModel",
      "description_width": "",
      "_view_module": "@jupyter-widgets/base",
      "_model_module_version": "1.5.0",
      "_view_count": null,
      "_view_module_version": "1.2.0",
      "_model_module": "@jupyter-widgets/controls"
     }
    },
    "ce5e98c8a7044cf0a19aeb1f47ff1fa6": {
     "model_module": "@jupyter-widgets/base",
     "model_name": "LayoutModel",
     "state": {
      "_view_name": "LayoutView",
      "grid_template_rows": null,
      "right": null,
      "justify_content": null,
      "_view_module": "@jupyter-widgets/base",
      "overflow": null,
      "_model_module_version": "1.2.0",
      "_view_count": null,
      "flex_flow": null,
      "width": null,
      "min_width": null,
      "border": null,
      "align_items": null,
      "bottom": null,
      "_model_module": "@jupyter-widgets/base",
      "top": null,
      "grid_column": null,
      "overflow_y": null,
      "overflow_x": null,
      "grid_auto_flow": null,
      "grid_area": null,
      "grid_template_columns": null,
      "flex": null,
      "_model_name": "LayoutModel",
      "justify_items": null,
      "grid_row": null,
      "max_height": null,
      "align_content": null,
      "visibility": null,
      "align_self": null,
      "height": null,
      "min_height": null,
      "padding": null,
      "grid_auto_rows": null,
      "grid_gap": null,
      "max_width": null,
      "order": null,
      "_view_module_version": "1.2.0",
      "grid_template_areas": null,
      "object_position": null,
      "object_fit": null,
      "grid_auto_columns": null,
      "margin": null,
      "display": null,
      "left": null
     }
    },
    "45695149cf564c7e82b9e9efd38edc04": {
     "model_module": "@jupyter-widgets/controls",
     "model_name": "HBoxModel",
     "state": {
      "_view_name": "HBoxView",
      "_dom_classes": [],
      "_model_name": "HBoxModel",
      "_view_module": "@jupyter-widgets/controls",
      "_model_module_version": "1.5.0",
      "_view_count": null,
      "_view_module_version": "1.5.0",
      "box_style": "",
      "layout": "IPY_MODEL_316977222d6840e6b484058ba7e00426",
      "_model_module": "@jupyter-widgets/controls",
      "children": [
       "IPY_MODEL_0b218783f8164784b877d2b245ddac97",
       "IPY_MODEL_1d7bea982dc44d53b82f7a505868db01"
      ]
     }
    },
    "316977222d6840e6b484058ba7e00426": {
     "model_module": "@jupyter-widgets/base",
     "model_name": "LayoutModel",
     "state": {
      "_view_name": "LayoutView",
      "grid_template_rows": null,
      "right": null,
      "justify_content": null,
      "_view_module": "@jupyter-widgets/base",
      "overflow": null,
      "_model_module_version": "1.2.0",
      "_view_count": null,
      "flex_flow": null,
      "width": null,
      "min_width": null,
      "border": null,
      "align_items": null,
      "bottom": null,
      "_model_module": "@jupyter-widgets/base",
      "top": null,
      "grid_column": null,
      "overflow_y": null,
      "overflow_x": null,
      "grid_auto_flow": null,
      "grid_area": null,
      "grid_template_columns": null,
      "flex": null,
      "_model_name": "LayoutModel",
      "justify_items": null,
      "grid_row": null,
      "max_height": null,
      "align_content": null,
      "visibility": null,
      "align_self": null,
      "height": null,
      "min_height": null,
      "padding": null,
      "grid_auto_rows": null,
      "grid_gap": null,
      "max_width": null,
      "order": null,
      "_view_module_version": "1.2.0",
      "grid_template_areas": null,
      "object_position": null,
      "object_fit": null,
      "grid_auto_columns": null,
      "margin": null,
      "display": null,
      "left": null
     }
    },
    "0b218783f8164784b877d2b245ddac97": {
     "model_module": "@jupyter-widgets/controls",
     "model_name": "FloatProgressModel",
     "state": {
      "_view_name": "ProgressView",
      "style": "IPY_MODEL_ea1734a7c9d147fc9a99e354c5820b73",
      "_dom_classes": [],
      "description": "",
      "_model_name": "FloatProgressModel",
      "bar_style": "success",
      "max": 4542,
      "_view_module": "@jupyter-widgets/controls",
      "_model_module_version": "1.5.0",
      "value": 4542,
      "_view_count": null,
      "_view_module_version": "1.5.0",
      "orientation": "horizontal",
      "min": 0,
      "description_tooltip": null,
      "_model_module": "@jupyter-widgets/controls",
      "layout": "IPY_MODEL_88aedd54f90f4a878d29a728a91f3158"
     }
    },
    "1d7bea982dc44d53b82f7a505868db01": {
     "model_module": "@jupyter-widgets/controls",
     "model_name": "HTMLModel",
     "state": {
      "_view_name": "HTMLView",
      "style": "IPY_MODEL_7ff06ea1db0d4134914068c750ddf7db",
      "_dom_classes": [],
      "description": "",
      "_model_name": "HTMLModel",
      "placeholder": "​",
      "_view_module": "@jupyter-widgets/controls",
      "_model_module_version": "1.5.0",
      "value": " 5120/? [00:00&lt;00:00, 29647.70it/s]",
      "_view_count": null,
      "_view_module_version": "1.5.0",
      "description_tooltip": null,
      "_model_module": "@jupyter-widgets/controls",
      "layout": "IPY_MODEL_f9f91fd90b1948b69b9f27ecf4b5cbd1"
     }
    },
    "ea1734a7c9d147fc9a99e354c5820b73": {
     "model_module": "@jupyter-widgets/controls",
     "model_name": "ProgressStyleModel",
     "state": {
      "_view_name": "StyleView",
      "_model_name": "ProgressStyleModel",
      "description_width": "initial",
      "_view_module": "@jupyter-widgets/base",
      "_model_module_version": "1.5.0",
      "_view_count": null,
      "_view_module_version": "1.2.0",
      "bar_color": null,
      "_model_module": "@jupyter-widgets/controls"
     }
    },
    "88aedd54f90f4a878d29a728a91f3158": {
     "model_module": "@jupyter-widgets/base",
     "model_name": "LayoutModel",
     "state": {
      "_view_name": "LayoutView",
      "grid_template_rows": null,
      "right": null,
      "justify_content": null,
      "_view_module": "@jupyter-widgets/base",
      "overflow": null,
      "_model_module_version": "1.2.0",
      "_view_count": null,
      "flex_flow": null,
      "width": null,
      "min_width": null,
      "border": null,
      "align_items": null,
      "bottom": null,
      "_model_module": "@jupyter-widgets/base",
      "top": null,
      "grid_column": null,
      "overflow_y": null,
      "overflow_x": null,
      "grid_auto_flow": null,
      "grid_area": null,
      "grid_template_columns": null,
      "flex": null,
      "_model_name": "LayoutModel",
      "justify_items": null,
      "grid_row": null,
      "max_height": null,
      "align_content": null,
      "visibility": null,
      "align_self": null,
      "height": null,
      "min_height": null,
      "padding": null,
      "grid_auto_rows": null,
      "grid_gap": null,
      "max_width": null,
      "order": null,
      "_view_module_version": "1.2.0",
      "grid_template_areas": null,
      "object_position": null,
      "object_fit": null,
      "grid_auto_columns": null,
      "margin": null,
      "display": null,
      "left": null
     }
    },
    "7ff06ea1db0d4134914068c750ddf7db": {
     "model_module": "@jupyter-widgets/controls",
     "model_name": "DescriptionStyleModel",
     "state": {
      "_view_name": "StyleView",
      "_model_name": "DescriptionStyleModel",
      "description_width": "",
      "_view_module": "@jupyter-widgets/base",
      "_model_module_version": "1.5.0",
      "_view_count": null,
      "_view_module_version": "1.2.0",
      "_model_module": "@jupyter-widgets/controls"
>>>>>>> origin/main
     }
    },
    "f9f91fd90b1948b69b9f27ecf4b5cbd1": {
     "model_module": "@jupyter-widgets/base",
     "model_name": "LayoutModel",
     "state": {
<<<<<<< HEAD
      "_model_module": "@jupyter-widgets/base",
      "_model_module_version": "1.2.0",
      "_model_name": "LayoutModel",
      "_view_count": null,
      "_view_module": "@jupyter-widgets/base",
      "_view_module_version": "1.2.0",
      "_view_name": "LayoutView",
      "align_content": null,
      "align_items": null,
      "align_self": null,
      "border": null,
      "bottom": null,
      "display": null,
      "flex": null,
      "flex_flow": null,
      "grid_area": null,
      "grid_auto_columns": null,
      "grid_auto_flow": null,
      "grid_auto_rows": null,
      "grid_column": null,
      "grid_gap": null,
      "grid_row": null,
      "grid_template_areas": null,
      "grid_template_columns": null,
      "grid_template_rows": null,
      "height": null,
      "justify_content": null,
      "justify_items": null,
      "left": null,
      "margin": null,
      "max_height": null,
      "max_width": null,
      "min_height": null,
      "min_width": null,
      "object_fit": null,
      "object_position": null,
      "order": null,
      "overflow": null,
      "overflow_x": null,
      "overflow_y": null,
      "padding": null,
      "right": null,
      "top": null,
      "visibility": null,
      "width": null
     }
    },
    "feab9f9498374a2c9a3208784e2d1f8a": {
     "model_module": "@jupyter-widgets/base",
     "model_name": "LayoutModel",
     "state": {
      "_model_module": "@jupyter-widgets/base",
      "_model_module_version": "1.2.0",
      "_model_name": "LayoutModel",
      "_view_count": null,
      "_view_module": "@jupyter-widgets/base",
      "_view_module_version": "1.2.0",
      "_view_name": "LayoutView",
      "align_content": null,
      "align_items": null,
      "align_self": null,
      "border": null,
      "bottom": null,
      "display": null,
      "flex": null,
      "flex_flow": null,
      "grid_area": null,
      "grid_auto_columns": null,
      "grid_auto_flow": null,
      "grid_auto_rows": null,
      "grid_column": null,
      "grid_gap": null,
      "grid_row": null,
      "grid_template_areas": null,
      "grid_template_columns": null,
      "grid_template_rows": null,
      "height": null,
      "justify_content": null,
      "justify_items": null,
      "left": null,
      "margin": null,
      "max_height": null,
      "max_width": null,
      "min_height": null,
      "min_width": null,
      "object_fit": null,
      "object_position": null,
      "order": null,
      "overflow": null,
      "overflow_x": null,
      "overflow_y": null,
      "padding": null,
      "right": null,
      "top": null,
      "visibility": null,
      "width": null
     }
    }
   }
  }
 },
 "nbformat": 4,
 "nbformat_minor": 4
}
=======
      "_view_name": "LayoutView",
      "grid_template_rows": null,
      "right": null,
      "justify_content": null,
      "_view_module": "@jupyter-widgets/base",
      "overflow": null,
      "_model_module_version": "1.2.0",
      "_view_count": null,
      "flex_flow": null,
      "width": null,
      "min_width": null,
      "border": null,
      "align_items": null,
      "bottom": null,
      "_model_module": "@jupyter-widgets/base",
      "top": null,
      "grid_column": null,
      "overflow_y": null,
      "overflow_x": null,
      "grid_auto_flow": null,
      "grid_area": null,
      "grid_template_columns": null,
      "flex": null,
      "_model_name": "LayoutModel",
      "justify_items": null,
      "grid_row": null,
      "max_height": null,
      "align_content": null,
      "visibility": null,
      "align_self": null,
      "height": null,
      "min_height": null,
      "padding": null,
      "grid_auto_rows": null,
      "grid_gap": null,
      "max_width": null,
      "order": null,
      "_view_module_version": "1.2.0",
      "grid_template_areas": null,
      "object_position": null,
      "object_fit": null,
      "grid_auto_columns": null,
      "margin": null,
      "display": null,
      "left": null
     }
    }
   }
  },
  "accelerator": "GPU"
 },
 "cells": [
  {
   "cell_type": "code",
   "execution_count": 1,
   "outputs": [],
   "source": [
    "import matplotlib.pyplot as plt\n",
    "import numpy as np\n",
    "import random\n",
    "import os\n",
    "from tqdm import tqdm\n",
    "\n",
    "import torch\n",
    "import torchvision\n",
    "from torchvision import transforms\n",
    "from torch.utils.data import DataLoader,random_split\n",
    "from torch import nn\n",
    "import time"
   ],
   "metadata": {
    "collapsed": false,
    "pycharm": {
     "name": "#%%\n"
    }
   }
  },
  {
   "cell_type": "markdown",
   "source": [
    "## 0 Load and Pre-process Dataset"
   ],
   "metadata": {
    "collapsed": false,
    "pycharm": {
     "name": "#%% md\n"
    }
   }
  },
  {
   "cell_type": "code",
   "execution_count": 2,
   "outputs": [
    {
     "name": "stdout",
     "output_type": "stream",
     "text": [
      "Using downloaded and verified file: Dataset\\train_32x32.mat\n",
      "Using downloaded and verified file: Dataset\\test_32x32.mat\n"
     ]
    }
   ],
   "source": [
    "data_dir = 'Dataset'\n",
    "train_dataset = torchvision.datasets.SVHN(data_dir, split='train', download=True)\n",
    "test_dataset  = torchvision.datasets.SVHN(data_dir, split='test', download=True)"
   ],
   "metadata": {
    "collapsed": false,
    "pycharm": {
     "name": "#%%\n"
    }
   }
  },
  {
   "cell_type": "code",
   "metadata": {
    "id": "6dSuvYQ0UHwE",
    "pycharm": {
     "name": "#%%\n"
    }
   },
   "source": [
    "train_transform = transforms.Compose([\n",
    "    transforms.ToTensor(),\n",
    "])\n",
    "test_transform = transforms.Compose([\n",
    "    transforms.ToTensor(),\n",
    "])\n",
    "\n",
    "# Set the train transform\n",
    "train_dataset.transform = train_transform\n",
    "# Set the test transform\n",
    "test_dataset.transform = test_transform"
   ],
   "execution_count": 3,
   "outputs": []
  },
  {
   "cell_type": "code",
   "metadata": {
    "id": "gxDwjH65UKQ0",
    "pycharm": {
     "name": "#%%\n"
    }
   },
   "source": [
    "m=len(train_dataset)\n",
    "# test_dataset: 73,257\n",
    "# test_dataset: 26,032\n",
    "\n",
    "# random_split randomly split a dataset into non-overlapping new datasets of given lengths\n",
    "# train (58,605 images), validation (14,652 images)\n",
    "train_data, val_data = random_split(train_dataset, [int(m-m*0.2), len(train_dataset)-int(m-m*0.2)])\n",
    "\n",
    "batch_size=256\n",
    "\n",
    "# The dataloaders handle shuffling, batching, etc...\n",
    "train_loader = torch.utils.data.DataLoader(train_data, batch_size=batch_size)\n",
    "valid_loader = torch.utils.data.DataLoader(val_data, batch_size=batch_size)\n",
    "test_loader = torch.utils.data.DataLoader(test_dataset, batch_size=batch_size,shuffle=True)"
   ],
   "execution_count": 4,
   "outputs": []
  },
  {
   "cell_type": "markdown",
   "metadata": {
    "id": "as0xsZcPUoeB",
    "pycharm": {
     "name": "#%% md\n"
    }
   },
   "source": [
    "## 1 Define Encoder and Decoder classes"
   ]
  },
  {
   "cell_type": "code",
   "metadata": {
    "id": "M5WQiiUUUkwo",
    "pycharm": {
     "name": "#%%\n"
    }
   },
   "source": [
    "class Encoder(nn.Module):\n",
    "    \n",
    "    def __init__(self, encoded_space_dim,fc2_input_dim):\n",
    "        super().__init__()\n",
    "        \n",
    "        ### Convolutional section\n",
    "        self.encoder_cnn = nn.Sequential(\n",
    "            nn.Conv2d(3, 32, 3, stride=2, padding=0),\n",
    "            nn.ReLU(),\n",
    "            nn.Conv2d(32, 64, 3, stride=2, padding=0),\n",
    "            nn.ReLU(),\n",
    "            nn.Conv2d(64, 128, 3, stride=2, padding=0),\n",
    "            nn.ReLU(),\n",
    "        )\n",
    "        \n",
    "        ### Flatten layer\n",
    "        self.flatten = nn.Flatten(start_dim=1)\n",
    "\n",
    "        ### Linear section\n",
    "        self.encoder_lin = nn.Sequential(\n",
    "            nn.Linear(3 * 3 * 128, 512),\n",
    "            nn.ReLU(),\n",
    "            nn.Linear(512, 256),\n",
    "            nn.ReLU(),\n",
    "            nn.Linear(256, encoded_space_dim)\n",
    "        )\n",
    "        \n",
    "    def forward(self, x):\n",
    "        # Apply convolutions\n",
    "        x = self.encoder_cnn(x)\n",
    "        # Flatten\n",
    "        x = self.flatten(x)\n",
    "        # Apply linear layers\n",
    "        x = self.encoder_lin(x)\n",
    "        return x"
   ],
   "execution_count": 5,
   "outputs": []
  },
  {
   "cell_type": "code",
   "metadata": {
    "id": "jN6C39HpUnt4",
    "pycharm": {
     "name": "#%%\n"
    }
   },
   "source": [
    "class Decoder(nn.Module):\n",
    "    \n",
    "    def __init__(self, encoded_space_dim,fc2_input_dim):\n",
    "        super().__init__()\n",
    "\n",
    "        ### Linear section\n",
    "        self.decoder_lin = nn.Sequential(\n",
    "            nn.Linear(encoded_space_dim, 256),\n",
    "            nn.ReLU(),\n",
    "            nn.Linear(256, 512),\n",
    "            nn.ReLU(),\n",
    "            nn.Linear(512, 3 * 3 * 128),\n",
    "            nn.ReLU()\n",
    "        )\n",
    "\n",
    "        ### Unflatten\n",
    "        self.unflatten = nn.Unflatten(dim=1, unflattened_size=(128, 3, 3))\n",
    "\n",
    "        ### Convolutional section\n",
    "        self.decoder_conv = nn.Sequential(\n",
    "            # First transposed convolution\n",
    "            nn.ConvTranspose2d(128, 64, 3, stride=2),\n",
    "            nn.ReLU(),\n",
    "            nn.ConvTranspose2d(64, 32, 3, stride=2),\n",
    "            nn.ReLU(),\n",
    "            nn.ConvTranspose2d(32, 3, 4, stride=2)\n",
    "        )\n",
    "        \n",
    "    def forward(self, x):\n",
    "        # Apply linear layers\n",
    "        x = self.decoder_lin(x)\n",
    "        # Unflatten\n",
    "        x = self.unflatten(x)\n",
    "        # Apply transposed convolutions\n",
    "        x = self.decoder_conv(x)\n",
    "        # Apply a sigmoid to force the output to be between 0 and 1 (valid pixel values)\n",
    "        x = torch.sigmoid(x)\n",
    "        return x"
   ],
   "execution_count": 6,
   "outputs": []
  },
  {
   "cell_type": "markdown",
   "metadata": {
    "id": "11PfNdpaUtvA",
    "pycharm": {
     "name": "#%% md\n"
    }
   },
   "source": [
    "## 2 initialize models, loss and optimizer"
   ]
  },
  {
   "cell_type": "code",
   "metadata": {
    "id": "zumnP3q0UKVf",
    "pycharm": {
     "name": "#%%\n"
    }
   },
   "source": [
    "### Set the random seed for reproducible results\n",
    "torch.manual_seed(0)\n",
    "\n",
    "### Initialize the two networks\n",
    "d = 100\n",
    "\n",
    "encoder = Encoder(encoded_space_dim=d,fc2_input_dim=128)\n",
    "decoder = Decoder(encoded_space_dim=d,fc2_input_dim=128)"
   ],
   "execution_count": 7,
   "outputs": []
  },
  {
   "cell_type": "code",
   "metadata": {
    "colab": {
     "base_uri": "https://localhost:8080/"
    },
    "id": "VbXot02tUKYb",
    "outputId": "39fe8eca-8491-44b3-83b5-255e55ca5aba",
    "pycharm": {
     "name": "#%%\n"
    }
   },
   "source": [
    "### Define the loss function\n",
    "loss_fn = torch.nn.MSELoss()\n",
    "\n",
    "### Define an optimizer (both for the encoder and the decoder!)\n",
    "lr= 0.001 # Learning rate\n",
    "\n",
    "\n",
    "params_to_optimize = [\n",
    "    {'params': encoder.parameters()},\n",
    "    {'params': decoder.parameters()}\n",
    "]\n",
    "\n",
    "device = torch.device(\"cuda\") if torch.cuda.is_available() else torch.device(\"cpu\")\n",
    "\n",
    "optim = torch.optim.Adam(params_to_optimize, lr=lr)\n",
    "\n",
    "# Move both the encoder and the decoder to the selected device\n",
    "encoder.to(device)\n",
    "decoder.to(device)"
   ],
   "execution_count": 8,
   "outputs": [
    {
     "data": {
      "text/plain": "Decoder(\n  (decoder_lin): Sequential(\n    (0): Linear(in_features=100, out_features=256, bias=True)\n    (1): ReLU()\n    (2): Linear(in_features=256, out_features=512, bias=True)\n    (3): ReLU()\n    (4): Linear(in_features=512, out_features=1152, bias=True)\n    (5): ReLU()\n  )\n  (unflatten): Unflatten(dim=1, unflattened_size=(128, 3, 3))\n  (decoder_conv): Sequential(\n    (0): ConvTranspose2d(128, 64, kernel_size=(3, 3), stride=(2, 2))\n    (1): ReLU()\n    (2): ConvTranspose2d(64, 32, kernel_size=(3, 3), stride=(2, 2))\n    (3): ReLU()\n    (4): ConvTranspose2d(32, 3, kernel_size=(4, 4), stride=(2, 2))\n  )\n)"
     },
     "execution_count": 8,
     "metadata": {},
     "output_type": "execute_result"
    }
   ]
  },
  {
   "cell_type": "markdown",
   "metadata": {
    "id": "oqAEQg_OUxS6",
    "pycharm": {
     "name": "#%% md\n"
    }
   },
   "source": [
    "## 3 Train model"
   ]
  },
  {
   "cell_type": "code",
   "metadata": {
    "id": "gfrLl5_qUKbd",
    "pycharm": {
     "name": "#%%\n"
    }
   },
   "source": [
    "### Training function\n",
    "def train_epoch_den(encoder, decoder, device, dataloader, optimizer, val_lambda0=1, val_lambda=1, val_lambdaprime=1):\n",
    "    # Set train mode for both the encoder and the decoder\n",
    "    encoder.train()\n",
    "    decoder.train()\n",
    "    train_loss1 = []\n",
    "    train_loss2 = []\n",
    "    train_loss3 = []\n",
    "    train_loss = []\n",
    "\n",
    "    # Iterate the dataloader (we do not need the label values, this is unsupervised learning)\n",
    "    for image_batch, _ in dataloader: # with \"_\" we just ignore the labels (the second element of the dataloader tuple)\n",
    "        # Move tensor to the proper device\n",
    "        image_batch = image_batch.to(device)\n",
    "        # Encode data (z)\n",
    "        encoded_data = encoder(image_batch)\n",
    "        z_zeros = torch.zeros_like(encoded_data)\n",
    "        # Decode data (x_hat)\n",
    "        decoded_data = decoder(encoded_data)\n",
    "        # Re-encode data (z_hat)\n",
    "        z_hat = encoder(decoded_data)\n",
    "\n",
    "        # Evaluate loss\n",
    "        loss_fn = torch.nn.MSELoss()\n",
    "        loss1 = loss_fn(image_batch, decoded_data)\n",
    "        loss2 = loss_fn(encoded_data, z_hat)\n",
    "        loss3 = loss_fn(encoded_data, z_zeros)\n",
    "        loss = val_lambda0 * loss1 + val_lambda * loss2 + val_lambdaprime * loss3\n",
    "\n",
    "        # Backward pass\n",
    "        optimizer.zero_grad()\n",
    "        loss.backward()\n",
    "        optimizer.step()\n",
    "\n",
    "        # Batch loss\n",
    "        train_loss1.append(loss1.detach().cpu().numpy())\n",
    "        train_loss2.append(loss2.detach().cpu().numpy())\n",
    "        train_loss3.append(loss3.detach().cpu().numpy())\n",
    "        train_loss.append(loss.detach().cpu().numpy())\n",
    "\n",
    "    return np.mean(train_loss1), np.mean(train_loss2), np.mean(train_loss3), np.mean(train_loss)"
   ],
   "execution_count": 9,
   "outputs": []
  },
  {
   "cell_type": "code",
   "metadata": {
    "id": "bWM89AYgUKeM",
    "pycharm": {
     "name": "#%%\n"
    }
   },
   "source": [
    "### Testing function\n",
    "def test_epoch_den(encoder, decoder, device, dataloader, loss_fn):\n",
    "    # Set evaluation mode for encoder and decoder\n",
    "    encoder.eval()\n",
    "    decoder.eval()\n",
    "    with torch.no_grad(): # No need to track the gradients\n",
    "        # Define the lists to store the outputs for each batch\n",
    "        conc_out = []\n",
    "        conc_label = []\n",
    "        for image_batch, _ in dataloader:\n",
    "            # Move tensor to the proper device\n",
    "            image_batch = image_batch.to(device)\n",
    "            # Encode data\n",
    "            encoded_data = encoder(image_batch)\n",
    "            # Decode data\n",
    "            decoded_data = decoder(encoded_data)\n",
    "            # Append the network output and the original image to the lists\n",
    "            conc_out.append(decoded_data.cpu())\n",
    "            conc_label.append(image_batch.cpu())\n",
    "        # Create a single tensor with all the values in the lists\n",
    "        conc_out = torch.cat(conc_out)\n",
    "        conc_label = torch.cat(conc_label) \n",
    "        # Evaluate global loss\n",
    "        val_loss = loss_fn(conc_out, conc_label)\n",
    "    return val_loss.data"
   ],
   "execution_count": 10,
   "outputs": []
  },
  {
   "cell_type": "code",
   "metadata": {
    "colab": {
     "base_uri": "https://localhost:8080/",
     "height": 1000
    },
    "id": "C891gOpYVN_1",
    "outputId": "16f09fa2-4835-4987-a3f7-e9ac4916e51a",
    "pycharm": {
     "name": "#%%\n"
    }
   },
   "source": [
    "### Training cycle\n",
    "num_epochs = 30\n",
    "val_lambda0 = 1\n",
    "val_lambda = 1\n",
    "val_lambdaprime = 1\n",
    "history_da={'train_loss':[],'val_loss':[]}\n",
    "loss1 = []\n",
    "loss2 = []\n",
    "loss3 = []\n",
    "loss = []\n",
    "v_loss = []\n",
    "\n",
    "for epoch in range(num_epochs):\n",
    "    #print('EPOCH %d/%d' % (epoch + 1, num_epochs))\n",
    "    ### Training (use the training function)\n",
    "    train_loss1, train_loss2, train_loss3, train_loss=train_epoch_den(\n",
    "        encoder=encoder, \n",
    "        decoder=decoder, \n",
    "        device=device, \n",
    "        dataloader=train_loader, \n",
    "        optimizer=optim,\n",
    "        val_lambda0=val_lambda0,\n",
    "        val_lambda=val_lambda,\n",
    "        val_lambdaprime=val_lambdaprime)\n",
    "\n",
    "    loss.append(train_loss)\n",
    "    loss1.append(train_loss1)\n",
    "    loss2.append(train_loss2)\n",
    "    loss3.append(train_loss3)\n",
    "\n",
    "    ### Validation  (use the testing function)\n",
    "    val_loss = test_epoch_den(\n",
    "        encoder=encoder, \n",
    "        decoder=decoder, \n",
    "        device=device, \n",
    "        dataloader=valid_loader, \n",
    "        loss_fn=loss_fn)\n",
    "    v_loss.append(val_loss)\n",
    "    # Print loss\n",
    "    print('EPOCH {}/{} \\t train loss {:.3f} \\t val loss {:.3f}'.format(epoch + 1, num_epochs, train_loss, val_loss))\n",
    "\n",
    "prefix = './model' + '/CAE_dim{}'.format(d)+ '_lmd_{}_{}_{}'.format(val_lambda0, val_lambda, val_lambdaprime) + '_epc{}_'.format(epoch+1)\n",
    "name = time.strftime(prefix + '%m%d_%H_%M_%S.pth')\n",
    "torch.save([encoder, decoder], name)"
   ],
   "execution_count": 11,
   "outputs": [
    {
     "name": "stdout",
     "output_type": "stream",
     "text": [
      "EPOCH 1/30 \t train loss 0.022 \t val loss 0.017\n",
      "EPOCH 2/30 \t train loss 0.017 \t val loss 0.017\n",
      "EPOCH 3/30 \t train loss 0.016 \t val loss 0.015\n",
      "EPOCH 4/30 \t train loss 0.014 \t val loss 0.013\n",
      "EPOCH 5/30 \t train loss 0.012 \t val loss 0.012\n",
      "EPOCH 6/30 \t train loss 0.011 \t val loss 0.011\n",
      "EPOCH 7/30 \t train loss 0.011 \t val loss 0.011\n",
      "EPOCH 8/30 \t train loss 0.011 \t val loss 0.011\n",
      "EPOCH 9/30 \t train loss 0.010 \t val loss 0.010\n",
      "EPOCH 10/30 \t train loss 0.010 \t val loss 0.010\n",
      "EPOCH 11/30 \t train loss 0.010 \t val loss 0.010\n",
      "EPOCH 12/30 \t train loss 0.010 \t val loss 0.010\n",
      "EPOCH 13/30 \t train loss 0.009 \t val loss 0.009\n",
      "EPOCH 14/30 \t train loss 0.009 \t val loss 0.009\n",
      "EPOCH 15/30 \t train loss 0.009 \t val loss 0.008\n",
      "EPOCH 16/30 \t train loss 0.008 \t val loss 0.008\n",
      "EPOCH 17/30 \t train loss 0.008 \t val loss 0.008\n",
      "EPOCH 18/30 \t train loss 0.008 \t val loss 0.008\n",
      "EPOCH 19/30 \t train loss 0.008 \t val loss 0.008\n",
      "EPOCH 20/30 \t train loss 0.008 \t val loss 0.008\n",
      "EPOCH 21/30 \t train loss 0.007 \t val loss 0.007\n",
      "EPOCH 22/30 \t train loss 0.007 \t val loss 0.007\n",
      "EPOCH 23/30 \t train loss 0.007 \t val loss 0.007\n",
      "EPOCH 24/30 \t train loss 0.007 \t val loss 0.007\n",
      "EPOCH 25/30 \t train loss 0.007 \t val loss 0.007\n",
      "EPOCH 26/30 \t train loss 0.007 \t val loss 0.007\n",
      "EPOCH 27/30 \t train loss 0.007 \t val loss 0.006\n",
      "EPOCH 28/30 \t train loss 0.006 \t val loss 0.006\n",
      "EPOCH 29/30 \t train loss 0.006 \t val loss 0.006\n",
      "EPOCH 30/30 \t train loss 0.006 \t val loss 0.006\n"
     ]
    }
   ]
  },
  {
   "cell_type": "markdown",
   "source": [
    "## 4 Results"
   ],
   "metadata": {
    "collapsed": false,
    "pycharm": {
     "name": "#%% md\n"
    }
   }
  },
  {
   "cell_type": "markdown",
   "source": [
    "### 4.1 Training Loss and Reconstructed Images"
   ],
   "metadata": {
    "collapsed": false,
    "pycharm": {
     "name": "#%% md\n"
    }
   }
  },
  {
   "cell_type": "code",
   "execution_count": 12,
   "outputs": [
    {
     "data": {
      "text/plain": "<Figure size 432x288 with 1 Axes>",
      "image/png": "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\n"
     },
     "metadata": {
      "needs_background": "light"
     },
     "output_type": "display_data"
    },
    {
     "data": {
      "text/plain": "<Figure size 432x288 with 1 Axes>",
      "image/png": "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\n"
     },
     "metadata": {
      "needs_background": "light"
     },
     "output_type": "display_data"
    }
   ],
   "source": [
    "plt.figure()\n",
    "plt.plot(loss, '--', linewidth=2.5)\n",
    "plt.plot(v_loss)\n",
    "plt.plot(loss1)\n",
    "plt.plot(loss2)\n",
    "plt.plot(loss3)\n",
    "plt.xlabel('Epoch')\n",
    "plt.ylabel('Loss')\n",
    "plt.legend(labels=['loss', 'val_loss', 'x-x_hat', 'z-z_hat', 'z'])\n",
    "plt.savefig('./figs/Loss_dim{}_lmd_{}_{}_{}.png'.format(d, val_lambda0, val_lambda, val_lambdaprime))\n",
    "plt.show()\n",
    "\n",
    "plt.figure()\n",
    "plt.plot(loss2)\n",
    "plt.plot(loss3)\n",
    "plt.xlabel('Epoch')\n",
    "plt.ylabel('Loss')\n",
    "plt.legend(labels=['z-z_hat', 'z'])\n",
    "plt.savefig('./figs/Loss_z_dim{}_lmd_{}_{}_{}.png'.format(d, val_lambda0, val_lambda, val_lambdaprime))\n",
    "plt.show()"
   ],
   "metadata": {
    "collapsed": false,
    "pycharm": {
     "name": "#%%\n"
    }
   }
  },
  {
   "cell_type": "code",
   "execution_count": 13,
   "outputs": [
    {
     "data": {
      "text/plain": "<Figure size 720x324 with 10 Axes>",
      "image/png": "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\n"
     },
     "metadata": {
      "needs_background": "light"
     },
     "output_type": "display_data"
    }
   ],
   "source": [
    "#encoder, decoder =torch.load('./model/CAE_dim100_lmd_1_1_1_epc30_0924_11_03_11.pth')\n",
    "plt.figure(figsize=(10,4.5))\n",
    "n=5\n",
    "for i in range(n):\n",
    "    ax = plt.subplot(2,n,i+1)\n",
    "    img = test_dataset[10*i+5][0].unsqueeze(0).to(device)\n",
    "    encoder.eval()\n",
    "    decoder.eval()\n",
    "    with torch.no_grad():\n",
    "        rec_img  = decoder(encoder(img))\n",
    "\n",
    "    im = img.cpu().squeeze().numpy()\n",
    "    im = im.transpose((1,2,0))\n",
    "    plt.imshow(im, interpolation='nearest')\n",
    "    #plt.imshow(img.cpu().squeeze().numpy(), cmap='gist_gray')\n",
    "    ax.get_xaxis().set_visible(False)\n",
    "    ax.get_yaxis().set_visible(False)\n",
    "    if i == n//2:\n",
    "        ax.set_title('Original images')\n",
    "    ax = plt.subplot(2, n, i + 1 + n)\n",
    "    rec_im = rec_img.cpu().squeeze().numpy()\n",
    "    rec_im = rec_im.transpose((1,2,0))\n",
    "    plt.imshow(rec_im, interpolation='nearest')\n",
    "    #plt.imshow(rec_img.cpu().squeeze().numpy(), cmap='gist_gray')\n",
    "    ax.get_xaxis().set_visible(False)\n",
    "    ax.get_yaxis().set_visible(False)\n",
    "    if i == n//2:\n",
    "        ax.set_title('Reconstructed images')\n",
    "plt.savefig('./figs/Rec_imgs_dim{}_lmd_{}_{}_{}_a.png'.format(d, val_lambda0, val_lambda, val_lambdaprime))\n",
    "plt.show()"
   ],
   "metadata": {
    "collapsed": false,
    "pycharm": {
     "name": "#%%\n"
    }
   }
  },
  {
   "cell_type": "markdown",
   "source": [
    "### 4.2 SNR_x vs. SNR_z with noisy z (encoded data)"
   ],
   "metadata": {
    "collapsed": false,
    "pycharm": {
     "name": "#%% md\n"
    }
   }
  },
  {
   "cell_type": "code",
   "execution_count": 14,
   "outputs": [],
   "source": [
    "def add_noise(inputs, noise_factor=0.3):\n",
    "     noise = inputs+torch.randn_like(inputs)*noise_factor\n",
    "     noise = torch.clip(noise,0.,1.)\n",
    "     noise = noise.float()\n",
    "     return noise"
   ],
   "metadata": {
    "collapsed": false,
    "pycharm": {
     "name": "#%%\n"
    }
   }
  },
  {
   "cell_type": "code",
   "execution_count": 17,
   "outputs": [],
   "source": [
    "### SNR_x vs. SNR_z\n",
    "encoder, decoder =torch.load('./model/dimension/CAE_dim100_lmd_1_1_1_epc30_0925_14_43_42.pth')\n",
    "snrs = np.linspace(1, 20, 20)\n",
    "snrs_x = np.zeros(len(snrs))\n",
    "i = 0\n",
    "for snr in snrs:\n",
    "    encoder.eval()\n",
    "    decoder.eval()\n",
    "    with torch.no_grad(): # No need to track the gradients\n",
    "        conc_label = []\n",
    "        conc_z = []\n",
    "        conc_x_zeros = []\n",
    "        conc_z_zeros = []\n",
    "        for image_batch, _ in test_loader:\n",
    "            # Move tensor to the proper device (x)\n",
    "            conc_label.append(image_batch)\n",
    "            x_zeros = torch.zeros_like(image_batch)\n",
    "            image_batch = image_batch.to(device)\n",
    "            # Encode data (z)\n",
    "            encoded_data = encoder(image_batch)\n",
    "            encoded_data = encoded_data.detach().cpu()\n",
    "            # Calculate sigma\n",
    "            z_zeros = torch.zeros_like(encoded_data)\n",
    "            conc_z.append(encoded_data)\n",
    "            conc_x_zeros.append(x_zeros)\n",
    "            conc_z_zeros.append(z_zeros)\n",
    "\n",
    "        conc_label = torch.cat(conc_label)\n",
    "        conc_z = torch.cat(conc_z)\n",
    "        conc_x_zeros = torch.cat(conc_x_zeros)\n",
    "        conc_z_zeros = torch.cat(conc_z_zeros)\n",
    "\n",
    "        Ez = loss_fn(conc_z, conc_z_zeros)\n",
    "        sigma = Ez / torch.pow(10, torch.log10(torch.from_numpy(np.array([snr/10]))))\n",
    "\n",
    "        # Add noise\n",
    "        z_tilde = add_noise(conc_z, sigma)\n",
    "        z_tilde = z_tilde.to(device)\n",
    "        # Decode noisy data(x_hat)\n",
    "        decoded_data = decoder(z_tilde)\n",
    "        decoded_data = decoded_data.detach().cpu()\n",
    "\n",
    "        # Evaluate global loss\n",
    "        lossx = loss_fn(decoded_data, conc_label)\n",
    "        Ex = loss_fn(conc_label, conc_x_zeros)\n",
    "        lossx = lossx.numpy()\n",
    "        Ex = Ex.numpy()\n",
    "        # Calculate SNR_x\n",
    "        snr_x = 10 * np.log10(Ex / lossx)\n",
    "        snrs_x[i] = snr_x\n",
    "\n",
    "        i = i + 1"
   ],
   "metadata": {
    "collapsed": false,
    "pycharm": {
     "name": "#%%\n"
    }
   }
  },
  {
   "cell_type": "code",
   "execution_count": 18,
   "outputs": [
    {
     "data": {
      "text/plain": "<Figure size 432x288 with 1 Axes>",
      "image/png": "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\n"
     },
     "metadata": {
      "needs_background": "light"
     },
     "output_type": "display_data"
    }
   ],
   "source": [
    "plt.figure()\n",
    "plt.plot(snrs, snrs_x)\n",
    "plt.xlabel('SNR_z (dB)')\n",
    "plt.ylabel('SNR_x (dB)')\n",
    "plt.savefig('./figs/SNR_x_vs_SNR_z_dim{}_lmd_{}_{}_{}.png'.format(d, val_lambda0, val_lambda, val_lambdaprime))\n",
    "plt.show()"
   ],
   "metadata": {
    "collapsed": false,
    "pycharm": {
     "name": "#%%\n"
    }
   }
  },
  {
   "cell_type": "code",
   "execution_count": null,
   "outputs": [],
   "source": [],
   "metadata": {
    "collapsed": false,
    "pycharm": {
     "name": "#%%\n"
    }
   }
  }
 ]
}
>>>>>>> origin/main
