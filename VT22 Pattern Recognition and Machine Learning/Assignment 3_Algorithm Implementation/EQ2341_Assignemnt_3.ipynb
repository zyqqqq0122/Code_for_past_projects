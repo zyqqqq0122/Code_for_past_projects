{
 "cells": [
  {
   "cell_type": "code",
   "execution_count": 1,
   "metadata": {},
   "outputs": [],
   "source": [
    "from PattRecClasses import DiscreteD, GaussD, HMM, MarkovChain\n",
    "import numpy as np"
   ]
  },
  {
   "cell_type": "code",
   "execution_count": 4,
   "metadata": {},
   "outputs": [
    {
     "name": "stdout",
     "output_type": "stream",
     "text": [
      "pX:\n",
      " [[0.39104269 0.01358297 0.17136859]\n",
      " [0.05546042 0.19552135 0.13899244]]\n",
      "alpha_hat:\n",
      " [[1.         0.38470424 0.41887466]\n",
      " [0.         0.61529576 0.58112534]]\n",
      "c: [0.39104269 0.03177681 0.14165001 0.05811253]\n",
      "prob_log: -9.187726979475208 \n",
      "\n",
      "pX_scaled:\n",
      " [[1.         0.06947052 1.        ]\n",
      " [0.14182701 1.         0.81107303]]\n",
      "alpha_hat_scaled:\n",
      " [[1.         0.38470424 0.41887466]\n",
      " [0.         0.61529576 0.58112534]]\n",
      "c_scaled: [1.         0.16252347 0.82658096 0.05811253]\n",
      "prob_log_scaled: -9.187726979475208\n"
     ]
    }
   ],
   "source": [
    "# State generator\n",
    "q = np.array([1, 0])\n",
    "A = np.array([[0.9, 0.1, 0], [0, 0.9, 0.1]])\n",
    "obsrv = np.array([-0.2, 2.6, 1.3])\n",
    "mc = MarkovChain(initial_prob=q, transition_prob=A)\n",
    "\n",
    "g1 = GaussD(means=[0], stdevs=[1])   # Distribution for state = 1\n",
    "g2 = GaussD(means=[3], stdevs=[2])   # Distribution for state = 2\n",
    "h = HMM(mc, [g1, g2])                # The HMM\n",
    "\n",
    "pX, pX_scaled, factors = GaussD.prob(obsrv=obsrv, distr=[g1, g2])\n",
    "alpha_hat, alpha_hat_scaled, c, c_scaled, prob_log, prob_log_scaled = HMM.logprob(obsrv, [g1, g2], mc)\n",
    "\n",
    "print('pX:\\n', pX)\n",
    "print('alpha_hat:\\n', alpha_hat)\n",
    "print('c:', c)\n",
    "print('prob_log:', prob_log, '\\n')\n",
    "\n",
    "print('pX_scaled:\\n', pX_scaled)\n",
    "print('alpha_hat_scaled:\\n', alpha_hat_scaled)\n",
    "print('c_scaled:', c_scaled)\n",
    "print('prob_log_scaled:', prob_log_scaled)"
   ]
  }
 ],
 "metadata": {
  "interpreter": {
   "hash": "06d44c9c82aa27bba694d0cc339861dc24d0a58737bf0a59e860c7b4211d2977"
  },
  "kernelspec": {
   "display_name": "Python 3 (ipykernel)",
   "language": "python",
   "name": "python3"
  },
  "language_info": {
   "codemirror_mode": {
    "name": "ipython",
    "version": 3
   },
   "file_extension": ".py",
   "mimetype": "text/x-python",
   "name": "python",
   "nbconvert_exporter": "python",
   "pygments_lexer": "ipython3",
   "version": "3.10.2"
  }
 },
 "nbformat": 4,
 "nbformat_minor": 2
}
