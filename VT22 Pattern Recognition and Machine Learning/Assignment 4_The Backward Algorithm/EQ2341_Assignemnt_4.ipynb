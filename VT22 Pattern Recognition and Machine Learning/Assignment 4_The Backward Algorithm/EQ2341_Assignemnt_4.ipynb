{
 "cells": [
  {
   "cell_type": "markdown",
   "id": "8199f818",
   "metadata": {},
   "source": [
    "## A.4 The Backward Algorithm"
   ]
  },
  {
   "cell_type": "code",
   "execution_count": 1,
   "id": "d80dfede",
   "metadata": {},
   "outputs": [],
   "source": [
    "from PRClasses import DiscreteD, GaussD, HMM, MarkovChain\n",
    "from matplotlib import pyplot as plt\n",
    "\n",
    "import numpy as np"
   ]
  },
  {
   "cell_type": "code",
   "execution_count": 12,
   "id": "57af77f2",
   "metadata": {},
   "outputs": [
    {
     "name": "stdout",
     "output_type": "stream",
     "text": [
      "px is:\n",
      "[[1.     0.0695 1.    ]\n",
      " [0.1418 1.     0.8111]]\n",
      "\n",
      "c is:\n",
      "[1.     0.1625 0.8266 0.0581]\n",
      "\n",
      "betaHat is:\n",
      "[[1.0003 1.0393 0.    ]\n",
      " [8.4182 9.3536 2.0822]]\n"
     ]
    }
   ],
   "source": [
    "# State generator\n",
    "q = np.array( [ 1, 0 ] )\n",
    "A = np.array( [ [ 0.9, 0.1, 0 ], [ 0, 0.9, 0.1 ] ] )\n",
    "             \n",
    "mc = MarkovChain(q, A) \n",
    "\n",
    "g1 = GaussD( means=[0], stdevs=[1] )   # Distribution for state = 1\n",
    "g2 = GaussD( means=[3], stdevs=[2] )   # Distribution for state = 2\n",
    "h  = HMM( mc, [g1, g2])                # The HMM\n",
    "\n",
    "# Generate an output sequence\n",
    "x = [-0.2, 2.6, 1.3]\n",
    "\n",
    "# Generate px and scaler factors\n",
    "px, scaler_px = h.Get_px(x)\n",
    "np.set_printoptions(precision=4)\n",
    "print(\"px is:\")\n",
    "print(px)\n",
    "print()\n",
    "\n",
    "# Print c\n",
    "c = np.array([1, 0.1625, 0.8266, 0.0581])\n",
    "print(\"c is:\")\n",
    "print(c)\n",
    "print()\n",
    "\n",
    "# The Backward Algorithm\n",
    "betaHat = mc.backward(px, c)\n",
    "print(\"betaHat is:\")\n",
    "print(betaHat)"
   ]
  },
  {
   "cell_type": "code",
   "execution_count": null,
   "id": "f1a97dec",
   "metadata": {},
   "outputs": [],
   "source": []
  }
 ],
 "metadata": {
  "kernelspec": {
   "display_name": "Python 3 (ipykernel)",
   "language": "python",
   "name": "python3"
  },
  "language_info": {
   "codemirror_mode": {
    "name": "ipython",
    "version": 3
   },
   "file_extension": ".py",
   "mimetype": "text/x-python",
   "name": "python",
   "nbconvert_exporter": "python",
   "pygments_lexer": "ipython3",
   "version": "3.9.7"
  }
 },
 "nbformat": 4,
 "nbformat_minor": 5
}
